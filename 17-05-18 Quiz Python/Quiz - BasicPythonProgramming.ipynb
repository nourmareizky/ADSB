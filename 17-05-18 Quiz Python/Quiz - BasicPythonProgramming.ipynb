{
 "cells": [
  {
   "cell_type": "markdown",
   "metadata": {},
   "source": [
    "## Quiz Evaluasi Materi Basic Python Programming"
   ]
  },
  {
   "cell_type": "code",
   "execution_count": 105,
   "metadata": {},
   "outputs": [
    {
     "name": "stdout",
     "output_type": "stream",
     "text": [
      "3.6.4\n"
     ]
    }
   ],
   "source": [
    "# Python version check\n",
    "import platform\n",
    "print(platform.python_version())"
   ]
  },
  {
   "cell_type": "markdown",
   "metadata": {},
   "source": [
    "### Library"
   ]
  },
  {
   "cell_type": "code",
   "execution_count": 167,
   "metadata": {},
   "outputs": [],
   "source": [
    "import pandas as pd\n",
    "import numpy as np\n",
    "import matplotlib.pyplot as plt\n",
    "import matplotlib.dates as mdates\n",
    "import seaborn as sns"
   ]
  },
  {
   "cell_type": "markdown",
   "metadata": {},
   "source": [
    "### Dataset"
   ]
  },
  {
   "cell_type": "markdown",
   "metadata": {},
   "source": [
    "**Original data source** : https://archive.ics.uci.edu/ml/datasets/bike+sharing+dataset\n",
    "\n",
    "**Summary**  \n",
    "Dataset contains daily count of rental bikes between years 2011 in Capital bikeshare system with the corresponding weather and seasonal information, provided in two separated table (bike and weather).Bike sharing systems are new generation of traditional bike rentals where whole process from membership, rental and return back has become automatic.User is able to easily rent a bike from a particular position and return back at another position.\n",
    "\n",
    "**Dictionary 'weather'**  \n",
    "datetime = date (format dd-mm-yy)  \n",
    "season = musim (Spring, Summer, Fall, Winter)  \n",
    "weather = cuaca (Clear, Cloudy, Light Snow)  \n",
    "temp = temperature, degC  \n",
    "hum = humidity, %  \n",
    "windspeed = kecepatan angin, km/h  \n",
    "\n",
    "**Dictionary 'bike'**  \n",
    "datetime = date (format dd-mm-yy)  \n",
    "casual = banyaknya bikesharing casual-user (non-member)  \n",
    "registered = banyaknya bikesharing casual-user (member)"
   ]
  },
  {
   "cell_type": "markdown",
   "metadata": {},
   "source": [
    "### Data Import & Quicklook"
   ]
  },
  {
   "cell_type": "code",
   "execution_count": 117,
   "metadata": {},
   "outputs": [],
   "source": [
    "bike = pd.read_csv(\"bike.csv\")\n",
    "weather = pd.read_csv(\"weather.csv\")"
   ]
  },
  {
   "cell_type": "code",
   "execution_count": 118,
   "metadata": {},
   "outputs": [
    {
     "name": "stdout",
     "output_type": "stream",
     "text": [
      "<class 'pandas.core.frame.DataFrame'>\n",
      "RangeIndex: 365 entries, 0 to 364\n",
      "Data columns (total 3 columns):\n",
      "date          365 non-null object\n",
      "casual        365 non-null int64\n",
      "registered    365 non-null int64\n",
      "dtypes: int64(2), object(1)\n",
      "memory usage: 8.6+ KB\n"
     ]
    }
   ],
   "source": [
    "bike.info()"
   ]
  },
  {
   "cell_type": "code",
   "execution_count": 119,
   "metadata": {},
   "outputs": [
    {
     "name": "stdout",
     "output_type": "stream",
     "text": [
      "<class 'pandas.core.frame.DataFrame'>\n",
      "RangeIndex: 365 entries, 0 to 364\n",
      "Data columns (total 6 columns):\n",
      "date         365 non-null object\n",
      "season       365 non-null object\n",
      "weather      365 non-null object\n",
      "temp         365 non-null float64\n",
      "hum          365 non-null float64\n",
      "windspeed    365 non-null float64\n",
      "dtypes: float64(3), object(3)\n",
      "memory usage: 17.2+ KB\n"
     ]
    }
   ],
   "source": [
    "weather.info()"
   ]
  },
  {
   "cell_type": "code",
   "execution_count": 120,
   "metadata": {},
   "outputs": [
    {
     "data": {
      "text/html": [
       "<div>\n",
       "<style scoped>\n",
       "    .dataframe tbody tr th:only-of-type {\n",
       "        vertical-align: middle;\n",
       "    }\n",
       "\n",
       "    .dataframe tbody tr th {\n",
       "        vertical-align: top;\n",
       "    }\n",
       "\n",
       "    .dataframe thead th {\n",
       "        text-align: right;\n",
       "    }\n",
       "</style>\n",
       "<table border=\"1\" class=\"dataframe\">\n",
       "  <thead>\n",
       "    <tr style=\"text-align: right;\">\n",
       "      <th></th>\n",
       "      <th>date</th>\n",
       "      <th>casual</th>\n",
       "      <th>registered</th>\n",
       "    </tr>\n",
       "  </thead>\n",
       "  <tbody>\n",
       "    <tr>\n",
       "      <th>0</th>\n",
       "      <td>01-01-11</td>\n",
       "      <td>331</td>\n",
       "      <td>654</td>\n",
       "    </tr>\n",
       "    <tr>\n",
       "      <th>1</th>\n",
       "      <td>02-01-11</td>\n",
       "      <td>131</td>\n",
       "      <td>670</td>\n",
       "    </tr>\n",
       "    <tr>\n",
       "      <th>2</th>\n",
       "      <td>03-01-11</td>\n",
       "      <td>120</td>\n",
       "      <td>1229</td>\n",
       "    </tr>\n",
       "  </tbody>\n",
       "</table>\n",
       "</div>"
      ],
      "text/plain": [
       "       date  casual  registered\n",
       "0  01-01-11     331         654\n",
       "1  02-01-11     131         670\n",
       "2  03-01-11     120        1229"
      ]
     },
     "execution_count": 120,
     "metadata": {},
     "output_type": "execute_result"
    }
   ],
   "source": [
    "bike.head(3)"
   ]
  },
  {
   "cell_type": "code",
   "execution_count": 121,
   "metadata": {},
   "outputs": [
    {
     "data": {
      "text/html": [
       "<div>\n",
       "<style scoped>\n",
       "    .dataframe tbody tr th:only-of-type {\n",
       "        vertical-align: middle;\n",
       "    }\n",
       "\n",
       "    .dataframe tbody tr th {\n",
       "        vertical-align: top;\n",
       "    }\n",
       "\n",
       "    .dataframe thead th {\n",
       "        text-align: right;\n",
       "    }\n",
       "</style>\n",
       "<table border=\"1\" class=\"dataframe\">\n",
       "  <thead>\n",
       "    <tr style=\"text-align: right;\">\n",
       "      <th></th>\n",
       "      <th>date</th>\n",
       "      <th>season</th>\n",
       "      <th>weather</th>\n",
       "      <th>temp</th>\n",
       "      <th>hum</th>\n",
       "      <th>windspeed</th>\n",
       "    </tr>\n",
       "  </thead>\n",
       "  <tbody>\n",
       "    <tr>\n",
       "      <th>0</th>\n",
       "      <td>01-01-11</td>\n",
       "      <td>Spring</td>\n",
       "      <td>Cloudy</td>\n",
       "      <td>34.4167</td>\n",
       "      <td>80.5833</td>\n",
       "      <td>10.749882</td>\n",
       "    </tr>\n",
       "    <tr>\n",
       "      <th>1</th>\n",
       "      <td>02-01-11</td>\n",
       "      <td>Spring</td>\n",
       "      <td>Cloudy</td>\n",
       "      <td>36.3478</td>\n",
       "      <td>69.6087</td>\n",
       "      <td>16.652113</td>\n",
       "    </tr>\n",
       "    <tr>\n",
       "      <th>2</th>\n",
       "      <td>03-01-11</td>\n",
       "      <td>Spring</td>\n",
       "      <td>Clear</td>\n",
       "      <td>19.6364</td>\n",
       "      <td>43.7273</td>\n",
       "      <td>16.636703</td>\n",
       "    </tr>\n",
       "  </tbody>\n",
       "</table>\n",
       "</div>"
      ],
      "text/plain": [
       "       date  season weather     temp      hum  windspeed\n",
       "0  01-01-11  Spring  Cloudy  34.4167  80.5833  10.749882\n",
       "1  02-01-11  Spring  Cloudy  36.3478  69.6087  16.652113\n",
       "2  03-01-11  Spring   Clear  19.6364  43.7273  16.636703"
      ]
     },
     "execution_count": 121,
     "metadata": {},
     "output_type": "execute_result"
    }
   ],
   "source": [
    "weather.head(3)\n"
   ]
  },
  {
   "cell_type": "markdown",
   "metadata": {},
   "source": [
    "## Part 1"
   ]
  },
  {
   "cell_type": "markdown",
   "metadata": {},
   "source": [
    "1.Tambahkan 1 kolom baru pada tabel 'bike' dengan nama kolom 'total', berisi jumlah casual-user dan registered-user"
   ]
  },
  {
   "cell_type": "code",
   "execution_count": 122,
   "metadata": {},
   "outputs": [],
   "source": [
    "# Answer 1\n",
    "bike['total'] = bike['casual'] + bike['registered']"
   ]
  },
  {
   "cell_type": "markdown",
   "metadata": {},
   "source": [
    "2.Tambahkan 1 kolom baru pada tabel 'weather' dengan nama kolom 'day' yang berisi nama hari berdasarkan tanggal pada kolom 'date'. Clue: Cara seperti exercise data 'pet' pada materi Python Programming 2 "
   ]
  },
  {
   "cell_type": "code",
   "execution_count": 123,
   "metadata": {},
   "outputs": [],
   "source": [
    "bike['date'] = pd.to_datetime(bike['date'])"
   ]
  },
  {
   "cell_type": "code",
   "execution_count": 124,
   "metadata": {},
   "outputs": [],
   "source": [
    "# Answer 2\n",
    "weather['date'] = pd.to_datetime(weather['date'])\n",
    "weather['day'] = weather['date'].dt.weekday_name\n"
   ]
  },
  {
   "cell_type": "markdown",
   "metadata": {},
   "source": [
    "3.Lakukan konversi unit temperature dari degC menjadi degF. Gunakan fungsi lambda"
   ]
  },
  {
   "cell_type": "code",
   "execution_count": 125,
   "metadata": {},
   "outputs": [
    {
     "data": {
      "text/plain": [
       "0       93.950060\n",
       "1       97.426040\n",
       "2       67.345520\n",
       "3       68.000000\n",
       "4       72.852260\n",
       "5       68.782640\n",
       "6       67.373960\n",
       "7       61.700000\n",
       "8       56.899940\n",
       "9       59.149940\n",
       "10      62.436380\n",
       "11      63.090860\n",
       "12      61.700000\n",
       "13      60.956600\n",
       "14      73.999940\n",
       "15      73.700060\n",
       "16      63.649940\n",
       "17      71.000060\n",
       "18      84.591320\n",
       "19      79.100060\n",
       "20      63.950000\n",
       "21      42.643472\n",
       "22      49.373906\n",
       "23      49.530434\n",
       "24      72.226040\n",
       "25      71.150000\n",
       "26      67.100000\n",
       "27      68.626040\n",
       "28      67.373960\n",
       "29      70.973960\n",
       "          ...    \n",
       "335     88.550060\n",
       "336     85.850060\n",
       "337     91.549940\n",
       "338    101.449940\n",
       "339    115.250000\n",
       "340    105.800000\n",
       "341     79.849940\n",
       "342     84.349940\n",
       "343     81.500000\n",
       "344     71.749940\n",
       "345     74.899940\n",
       "346     82.850000\n",
       "347     89.150000\n",
       "348    108.050000\n",
       "349     99.500000\n",
       "350     78.499940\n",
       "351     74.899940\n",
       "352     81.800060\n",
       "353    101.449940\n",
       "354    109.099940\n",
       "355    108.199940\n",
       "356     99.199940\n",
       "357     86.450000\n",
       "358     81.460940\n",
       "359     89.913020\n",
       "360     90.500000\n",
       "361     85.843400\n",
       "362     76.699940\n",
       "363     88.100060\n",
       "364    105.800000\n",
       "Name: temp, Length: 365, dtype: float64"
      ]
     },
     "execution_count": 125,
     "metadata": {},
     "output_type": "execute_result"
    }
   ],
   "source": [
    "# Answer 3\n",
    "weather['temp'] = list(map(lambda x : x*9/5+32,weather['temp'] ))\n",
    "weather['temp']"
   ]
  },
  {
   "cell_type": "markdown",
   "metadata": {},
   "source": [
    "4.Gabungkan data 'weather' dan data 'bike' berdasar tanggal yang bersesuaian"
   ]
  },
  {
   "cell_type": "code",
   "execution_count": 126,
   "metadata": {},
   "outputs": [
    {
     "data": {
      "text/html": [
       "<div>\n",
       "<style scoped>\n",
       "    .dataframe tbody tr th:only-of-type {\n",
       "        vertical-align: middle;\n",
       "    }\n",
       "\n",
       "    .dataframe tbody tr th {\n",
       "        vertical-align: top;\n",
       "    }\n",
       "\n",
       "    .dataframe thead th {\n",
       "        text-align: right;\n",
       "    }\n",
       "</style>\n",
       "<table border=\"1\" class=\"dataframe\">\n",
       "  <thead>\n",
       "    <tr style=\"text-align: right;\">\n",
       "      <th></th>\n",
       "      <th>date</th>\n",
       "      <th>casual</th>\n",
       "      <th>registered</th>\n",
       "      <th>total</th>\n",
       "      <th>season</th>\n",
       "      <th>weather</th>\n",
       "      <th>temp</th>\n",
       "      <th>hum</th>\n",
       "      <th>windspeed</th>\n",
       "      <th>day</th>\n",
       "    </tr>\n",
       "  </thead>\n",
       "  <tbody>\n",
       "    <tr>\n",
       "      <th>0</th>\n",
       "      <td>2011-01-01</td>\n",
       "      <td>331</td>\n",
       "      <td>654</td>\n",
       "      <td>985</td>\n",
       "      <td>Spring</td>\n",
       "      <td>Cloudy</td>\n",
       "      <td>93.95006</td>\n",
       "      <td>80.5833</td>\n",
       "      <td>10.749882</td>\n",
       "      <td>Saturday</td>\n",
       "    </tr>\n",
       "    <tr>\n",
       "      <th>1</th>\n",
       "      <td>2011-02-01</td>\n",
       "      <td>131</td>\n",
       "      <td>670</td>\n",
       "      <td>801</td>\n",
       "      <td>Spring</td>\n",
       "      <td>Cloudy</td>\n",
       "      <td>97.42604</td>\n",
       "      <td>69.6087</td>\n",
       "      <td>16.652113</td>\n",
       "      <td>Tuesday</td>\n",
       "    </tr>\n",
       "    <tr>\n",
       "      <th>2</th>\n",
       "      <td>2011-03-01</td>\n",
       "      <td>120</td>\n",
       "      <td>1229</td>\n",
       "      <td>1349</td>\n",
       "      <td>Spring</td>\n",
       "      <td>Clear</td>\n",
       "      <td>67.34552</td>\n",
       "      <td>43.7273</td>\n",
       "      <td>16.636703</td>\n",
       "      <td>Tuesday</td>\n",
       "    </tr>\n",
       "    <tr>\n",
       "      <th>3</th>\n",
       "      <td>2011-04-01</td>\n",
       "      <td>108</td>\n",
       "      <td>1454</td>\n",
       "      <td>1562</td>\n",
       "      <td>Spring</td>\n",
       "      <td>Clear</td>\n",
       "      <td>68.00000</td>\n",
       "      <td>59.0435</td>\n",
       "      <td>10.739832</td>\n",
       "      <td>Friday</td>\n",
       "    </tr>\n",
       "    <tr>\n",
       "      <th>4</th>\n",
       "      <td>2011-05-01</td>\n",
       "      <td>82</td>\n",
       "      <td>1518</td>\n",
       "      <td>1600</td>\n",
       "      <td>Spring</td>\n",
       "      <td>Clear</td>\n",
       "      <td>72.85226</td>\n",
       "      <td>43.6957</td>\n",
       "      <td>12.522300</td>\n",
       "      <td>Sunday</td>\n",
       "    </tr>\n",
       "    <tr>\n",
       "      <th>5</th>\n",
       "      <td>2011-06-01</td>\n",
       "      <td>88</td>\n",
       "      <td>1518</td>\n",
       "      <td>1606</td>\n",
       "      <td>Spring</td>\n",
       "      <td>Clear</td>\n",
       "      <td>68.78264</td>\n",
       "      <td>51.8261</td>\n",
       "      <td>6.000868</td>\n",
       "      <td>Wednesday</td>\n",
       "    </tr>\n",
       "    <tr>\n",
       "      <th>6</th>\n",
       "      <td>2011-07-01</td>\n",
       "      <td>148</td>\n",
       "      <td>1362</td>\n",
       "      <td>1510</td>\n",
       "      <td>Spring</td>\n",
       "      <td>Cloudy</td>\n",
       "      <td>67.37396</td>\n",
       "      <td>49.8696</td>\n",
       "      <td>11.304642</td>\n",
       "      <td>Friday</td>\n",
       "    </tr>\n",
       "    <tr>\n",
       "      <th>7</th>\n",
       "      <td>2011-08-01</td>\n",
       "      <td>68</td>\n",
       "      <td>891</td>\n",
       "      <td>959</td>\n",
       "      <td>Spring</td>\n",
       "      <td>Cloudy</td>\n",
       "      <td>61.70000</td>\n",
       "      <td>53.5833</td>\n",
       "      <td>17.875868</td>\n",
       "      <td>Monday</td>\n",
       "    </tr>\n",
       "    <tr>\n",
       "      <th>8</th>\n",
       "      <td>2011-09-01</td>\n",
       "      <td>54</td>\n",
       "      <td>768</td>\n",
       "      <td>822</td>\n",
       "      <td>Spring</td>\n",
       "      <td>Clear</td>\n",
       "      <td>56.89994</td>\n",
       "      <td>43.4167</td>\n",
       "      <td>24.250650</td>\n",
       "      <td>Thursday</td>\n",
       "    </tr>\n",
       "    <tr>\n",
       "      <th>9</th>\n",
       "      <td>2011-10-01</td>\n",
       "      <td>41</td>\n",
       "      <td>1280</td>\n",
       "      <td>1321</td>\n",
       "      <td>Spring</td>\n",
       "      <td>Clear</td>\n",
       "      <td>59.14994</td>\n",
       "      <td>48.2917</td>\n",
       "      <td>14.958889</td>\n",
       "      <td>Saturday</td>\n",
       "    </tr>\n",
       "  </tbody>\n",
       "</table>\n",
       "</div>"
      ],
      "text/plain": [
       "        date  casual  registered  total  season weather      temp      hum  \\\n",
       "0 2011-01-01     331         654    985  Spring  Cloudy  93.95006  80.5833   \n",
       "1 2011-02-01     131         670    801  Spring  Cloudy  97.42604  69.6087   \n",
       "2 2011-03-01     120        1229   1349  Spring   Clear  67.34552  43.7273   \n",
       "3 2011-04-01     108        1454   1562  Spring   Clear  68.00000  59.0435   \n",
       "4 2011-05-01      82        1518   1600  Spring   Clear  72.85226  43.6957   \n",
       "5 2011-06-01      88        1518   1606  Spring   Clear  68.78264  51.8261   \n",
       "6 2011-07-01     148        1362   1510  Spring  Cloudy  67.37396  49.8696   \n",
       "7 2011-08-01      68         891    959  Spring  Cloudy  61.70000  53.5833   \n",
       "8 2011-09-01      54         768    822  Spring   Clear  56.89994  43.4167   \n",
       "9 2011-10-01      41        1280   1321  Spring   Clear  59.14994  48.2917   \n",
       "\n",
       "   windspeed        day  \n",
       "0  10.749882   Saturday  \n",
       "1  16.652113    Tuesday  \n",
       "2  16.636703    Tuesday  \n",
       "3  10.739832     Friday  \n",
       "4  12.522300     Sunday  \n",
       "5   6.000868  Wednesday  \n",
       "6  11.304642     Friday  \n",
       "7  17.875868     Monday  \n",
       "8  24.250650   Thursday  \n",
       "9  14.958889   Saturday  "
      ]
     },
     "execution_count": 126,
     "metadata": {},
     "output_type": "execute_result"
    }
   ],
   "source": [
    "# Answer 4\n",
    "data = pd.merge(bike,weather,how='inner',on='date')\n",
    "data.head(10)\n"
   ]
  },
  {
   "cell_type": "markdown",
   "metadata": {},
   "source": [
    "5.Pada musim dan cuaca apa bikesharing a)Paling banyak digunakan, b)Paling sedikit digunakan"
   ]
  },
  {
   "cell_type": "code",
   "execution_count": 142,
   "metadata": {},
   "outputs": [
    {
     "name": "stdout",
     "output_type": "stream",
     "text": [
      "                 total\n",
      "season weather        \n",
      "Fall   Clear    309150\n",
      "                   total\n",
      "season weather          \n",
      "Spring Light Snow   1129\n"
     ]
    }
   ],
   "source": [
    "# Answer 5\n",
    "#a\n",
    "x = data.groupby(['season','weather']).sum()[['total']].sort_values(by='total',ascending=False)\n",
    "print(x.head(1))\n",
    "print(x.tail(1))\n"
   ]
  },
  {
   "cell_type": "markdown",
   "metadata": {},
   "source": [
    "6.Tampilkan informasi nilai maximum dan nilai minimum dari variable 'temp', 'hum' dan 'winspeed' untuk setiap kategori musim"
   ]
  },
  {
   "cell_type": "code",
   "execution_count": 165,
   "metadata": {},
   "outputs": [
    {
     "name": "stdout",
     "output_type": "stream",
     "text": [
      "             temp      hum  windspeed\n",
      "season                               \n",
      "Fall    184.85006  93.9565  25.166339\n",
      "Spring  129.20000  94.8261  34.000021\n",
      "Summer  177.49994  92.2500  26.000489\n",
      "Winter  148.85006  97.2500  28.292425\n",
      "              temp      hum  windspeed\n",
      "season                                \n",
      "Fall    116.450060  39.6250   5.459106\n",
      "Spring   42.643472   0.0000   3.042356\n",
      "Summer   77.547740  30.2174   5.000712\n",
      "Winter   71.749940  41.0000   1.500244\n"
     ]
    }
   ],
   "source": [
    "# Answer 6\n",
    "print(data.groupby('season')['temp','hum','windspeed'].max())\n",
    "print(data.groupby('season')['temp','hum','windspeed'].min())\n",
    "# data.describe()"
   ]
  },
  {
   "cell_type": "markdown",
   "metadata": {},
   "source": [
    "7.Buat plot untuk memvisualisasikan hubungan antara temp (unit degF) dengan total pengguna bikesharing. Customize plot dengan ukuran, judul, pilihan warna, label yang sesuai agar lebih informatif. "
   ]
  },
  {
   "cell_type": "code",
   "execution_count": 179,
   "metadata": {},
   "outputs": [
    {
     "data": {
      "image/png": "[encoded data removed]",
      "text/plain": [
       "<matplotlib.figure.Figure at 0x24ce466c400>"
      ]
     },
     "metadata": {},
     "output_type": "display_data"
    }
   ],
   "source": [
    "# Answer 7\n",
    "sns.lmplot(x='total', y = 'temp', data=data,palette='Set1',hue='weather') #linear model plot. Linear model + regresi\n",
    "plt.title('Hubungan temperatur dan total pengguna bikesharing')\n",
    "plt.ylabel('Temperatur (degree Fahrenheit)')\n",
    "plt.xlabel('Total pengguna bikesharing')\n",
    "# plt.legend(bbox_to_anchor=(1,1))\n",
    "plt.show()"
   ]
  },
  {
   "cell_type": "markdown",
   "metadata": {},
   "source": [
    "8.Tampilkan dengan grafik (barplot) jumlah pengguna bikesharing untuk setiap kategori musim. Urutkan dari kiri ke kanan mulai dari frekuensi tertinggi."
   ]
  },
  {
   "cell_type": "code",
   "execution_count": 191,
   "metadata": {},
   "outputs": [
    {
     "data": {
      "text/html": [
       "<div>\n",
       "<style scoped>\n",
       "    .dataframe tbody tr th:only-of-type {\n",
       "        vertical-align: middle;\n",
       "    }\n",
       "\n",
       "    .dataframe tbody tr th {\n",
       "        vertical-align: top;\n",
       "    }\n",
       "\n",
       "    .dataframe thead th {\n",
       "        text-align: right;\n",
       "    }\n",
       "</style>\n",
       "<table border=\"1\" class=\"dataframe\">\n",
       "  <thead>\n",
       "    <tr style=\"text-align: right;\">\n",
       "      <th></th>\n",
       "      <th>season</th>\n",
       "      <th>casual</th>\n",
       "      <th>registered</th>\n",
       "      <th>total</th>\n",
       "      <th>temp</th>\n",
       "      <th>hum</th>\n",
       "      <th>windspeed</th>\n",
       "    </tr>\n",
       "  </thead>\n",
       "  <tbody>\n",
       "    <tr>\n",
       "      <th>0</th>\n",
       "      <td>Fall</td>\n",
       "      <td>95450</td>\n",
       "      <td>324200</td>\n",
       "      <td>419650</td>\n",
       "      <td>14871.857960</td>\n",
       "      <td>6059.9627</td>\n",
       "      <td>1116.685355</td>\n",
       "    </tr>\n",
       "    <tr>\n",
       "      <th>1</th>\n",
       "      <td>Summer</td>\n",
       "      <td>77564</td>\n",
       "      <td>269752</td>\n",
       "      <td>347316</td>\n",
       "      <td>11791.228780</td>\n",
       "      <td>6055.6247</td>\n",
       "      <td>1268.413414</td>\n",
       "    </tr>\n",
       "    <tr>\n",
       "      <th>2</th>\n",
       "      <td>Winter</td>\n",
       "      <td>52813</td>\n",
       "      <td>273324</td>\n",
       "      <td>326137</td>\n",
       "      <td>9679.639360</td>\n",
       "      <td>6177.7842</td>\n",
       "      <td>1002.571886</td>\n",
       "    </tr>\n",
       "    <tr>\n",
       "      <th>3</th>\n",
       "      <td>Spring</td>\n",
       "      <td>21425</td>\n",
       "      <td>128575</td>\n",
       "      <td>150000</td>\n",
       "      <td>7311.161052</td>\n",
       "      <td>5200.3924</td>\n",
       "      <td>1293.080778</td>\n",
       "    </tr>\n",
       "  </tbody>\n",
       "</table>\n",
       "</div>"
      ],
      "text/plain": [
       "   season  casual  registered   total          temp        hum    windspeed\n",
       "0    Fall   95450      324200  419650  14871.857960  6059.9627  1116.685355\n",
       "1  Summer   77564      269752  347316  11791.228780  6055.6247  1268.413414\n",
       "2  Winter   52813      273324  326137   9679.639360  6177.7842  1002.571886\n",
       "3  Spring   21425      128575  150000   7311.161052  5200.3924  1293.080778"
      ]
     },
     "execution_count": 191,
     "metadata": {},
     "output_type": "execute_result"
    }
   ],
   "source": [
    "# Answer 8\n",
    "# [answer]\n",
    "g = data.groupby('season').sum()\n",
    "urutbymusim = g.sort_values(by = 'total', ascending = False).reset_index()\n",
    "urutbymusim"
   ]
  },
  {
   "cell_type": "code",
   "execution_count": 193,
   "metadata": {},
   "outputs": [
    {
     "data": {
      "text/plain": [
       "Text(0.5,0,'Musim')"
      ]
     },
     "execution_count": 193,
     "metadata": {},
     "output_type": "execute_result"
    },
    {
     "data": {
      "image/png": "[encoded data removed]",
      "text/plain": [
       "<matplotlib.figure.Figure at 0x24ce3295b00>"
      ]
     },
     "metadata": {},
     "output_type": "display_data"
    }
   ],
   "source": [
    "sns.barplot(x = 'season',y='total', data=urutbymusim)\n",
    "plt.title('Grafik jumlah pengguna bike sharing berdasarkan musim')\n",
    "plt.ylabel('Jumlah pengguna bikesharing')\n",
    "plt.xlabel('Musim')"
   ]
  },
  {
   "cell_type": "markdown",
   "metadata": {},
   "source": [
    "9.Cara untuk menampilkan histogram dari data pandas menggunakan matplotlib adalah \n",
    "  \n",
    "a.\tplt.histogram(x,bins = 15)  \n",
    "b.\tplt.bucket(x,bins = 15)  \n",
    "c.\tplt.hist(x,bins = 15)  \n",
    "d.\tplt.bar(x,bins = 15)  \n",
    "e.\tplt.his(x,bins = 15)  \n"
   ]
  },
  {
   "cell_type": "markdown",
   "metadata": {
    "collapsed": true
   },
   "source": [
    "# Answer 9\n",
    "### C. plt.hist(x,bins = 15)\n"
   ]
  },
  {
   "cell_type": "markdown",
   "metadata": {},
   "source": [
    "10.Cara untuk menampilkan scatterplot dan garis regresi menggunakan seaborn adalah  \n",
    "  \n",
    "a.\tsns.regression  \n",
    "b.\tsns.lmplot  \n",
    "c.\tsns.linearregression  \n",
    "d.\tsns.scatterplot  \n",
    "e.\tsns.lmreg  \n"
   ]
  },
  {
   "cell_type": "markdown",
   "metadata": {
    "collapsed": true
   },
   "source": [
    "# Answer 10\n",
    "### B. sns.lmplot"
   ]
  },
  {
   "cell_type": "markdown",
   "metadata": {},
   "source": [
    "11.Kota tempat tinggal pemain sepak bola merupakan tipe variable  \n",
    "  \n",
    "a.\tRating  \n",
    "b.\tRatio  \n",
    "c.\tNominal  \n",
    "d.\tContinuous  \n",
    "e.\tOrdinal\n"
   ]
  },
  {
   "cell_type": "markdown",
   "metadata": {
    "collapsed": true
   },
   "source": [
    "# Answer 11\n",
    "### C. Nominal"
   ]
  },
  {
   "cell_type": "markdown",
   "metadata": {},
   "source": [
    "12.Untuk menempatkan label atau tulisan atau tanda panah dalam visualisasi dapat menggunakan method  \n",
    "  \n",
    "a.\tLegend  \n",
    "b.\tArrow  \n",
    "c.\tLabel  \n",
    "d.\tText  \n",
    "e.\tAnnotate\n"
   ]
  },
  {
   "cell_type": "markdown",
   "metadata": {
    "collapsed": true
   },
   "source": [
    "# Answer 12\n",
    "### E. Annotate"
   ]
  },
  {
   "cell_type": "markdown",
   "metadata": {},
   "source": [
    "13.Yang termasuk dalam style yang dapat digunakan dalam matplotlib  \n",
    "  \n",
    "a.\tgplot  \n",
    "b.\tblackandwhite  \n",
    "c.\tsephia  \n",
    "d.\tgray  \n",
    "e.\tggplot  \n"
   ]
  },
  {
   "cell_type": "markdown",
   "metadata": {
    "collapsed": true
   },
   "source": [
    "# Answer 13\n",
    "### E. ggplot"
   ]
  },
  {
   "cell_type": "markdown",
   "metadata": {},
   "source": [
    "## Part 2"
   ]
  },
  {
   "cell_type": "markdown",
   "metadata": {},
   "source": [
    "1.Jelaskan perbedaan dari exploratory dan explanatory dari sisi visualisasi"
   ]
  },
  {
   "cell_type": "markdown",
   "metadata": {},
   "source": [
    "Exploratory yaitu cara mencari tau karakteristik dan gambaran data secara detail dan lebih cocok diperuntukan bagi data scientist. Visualisasi exploratory lebih fokus pada plot plot yang menampilkan data dari sgei statistik deskriptif untuk mengetahui tahapan pengolahan hubungan data.\n",
    "\n",
    "Explanatory merupakan teknik visualisasi data yang diperuntukkan bagi orang umum, yang mudah dipahami sehingga didapatkan informasi atau kesimpulan dari data tersebut. Explanatory fokus pada visualisasi dan style yang menarik tetapi juga mudah dipahami (pie chart, barplot). Bahkan pada tahap ini bisa juga menampilkan teks kesimpulan."
   ]
  },
  {
   "cell_type": "markdown",
   "metadata": {},
   "source": [
    "2.Jelaskan factor apa saja yang perlu dipertimbangkan dalam memilih visualisasi atau plot apa yang ingin ditampilkan dalam tahap exploration"
   ]
  },
  {
   "cell_type": "markdown",
   "metadata": {},
   "source": [
    "Plot : memilih plot yang sesuai dengan karakter dan gambaran umum data. \n"
   ]
  },
  {
   "cell_type": "markdown",
   "metadata": {},
   "source": [
    "Karakteristik data : seberapa banyak, jenis dan tipe data yang akan diolah. Karena, setiap tipe data memiliki grafik atau visualisasi yang berbeda-beda. \n"
   ]
  },
  {
   "cell_type": "markdown",
   "metadata": {},
   "source": [
    "Tujuan : dalam proses visualisasi, tidak semua data perlu digunakan. Hanya data-data tertentu yang memiliki keterkaitan dengan tujuan yang perlu digunakan dan diolah\n"
   ]
  },
  {
   "cell_type": "markdown",
   "metadata": {},
   "source": [
    "Hipotesis : Kita perlu memiliki pandangan atau gambaran awal dari tadi sebelum melakukan visualisasi"
   ]
  },
  {
   "cell_type": "markdown",
   "metadata": {},
   "source": [
    "3.Buat 1 grafik Time series yang menampilkan banyaknya pengguna bikesharing dari 1-Jan-2011 sampai 31-Des-2011. Ingin diketahui juga komposisi banyaknya casual-user dan registered user. Clue: 1)Gunakan data 'casual' dan 'registered', bukan data 'total. 2)Opsi menggunakan area plot"
   ]
  },
  {
   "cell_type": "code",
   "execution_count": 206,
   "metadata": {},
   "outputs": [
    {
     "data": {
      "image/png": "[encoded data removed]",
      "text/plain": [
       "<matplotlib.figure.Figure at 0x24ce30b0f28>"
      ]
     },
     "metadata": {},
     "output_type": "display_data"
    }
   ],
   "source": [
    "# answer 3\n",
    "# data.set_index('date',inplace=True)\n",
    "data[['casual','registered']].plot.area(title= 'Stock Price')\n",
    "plt.ylabel('Banyaknya pengguna bikesharing')\n",
    "plt.xlabel('By date')\n",
    "plt.legend(bbox_to_anchor=(1,1))\n",
    "plt.show()"
   ]
  },
  {
   "cell_type": "code",
   "execution_count": null,
   "metadata": {},
   "outputs": [],
   "source": []
  }
 ],
 "metadata": {
  "kernelspec": {
   "display_name": "Python 3",
   "language": "python",
   "name": "python3"
  },
  "language_info": {
   "codemirror_mode": {
    "name": "ipython",
    "version": 3
   },
   "file_extension": ".py",
   "mimetype": "text/x-python",
   "name": "python",
   "nbconvert_exporter": "python",
   "pygments_lexer": "ipython3",
   "version": "3.6.4"
  }
 },
 "nbformat": 4,
 "nbformat_minor": 2
}
