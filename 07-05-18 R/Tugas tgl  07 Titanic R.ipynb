{
 "cells": [
  {
   "cell_type": "code",
   "execution_count": 31,
   "metadata": {},
   "outputs": [],
   "source": [
    "#install.packages(\"ggplot2\")\n",
    "library(ggplot2)\n",
    "?ggplot"
   ]
  },
  {
   "cell_type": "code",
   "execution_count": 11,
   "metadata": {},
   "outputs": [],
   "source": [
    "library(readxl)\n",
    "titanic <- read.csv(\"C:/Users/nourma059258/Documents/titanic.csv\")"
   ]
  },
  {
   "cell_type": "code",
   "execution_count": 12,
   "metadata": {
    "collapsed": true
   },
   "outputs": [
    {
     "data": {
      "text/html": [
       "891"
      ],
      "text/latex": [
       "891"
      ],
      "text/markdown": [
       "891"
      ],
      "text/plain": [
       "[1] 891"
      ]
     },
     "metadata": {},
     "output_type": "display_data"
    },
    {
     "data": {
      "text/html": [
       "<dl class=dl-horizontal>\n",
       "\t<dt>PassengerId</dt>\n",
       "\t\t<dd>'integer'</dd>\n",
       "\t<dt>Survived</dt>\n",
       "\t\t<dd>'integer'</dd>\n",
       "\t<dt>Pclass</dt>\n",
       "\t\t<dd>'integer'</dd>\n",
       "\t<dt>Name</dt>\n",
       "\t\t<dd>'factor'</dd>\n",
       "\t<dt>Sex</dt>\n",
       "\t\t<dd>'factor'</dd>\n",
       "\t<dt>Age</dt>\n",
       "\t\t<dd>'numeric'</dd>\n",
       "\t<dt>SibSp</dt>\n",
       "\t\t<dd>'integer'</dd>\n",
       "\t<dt>Parch</dt>\n",
       "\t\t<dd>'integer'</dd>\n",
       "\t<dt>Ticket</dt>\n",
       "\t\t<dd>'factor'</dd>\n",
       "\t<dt>Fare</dt>\n",
       "\t\t<dd>'numeric'</dd>\n",
       "\t<dt>Cabin</dt>\n",
       "\t\t<dd>'factor'</dd>\n",
       "\t<dt>Embarked</dt>\n",
       "\t\t<dd>'factor'</dd>\n",
       "</dl>\n"
      ],
      "text/latex": [
       "\\begin{description*}\n",
       "\\item[PassengerId] 'integer'\n",
       "\\item[Survived] 'integer'\n",
       "\\item[Pclass] 'integer'\n",
       "\\item[Name] 'factor'\n",
       "\\item[Sex] 'factor'\n",
       "\\item[Age] 'numeric'\n",
       "\\item[SibSp] 'integer'\n",
       "\\item[Parch] 'integer'\n",
       "\\item[Ticket] 'factor'\n",
       "\\item[Fare] 'numeric'\n",
       "\\item[Cabin] 'factor'\n",
       "\\item[Embarked] 'factor'\n",
       "\\end{description*}\n"
      ],
      "text/markdown": [
       "PassengerId\n",
       ":   'integer'Survived\n",
       ":   'integer'Pclass\n",
       ":   'integer'Name\n",
       ":   'factor'Sex\n",
       ":   'factor'Age\n",
       ":   'numeric'SibSp\n",
       ":   'integer'Parch\n",
       ":   'integer'Ticket\n",
       ":   'factor'Fare\n",
       ":   'numeric'Cabin\n",
       ":   'factor'Embarked\n",
       ":   'factor'\n",
       "\n"
      ],
      "text/plain": [
       "PassengerId    Survived      Pclass        Name         Sex         Age \n",
       "  \"integer\"   \"integer\"   \"integer\"    \"factor\"    \"factor\"   \"numeric\" \n",
       "      SibSp       Parch      Ticket        Fare       Cabin    Embarked \n",
       "  \"integer\"   \"integer\"    \"factor\"   \"numeric\"    \"factor\"    \"factor\" "
      ]
     },
     "metadata": {},
     "output_type": "display_data"
    }
   ],
   "source": [
    "nrow(titanic)\n",
    "sapply(titanic, class) #melihat tipe data"
   ]
  },
  {
   "cell_type": "code",
   "execution_count": 22,
   "metadata": {
    "collapsed": true
   },
   "outputs": [
    {
     "data": {
      "text/html": [
       "<table>\n",
       "<thead><tr><th scope=col>PassengerId</th><th scope=col>Survived</th><th scope=col>Pclass</th><th scope=col>Name</th><th scope=col>Sex</th><th scope=col>Age</th><th scope=col>SibSp</th><th scope=col>Parch</th><th scope=col>Ticket</th><th scope=col>Fare</th><th scope=col>Cabin</th><th scope=col>Embarked</th></tr></thead>\n",
       "<tbody>\n",
       "\t<tr><td> 1                                                     </td><td>0                                                      </td><td>3                                                      </td><td>Braund, Mr. Owen Harris                                </td><td>male                                                   </td><td>22                                                     </td><td>1                                                      </td><td>0                                                      </td><td>A/5 21171                                              </td><td> 7.2500                                                </td><td>                                                       </td><td>S                                                      </td></tr>\n",
       "\t<tr><td> 2                                                     </td><td>1                                                      </td><td>1                                                      </td><td>Cumings, Mrs. John Bradley (Florence Briggs Thayer)    </td><td>female                                                 </td><td>38                                                     </td><td>1                                                      </td><td>0                                                      </td><td>PC 17599                                               </td><td>71.2833                                                </td><td>C85                                                    </td><td>C                                                      </td></tr>\n",
       "\t<tr><td> 3                                                     </td><td>1                                                      </td><td>3                                                      </td><td>Heikkinen, Miss. Laina                                 </td><td>female                                                 </td><td>26                                                     </td><td>0                                                      </td><td>0                                                      </td><td>STON/O2. 3101282                                       </td><td> 7.9250                                                </td><td>                                                       </td><td>S                                                      </td></tr>\n",
       "\t<tr><td> 4                                                     </td><td>1                                                      </td><td>1                                                      </td><td>Futrelle, Mrs. Jacques Heath (Lily May Peel)           </td><td>female                                                 </td><td>35                                                     </td><td>1                                                      </td><td>0                                                      </td><td>113803                                                 </td><td>53.1000                                                </td><td>C123                                                   </td><td>S                                                      </td></tr>\n",
       "\t<tr><td> 5                                                     </td><td>0                                                      </td><td>3                                                      </td><td>Allen, Mr. William Henry                               </td><td>male                                                   </td><td>35                                                     </td><td>0                                                      </td><td>0                                                      </td><td>373450                                                 </td><td> 8.0500                                                </td><td>                                                       </td><td>S                                                      </td></tr>\n",
       "\t<tr><td> 6                                                     </td><td>0                                                      </td><td>3                                                      </td><td>Moran, Mr. James                                       </td><td>male                                                   </td><td>NA                                                     </td><td>0                                                      </td><td>0                                                      </td><td>330877                                                 </td><td> 8.4583                                                </td><td>                                                       </td><td>Q                                                      </td></tr>\n",
       "\t<tr><td> 7                                                     </td><td>0                                                      </td><td>1                                                      </td><td>McCarthy, Mr. Timothy J                                </td><td>male                                                   </td><td>54                                                     </td><td>0                                                      </td><td>0                                                      </td><td>17463                                                  </td><td>51.8625                                                </td><td>E46                                                    </td><td>S                                                      </td></tr>\n",
       "\t<tr><td> 8                                                     </td><td>0                                                      </td><td>3                                                      </td><td>Palsson, Master. Gosta Leonard                         </td><td>male                                                   </td><td> 2                                                     </td><td>3                                                      </td><td>1                                                      </td><td>349909                                                 </td><td>21.0750                                                </td><td>                                                       </td><td>S                                                      </td></tr>\n",
       "\t<tr><td> 9                                                     </td><td>1                                                      </td><td>3                                                      </td><td>Johnson, Mrs. Oscar W (Elisabeth Vilhelmina Berg)      </td><td>female                                                 </td><td>27                                                     </td><td>0                                                      </td><td>2                                                      </td><td>347742                                                 </td><td>11.1333                                                </td><td>                                                       </td><td>S                                                      </td></tr>\n",
       "\t<tr><td>10                                                     </td><td>1                                                      </td><td>2                                                      </td><td>Nasser, Mrs. Nicholas (Adele Achem)                    </td><td>female                                                 </td><td>14                                                     </td><td>1                                                      </td><td>0                                                      </td><td>237736                                                 </td><td>30.0708                                                </td><td>                                                       </td><td>C                                                      </td></tr>\n",
       "\t<tr><td>11                                                     </td><td>1                                                      </td><td>3                                                      </td><td>Sandstrom, Miss. Marguerite Rut                        </td><td>female                                                 </td><td> 4                                                     </td><td>1                                                      </td><td>1                                                      </td><td>PP 9549                                                </td><td>16.7000                                                </td><td>G6                                                     </td><td>S                                                      </td></tr>\n",
       "\t<tr><td>12                                                     </td><td>1                                                      </td><td>1                                                      </td><td>Bonnell, Miss. Elizabeth                               </td><td>female                                                 </td><td>58                                                     </td><td>0                                                      </td><td>0                                                      </td><td>113783                                                 </td><td>26.5500                                                </td><td>C103                                                   </td><td>S                                                      </td></tr>\n",
       "\t<tr><td>13                                                     </td><td>0                                                      </td><td>3                                                      </td><td>Saundercock, Mr. William Henry                         </td><td>male                                                   </td><td>20                                                     </td><td>0                                                      </td><td>0                                                      </td><td>A/5. 2151                                              </td><td> 8.0500                                                </td><td>                                                       </td><td>S                                                      </td></tr>\n",
       "\t<tr><td>14                                                     </td><td>0                                                      </td><td>3                                                      </td><td>Andersson, Mr. Anders Johan                            </td><td>male                                                   </td><td>39                                                     </td><td>1                                                      </td><td>5                                                      </td><td>347082                                                 </td><td>31.2750                                                </td><td>                                                       </td><td>S                                                      </td></tr>\n",
       "\t<tr><td>15                                                     </td><td>0                                                      </td><td>3                                                      </td><td>Vestrom, Miss. Hulda Amanda Adolfina                   </td><td>female                                                 </td><td>14                                                     </td><td>0                                                      </td><td>0                                                      </td><td>350406                                                 </td><td> 7.8542                                                </td><td>                                                       </td><td>S                                                      </td></tr>\n",
       "\t<tr><td>16                                                     </td><td>1                                                      </td><td>2                                                      </td><td>Hewlett, Mrs. (Mary D Kingcome)                        </td><td>female                                                 </td><td>55                                                     </td><td>0                                                      </td><td>0                                                      </td><td>248706                                                 </td><td>16.0000                                                </td><td>                                                       </td><td>S                                                      </td></tr>\n",
       "\t<tr><td>17                                                     </td><td>0                                                      </td><td>3                                                      </td><td>Rice, Master. Eugene                                   </td><td>male                                                   </td><td> 2                                                     </td><td>4                                                      </td><td>1                                                      </td><td>382652                                                 </td><td>29.1250                                                </td><td>                                                       </td><td>Q                                                      </td></tr>\n",
       "\t<tr><td>18                                                     </td><td>1                                                      </td><td>2                                                      </td><td>Williams, Mr. Charles Eugene                           </td><td>male                                                   </td><td>NA                                                     </td><td>0                                                      </td><td>0                                                      </td><td>244373                                                 </td><td>13.0000                                                </td><td>                                                       </td><td>S                                                      </td></tr>\n",
       "\t<tr><td>19                                                     </td><td>0                                                      </td><td>3                                                      </td><td>Vander Planke, Mrs. Julius (Emelia Maria Vandemoortele)</td><td>female                                                 </td><td>31                                                     </td><td>1                                                      </td><td>0                                                      </td><td>345763                                                 </td><td>18.0000                                                </td><td>                                                       </td><td>S                                                      </td></tr>\n",
       "\t<tr><td>20                                                     </td><td>1                                                      </td><td>3                                                      </td><td>Masselmani, Mrs. Fatima                                </td><td>female                                                 </td><td>NA                                                     </td><td>0                                                      </td><td>0                                                      </td><td>2649                                                   </td><td> 7.2250                                                </td><td>                                                       </td><td>C                                                      </td></tr>\n",
       "</tbody>\n",
       "</table>\n"
      ],
      "text/latex": [
       "\\begin{tabular}{r|llllllllllll}\n",
       " PassengerId & Survived & Pclass & Name & Sex & Age & SibSp & Parch & Ticket & Fare & Cabin & Embarked\\\\\n",
       "\\hline\n",
       "\t  1                                                      & 0                                                       & 3                                                       & Braund, Mr. Owen Harris                                 & male                                                    & 22                                                      & 1                                                       & 0                                                       & A/5 21171                                               &  7.2500                                                 &                                                         & S                                                      \\\\\n",
       "\t  2                                                      & 1                                                       & 1                                                       & Cumings, Mrs. John Bradley (Florence Briggs Thayer)     & female                                                  & 38                                                      & 1                                                       & 0                                                       & PC 17599                                                & 71.2833                                                 & C85                                                     & C                                                      \\\\\n",
       "\t  3                                                      & 1                                                       & 3                                                       & Heikkinen, Miss. Laina                                  & female                                                  & 26                                                      & 0                                                       & 0                                                       & STON/O2. 3101282                                        &  7.9250                                                 &                                                         & S                                                      \\\\\n",
       "\t  4                                                      & 1                                                       & 1                                                       & Futrelle, Mrs. Jacques Heath (Lily May Peel)            & female                                                  & 35                                                      & 1                                                       & 0                                                       & 113803                                                  & 53.1000                                                 & C123                                                    & S                                                      \\\\\n",
       "\t  5                                                      & 0                                                       & 3                                                       & Allen, Mr. William Henry                                & male                                                    & 35                                                      & 0                                                       & 0                                                       & 373450                                                  &  8.0500                                                 &                                                         & S                                                      \\\\\n",
       "\t  6                                                      & 0                                                       & 3                                                       & Moran, Mr. James                                        & male                                                    & NA                                                      & 0                                                       & 0                                                       & 330877                                                  &  8.4583                                                 &                                                         & Q                                                      \\\\\n",
       "\t  7                                                      & 0                                                       & 1                                                       & McCarthy, Mr. Timothy J                                 & male                                                    & 54                                                      & 0                                                       & 0                                                       & 17463                                                   & 51.8625                                                 & E46                                                     & S                                                      \\\\\n",
       "\t  8                                                      & 0                                                       & 3                                                       & Palsson, Master. Gosta Leonard                          & male                                                    &  2                                                      & 3                                                       & 1                                                       & 349909                                                  & 21.0750                                                 &                                                         & S                                                      \\\\\n",
       "\t  9                                                      & 1                                                       & 3                                                       & Johnson, Mrs. Oscar W (Elisabeth Vilhelmina Berg)       & female                                                  & 27                                                      & 0                                                       & 2                                                       & 347742                                                  & 11.1333                                                 &                                                         & S                                                      \\\\\n",
       "\t 10                                                      & 1                                                       & 2                                                       & Nasser, Mrs. Nicholas (Adele Achem)                     & female                                                  & 14                                                      & 1                                                       & 0                                                       & 237736                                                  & 30.0708                                                 &                                                         & C                                                      \\\\\n",
       "\t 11                                                      & 1                                                       & 3                                                       & Sandstrom, Miss. Marguerite Rut                         & female                                                  &  4                                                      & 1                                                       & 1                                                       & PP 9549                                                 & 16.7000                                                 & G6                                                      & S                                                      \\\\\n",
       "\t 12                                                      & 1                                                       & 1                                                       & Bonnell, Miss. Elizabeth                                & female                                                  & 58                                                      & 0                                                       & 0                                                       & 113783                                                  & 26.5500                                                 & C103                                                    & S                                                      \\\\\n",
       "\t 13                                                      & 0                                                       & 3                                                       & Saundercock, Mr. William Henry                          & male                                                    & 20                                                      & 0                                                       & 0                                                       & A/5. 2151                                               &  8.0500                                                 &                                                         & S                                                      \\\\\n",
       "\t 14                                                      & 0                                                       & 3                                                       & Andersson, Mr. Anders Johan                             & male                                                    & 39                                                      & 1                                                       & 5                                                       & 347082                                                  & 31.2750                                                 &                                                         & S                                                      \\\\\n",
       "\t 15                                                      & 0                                                       & 3                                                       & Vestrom, Miss. Hulda Amanda Adolfina                    & female                                                  & 14                                                      & 0                                                       & 0                                                       & 350406                                                  &  7.8542                                                 &                                                         & S                                                      \\\\\n",
       "\t 16                                                      & 1                                                       & 2                                                       & Hewlett, Mrs. (Mary D Kingcome)                         & female                                                  & 55                                                      & 0                                                       & 0                                                       & 248706                                                  & 16.0000                                                 &                                                         & S                                                      \\\\\n",
       "\t 17                                                      & 0                                                       & 3                                                       & Rice, Master. Eugene                                    & male                                                    &  2                                                      & 4                                                       & 1                                                       & 382652                                                  & 29.1250                                                 &                                                         & Q                                                      \\\\\n",
       "\t 18                                                      & 1                                                       & 2                                                       & Williams, Mr. Charles Eugene                            & male                                                    & NA                                                      & 0                                                       & 0                                                       & 244373                                                  & 13.0000                                                 &                                                         & S                                                      \\\\\n",
       "\t 19                                                      & 0                                                       & 3                                                       & Vander Planke, Mrs. Julius (Emelia Maria Vandemoortele) & female                                                  & 31                                                      & 1                                                       & 0                                                       & 345763                                                  & 18.0000                                                 &                                                         & S                                                      \\\\\n",
       "\t 20                                                      & 1                                                       & 3                                                       & Masselmani, Mrs. Fatima                                 & female                                                  & NA                                                      & 0                                                       & 0                                                       & 2649                                                    &  7.2250                                                 &                                                         & C                                                      \\\\\n",
       "\\end{tabular}\n"
      ],
      "text/markdown": [
       "\n",
       "PassengerId | Survived | Pclass | Name | Sex | Age | SibSp | Parch | Ticket | Fare | Cabin | Embarked | \n",
       "|---|---|---|---|---|---|---|---|---|---|---|---|---|---|---|---|---|---|---|---|\n",
       "|  1                                                      | 0                                                       | 3                                                       | Braund, Mr. Owen Harris                                 | male                                                    | 22                                                      | 1                                                       | 0                                                       | A/5 21171                                               |  7.2500                                                 |                                                         | S                                                       | \n",
       "|  2                                                      | 1                                                       | 1                                                       | Cumings, Mrs. John Bradley (Florence Briggs Thayer)     | female                                                  | 38                                                      | 1                                                       | 0                                                       | PC 17599                                                | 71.2833                                                 | C85                                                     | C                                                       | \n",
       "|  3                                                      | 1                                                       | 3                                                       | Heikkinen, Miss. Laina                                  | female                                                  | 26                                                      | 0                                                       | 0                                                       | STON/O2. 3101282                                        |  7.9250                                                 |                                                         | S                                                       | \n",
       "|  4                                                      | 1                                                       | 1                                                       | Futrelle, Mrs. Jacques Heath (Lily May Peel)            | female                                                  | 35                                                      | 1                                                       | 0                                                       | 113803                                                  | 53.1000                                                 | C123                                                    | S                                                       | \n",
       "|  5                                                      | 0                                                       | 3                                                       | Allen, Mr. William Henry                                | male                                                    | 35                                                      | 0                                                       | 0                                                       | 373450                                                  |  8.0500                                                 |                                                         | S                                                       | \n",
       "|  6                                                      | 0                                                       | 3                                                       | Moran, Mr. James                                        | male                                                    | NA                                                      | 0                                                       | 0                                                       | 330877                                                  |  8.4583                                                 |                                                         | Q                                                       | \n",
       "|  7                                                      | 0                                                       | 1                                                       | McCarthy, Mr. Timothy J                                 | male                                                    | 54                                                      | 0                                                       | 0                                                       | 17463                                                   | 51.8625                                                 | E46                                                     | S                                                       | \n",
       "|  8                                                      | 0                                                       | 3                                                       | Palsson, Master. Gosta Leonard                          | male                                                    |  2                                                      | 3                                                       | 1                                                       | 349909                                                  | 21.0750                                                 |                                                         | S                                                       | \n",
       "|  9                                                      | 1                                                       | 3                                                       | Johnson, Mrs. Oscar W (Elisabeth Vilhelmina Berg)       | female                                                  | 27                                                      | 0                                                       | 2                                                       | 347742                                                  | 11.1333                                                 |                                                         | S                                                       | \n",
       "| 10                                                      | 1                                                       | 2                                                       | Nasser, Mrs. Nicholas (Adele Achem)                     | female                                                  | 14                                                      | 1                                                       | 0                                                       | 237736                                                  | 30.0708                                                 |                                                         | C                                                       | \n",
       "| 11                                                      | 1                                                       | 3                                                       | Sandstrom, Miss. Marguerite Rut                         | female                                                  |  4                                                      | 1                                                       | 1                                                       | PP 9549                                                 | 16.7000                                                 | G6                                                      | S                                                       | \n",
       "| 12                                                      | 1                                                       | 1                                                       | Bonnell, Miss. Elizabeth                                | female                                                  | 58                                                      | 0                                                       | 0                                                       | 113783                                                  | 26.5500                                                 | C103                                                    | S                                                       | \n",
       "| 13                                                      | 0                                                       | 3                                                       | Saundercock, Mr. William Henry                          | male                                                    | 20                                                      | 0                                                       | 0                                                       | A/5. 2151                                               |  8.0500                                                 |                                                         | S                                                       | \n",
       "| 14                                                      | 0                                                       | 3                                                       | Andersson, Mr. Anders Johan                             | male                                                    | 39                                                      | 1                                                       | 5                                                       | 347082                                                  | 31.2750                                                 |                                                         | S                                                       | \n",
       "| 15                                                      | 0                                                       | 3                                                       | Vestrom, Miss. Hulda Amanda Adolfina                    | female                                                  | 14                                                      | 0                                                       | 0                                                       | 350406                                                  |  7.8542                                                 |                                                         | S                                                       | \n",
       "| 16                                                      | 1                                                       | 2                                                       | Hewlett, Mrs. (Mary D Kingcome)                         | female                                                  | 55                                                      | 0                                                       | 0                                                       | 248706                                                  | 16.0000                                                 |                                                         | S                                                       | \n",
       "| 17                                                      | 0                                                       | 3                                                       | Rice, Master. Eugene                                    | male                                                    |  2                                                      | 4                                                       | 1                                                       | 382652                                                  | 29.1250                                                 |                                                         | Q                                                       | \n",
       "| 18                                                      | 1                                                       | 2                                                       | Williams, Mr. Charles Eugene                            | male                                                    | NA                                                      | 0                                                       | 0                                                       | 244373                                                  | 13.0000                                                 |                                                         | S                                                       | \n",
       "| 19                                                      | 0                                                       | 3                                                       | Vander Planke, Mrs. Julius (Emelia Maria Vandemoortele) | female                                                  | 31                                                      | 1                                                       | 0                                                       | 345763                                                  | 18.0000                                                 |                                                         | S                                                       | \n",
       "| 20                                                      | 1                                                       | 3                                                       | Masselmani, Mrs. Fatima                                 | female                                                  | NA                                                      | 0                                                       | 0                                                       | 2649                                                    |  7.2250                                                 |                                                         | C                                                       | \n",
       "\n",
       "\n"
      ],
      "text/plain": [
       "   PassengerId Survived Pclass\n",
       "1   1          0        3     \n",
       "2   2          1        1     \n",
       "3   3          1        3     \n",
       "4   4          1        1     \n",
       "5   5          0        3     \n",
       "6   6          0        3     \n",
       "7   7          0        1     \n",
       "8   8          0        3     \n",
       "9   9          1        3     \n",
       "10 10          1        2     \n",
       "11 11          1        3     \n",
       "12 12          1        1     \n",
       "13 13          0        3     \n",
       "14 14          0        3     \n",
       "15 15          0        3     \n",
       "16 16          1        2     \n",
       "17 17          0        3     \n",
       "18 18          1        2     \n",
       "19 19          0        3     \n",
       "20 20          1        3     \n",
       "   Name                                                    Sex    Age SibSp\n",
       "1  Braund, Mr. Owen Harris                                 male   22  1    \n",
       "2  Cumings, Mrs. John Bradley (Florence Briggs Thayer)     female 38  1    \n",
       "3  Heikkinen, Miss. Laina                                  female 26  0    \n",
       "4  Futrelle, Mrs. Jacques Heath (Lily May Peel)            female 35  1    \n",
       "5  Allen, Mr. William Henry                                male   35  0    \n",
       "6  Moran, Mr. James                                        male   NA  0    \n",
       "7  McCarthy, Mr. Timothy J                                 male   54  0    \n",
       "8  Palsson, Master. Gosta Leonard                          male    2  3    \n",
       "9  Johnson, Mrs. Oscar W (Elisabeth Vilhelmina Berg)       female 27  0    \n",
       "10 Nasser, Mrs. Nicholas (Adele Achem)                     female 14  1    \n",
       "11 Sandstrom, Miss. Marguerite Rut                         female  4  1    \n",
       "12 Bonnell, Miss. Elizabeth                                female 58  0    \n",
       "13 Saundercock, Mr. William Henry                          male   20  0    \n",
       "14 Andersson, Mr. Anders Johan                             male   39  1    \n",
       "15 Vestrom, Miss. Hulda Amanda Adolfina                    female 14  0    \n",
       "16 Hewlett, Mrs. (Mary D Kingcome)                         female 55  0    \n",
       "17 Rice, Master. Eugene                                    male    2  4    \n",
       "18 Williams, Mr. Charles Eugene                            male   NA  0    \n",
       "19 Vander Planke, Mrs. Julius (Emelia Maria Vandemoortele) female 31  1    \n",
       "20 Masselmani, Mrs. Fatima                                 female NA  0    \n",
       "   Parch Ticket           Fare    Cabin Embarked\n",
       "1  0     A/5 21171         7.2500       S       \n",
       "2  0     PC 17599         71.2833 C85   C       \n",
       "3  0     STON/O2. 3101282  7.9250       S       \n",
       "4  0     113803           53.1000 C123  S       \n",
       "5  0     373450            8.0500       S       \n",
       "6  0     330877            8.4583       Q       \n",
       "7  0     17463            51.8625 E46   S       \n",
       "8  1     349909           21.0750       S       \n",
       "9  2     347742           11.1333       S       \n",
       "10 0     237736           30.0708       C       \n",
       "11 1     PP 9549          16.7000 G6    S       \n",
       "12 0     113783           26.5500 C103  S       \n",
       "13 0     A/5. 2151         8.0500       S       \n",
       "14 5     347082           31.2750       S       \n",
       "15 0     350406            7.8542       S       \n",
       "16 0     248706           16.0000       S       \n",
       "17 1     382652           29.1250       Q       \n",
       "18 0     244373           13.0000       S       \n",
       "19 0     345763           18.0000       S       \n",
       "20 0     2649              7.2250       C       "
      ]
     },
     "metadata": {},
     "output_type": "display_data"
    }
   ],
   "source": [
    "head(titanic, n=20) #melihat n data teratas"
   ]
  },
  {
   "cell_type": "code",
   "execution_count": 176,
   "metadata": {},
   "outputs": [],
   "source": [
    "#mengubah tipe data Survived dan Pclass menjadi factor atau kategorial\n",
    "titanic$Survived = as.factor(titanic$Survived)\n",
    "titanic$Pclass = as.factor(titanic$Pclass)\n",
    "#sapply(titanic, class)"
   ]
  },
  {
   "cell_type": "code",
   "execution_count": 36,
   "metadata": {},
   "outputs": [],
   "source": [
    "library(scales)"
   ]
  },
  {
   "cell_type": "code",
   "execution_count": 189,
   "metadata": {
    "collapsed": true
   },
   "outputs": [
    {
     "data": {
      "text/html": [
       "<table>\n",
       "<thead><tr><th scope=col>Embarked</th><th scope=col>n</th></tr></thead>\n",
       "<tbody>\n",
       "\t<tr><td>   </td><td>  2</td></tr>\n",
       "\t<tr><td>C  </td><td>168</td></tr>\n",
       "\t<tr><td>Q  </td><td> 77</td></tr>\n",
       "\t<tr><td>S  </td><td>644</td></tr>\n",
       "</tbody>\n",
       "</table>\n"
      ],
      "text/latex": [
       "\\begin{tabular}{r|ll}\n",
       " Embarked & n\\\\\n",
       "\\hline\n",
       "\t     &   2\\\\\n",
       "\t C   & 168\\\\\n",
       "\t Q   &  77\\\\\n",
       "\t S   & 644\\\\\n",
       "\\end{tabular}\n"
      ],
      "text/markdown": [
       "\n",
       "Embarked | n | \n",
       "|---|---|---|---|\n",
       "|     |   2 | \n",
       "| C   | 168 | \n",
       "| Q   |  77 | \n",
       "| S   | 644 | \n",
       "\n",
       "\n"
      ],
      "text/plain": [
       "  Embarked n  \n",
       "1            2\n",
       "2 C        168\n",
       "3 Q         77\n",
       "4 S        644"
      ]
     },
     "metadata": {},
     "output_type": "display_data"
    }
   ],
   "source": [
    "titanic$Embarked <- as.character(titanic$Embarked)\n",
    "titanic1 <- titanic %>% mutate(Age = ifelse(is.na(Age), round(mean(Age,na.rm=T)),Age))\n",
    "#titanic$Age\n",
    "#titanic1 <- titanic %>% mutate(Embarked = ifelse(is.na(Age), round(mean(Age,na.rm=T)),Age))\n",
    "titanic %>% count(Embarked) %>% group_by(Embarked)\n",
    "#mengubah Embarked yg isinya kosong menjadi S,karena merupakan modus\n",
    "titanic1 <- titanic %>% mutate(Embarked = ifelse(Embarked =='','S',Embarked))"
   ]
  },
  {
   "cell_type": "code",
   "execution_count": 200,
   "metadata": {
    "collapsed": true
   },
   "outputs": [
    {
     "data": {
      "text/html": [
       "<table>\n",
       "<thead><tr><th scope=col>PassengerId</th><th scope=col>Survived</th><th scope=col>Pclass</th><th scope=col>Name</th><th scope=col>Sex</th><th scope=col>Age</th><th scope=col>SibSp</th><th scope=col>Parch</th><th scope=col>Ticket</th><th scope=col>Fare</th><th scope=col>Cabin</th><th scope=col>Embarked</th><th scope=col>family</th></tr></thead>\n",
       "<tbody>\n",
       "\t<tr><td>1                                                  </td><td>0                                                  </td><td>3                                                  </td><td>Braund, Mr. Owen Harris                            </td><td>male                                               </td><td>22                                                 </td><td>1                                                  </td><td>0                                                  </td><td>A/5 21171                                          </td><td> 7.2500                                            </td><td>                                                   </td><td>S                                                  </td><td>1                                                  </td></tr>\n",
       "\t<tr><td>2                                                  </td><td>1                                                  </td><td>1                                                  </td><td>Cumings, Mrs. John Bradley (Florence Briggs Thayer)</td><td>female                                             </td><td>38                                                 </td><td>1                                                  </td><td>0                                                  </td><td>PC 17599                                           </td><td>71.2833                                            </td><td>C85                                                </td><td>C                                                  </td><td>1                                                  </td></tr>\n",
       "\t<tr><td>3                                                  </td><td>1                                                  </td><td>3                                                  </td><td>Heikkinen, Miss. Laina                             </td><td>female                                             </td><td>26                                                 </td><td>0                                                  </td><td>0                                                  </td><td>STON/O2. 3101282                                   </td><td> 7.9250                                            </td><td>                                                   </td><td>S                                                  </td><td>0                                                  </td></tr>\n",
       "\t<tr><td>4                                                  </td><td>1                                                  </td><td>1                                                  </td><td>Futrelle, Mrs. Jacques Heath (Lily May Peel)       </td><td>female                                             </td><td>35                                                 </td><td>1                                                  </td><td>0                                                  </td><td>113803                                             </td><td>53.1000                                            </td><td>C123                                               </td><td>S                                                  </td><td>1                                                  </td></tr>\n",
       "\t<tr><td>5                                                  </td><td>0                                                  </td><td>3                                                  </td><td>Allen, Mr. William Henry                           </td><td>male                                               </td><td>35                                                 </td><td>0                                                  </td><td>0                                                  </td><td>373450                                             </td><td> 8.0500                                            </td><td>                                                   </td><td>S                                                  </td><td>0                                                  </td></tr>\n",
       "</tbody>\n",
       "</table>\n"
      ],
      "text/latex": [
       "\\begin{tabular}{r|lllllllllllll}\n",
       " PassengerId & Survived & Pclass & Name & Sex & Age & SibSp & Parch & Ticket & Fare & Cabin & Embarked & family\\\\\n",
       "\\hline\n",
       "\t 1                                                   & 0                                                   & 3                                                   & Braund, Mr. Owen Harris                             & male                                                & 22                                                  & 1                                                   & 0                                                   & A/5 21171                                           &  7.2500                                             &                                                     & S                                                   & 1                                                  \\\\\n",
       "\t 2                                                   & 1                                                   & 1                                                   & Cumings, Mrs. John Bradley (Florence Briggs Thayer) & female                                              & 38                                                  & 1                                                   & 0                                                   & PC 17599                                            & 71.2833                                             & C85                                                 & C                                                   & 1                                                  \\\\\n",
       "\t 3                                                   & 1                                                   & 3                                                   & Heikkinen, Miss. Laina                              & female                                              & 26                                                  & 0                                                   & 0                                                   & STON/O2. 3101282                                    &  7.9250                                             &                                                     & S                                                   & 0                                                  \\\\\n",
       "\t 4                                                   & 1                                                   & 1                                                   & Futrelle, Mrs. Jacques Heath (Lily May Peel)        & female                                              & 35                                                  & 1                                                   & 0                                                   & 113803                                              & 53.1000                                             & C123                                                & S                                                   & 1                                                  \\\\\n",
       "\t 5                                                   & 0                                                   & 3                                                   & Allen, Mr. William Henry                            & male                                                & 35                                                  & 0                                                   & 0                                                   & 373450                                              &  8.0500                                             &                                                     & S                                                   & 0                                                  \\\\\n",
       "\\end{tabular}\n"
      ],
      "text/markdown": [
       "\n",
       "PassengerId | Survived | Pclass | Name | Sex | Age | SibSp | Parch | Ticket | Fare | Cabin | Embarked | family | \n",
       "|---|---|---|---|---|\n",
       "| 1                                                   | 0                                                   | 3                                                   | Braund, Mr. Owen Harris                             | male                                                | 22                                                  | 1                                                   | 0                                                   | A/5 21171                                           |  7.2500                                             |                                                     | S                                                   | 1                                                   | \n",
       "| 2                                                   | 1                                                   | 1                                                   | Cumings, Mrs. John Bradley (Florence Briggs Thayer) | female                                              | 38                                                  | 1                                                   | 0                                                   | PC 17599                                            | 71.2833                                             | C85                                                 | C                                                   | 1                                                   | \n",
       "| 3                                                   | 1                                                   | 3                                                   | Heikkinen, Miss. Laina                              | female                                              | 26                                                  | 0                                                   | 0                                                   | STON/O2. 3101282                                    |  7.9250                                             |                                                     | S                                                   | 0                                                   | \n",
       "| 4                                                   | 1                                                   | 1                                                   | Futrelle, Mrs. Jacques Heath (Lily May Peel)        | female                                              | 35                                                  | 1                                                   | 0                                                   | 113803                                              | 53.1000                                             | C123                                                | S                                                   | 1                                                   | \n",
       "| 5                                                   | 0                                                   | 3                                                   | Allen, Mr. William Henry                            | male                                                | 35                                                  | 0                                                   | 0                                                   | 373450                                              |  8.0500                                             |                                                     | S                                                   | 0                                                   | \n",
       "\n",
       "\n"
      ],
      "text/plain": [
       "  PassengerId Survived Pclass\n",
       "1 1           0        3     \n",
       "2 2           1        1     \n",
       "3 3           1        3     \n",
       "4 4           1        1     \n",
       "5 5           0        3     \n",
       "  Name                                                Sex    Age SibSp Parch\n",
       "1 Braund, Mr. Owen Harris                             male   22  1     0    \n",
       "2 Cumings, Mrs. John Bradley (Florence Briggs Thayer) female 38  1     0    \n",
       "3 Heikkinen, Miss. Laina                              female 26  0     0    \n",
       "4 Futrelle, Mrs. Jacques Heath (Lily May Peel)        female 35  1     0    \n",
       "5 Allen, Mr. William Henry                            male   35  0     0    \n",
       "  Ticket           Fare    Cabin Embarked family\n",
       "1 A/5 21171         7.2500       S        1     \n",
       "2 PC 17599         71.2833 C85   C        1     \n",
       "3 STON/O2. 3101282  7.9250       S        0     \n",
       "4 113803           53.1000 C123  S        1     \n",
       "5 373450            8.0500       S        0     "
      ]
     },
     "metadata": {},
     "output_type": "display_data"
    }
   ],
   "source": [
    "titanic1$family <- titanic$SibSp + titanic$Parch\n",
    "#titanic$family\n",
    "head(titanic1, n=5)"
   ]
  },
  {
   "cell_type": "code",
   "execution_count": 49,
   "metadata": {},
   "outputs": [
    {
     "name": "stderr",
     "output_type": "stream",
     "text": [
      "also installing the dependency 'dplyr'\n",
      "\n",
      "Warning message:\n",
      "\"package 'dplyr' is in use and will not be installed\""
     ]
    },
    {
     "name": "stdout",
     "output_type": "stream",
     "text": [
      "package 'tidyverse' successfully unpacked and MD5 sums checked\n",
      "\n",
      "The downloaded binary packages are in\n",
      "\tC:\\Users\\nourma059258\\AppData\\Local\\Temp\\Rtmpq4NgN8\\downloaded_packages\n"
     ]
    }
   ],
   "source": [
    "install.packages(\"tidyverse\")"
   ]
  },
  {
   "cell_type": "code",
   "execution_count": 50,
   "metadata": {},
   "outputs": [
    {
     "name": "stderr",
     "output_type": "stream",
     "text": [
      "Loading tidyverse: tibble\n",
      "Loading tidyverse: tidyr\n",
      "Loading tidyverse: readr\n",
      "Loading tidyverse: purrr\n",
      "Conflicts with tidy packages ---------------------------------------------------\n",
      "col_factor(): readr, scales\n",
      "discard():    purrr, scales\n",
      "filter():     dplyr, stats\n",
      "lag():        dplyr, stats\n"
     ]
    }
   ],
   "source": [
    "library(tidyverse)"
   ]
  },
  {
   "cell_type": "code",
   "execution_count": 61,
   "metadata": {
    "collapsed": true
   },
   "outputs": [
    {
     "data": {
      "text/html": [
       "<table>\n",
       "<thead><tr><th scope=col>Var1</th><th scope=col>Freq</th><th scope=col>cumulative</th><th scope=col>midpoint</th><th scope=col>label</th></tr></thead>\n",
       "<tbody>\n",
       "\t<tr><td>0      </td><td>549    </td><td>549    </td><td>274.5  </td><td>0 61.6%</td></tr>\n",
       "\t<tr><td>1      </td><td>342    </td><td>891    </td><td>720.0  </td><td>1 38.4%</td></tr>\n",
       "</tbody>\n",
       "</table>\n"
      ],
      "text/latex": [
       "\\begin{tabular}{r|lllll}\n",
       " Var1 & Freq & cumulative & midpoint & label\\\\\n",
       "\\hline\n",
       "\t 0         & 549       & 549       & 274.5     & 0 61.6\\%\\\\\n",
       "\t 1         & 342       & 891       & 720.0     & 1 38.4\\%\\\\\n",
       "\\end{tabular}\n"
      ],
      "text/markdown": [
       "\n",
       "Var1 | Freq | cumulative | midpoint | label | \n",
       "|---|---|\n",
       "| 0       | 549     | 549     | 274.5   | 0 61.6% | \n",
       "| 1       | 342     | 891     | 720.0   | 1 38.4% | \n",
       "\n",
       "\n"
      ],
      "text/plain": [
       "  Var1 Freq cumulative midpoint label  \n",
       "1 0    549  549        274.5    0 61.6%\n",
       "2 1    342  891        720.0    1 38.4%"
      ]
     },
     "metadata": {},
     "output_type": "display_data"
    }
   ],
   "source": [
    "df  %>%\n",
    "   # factor levels need to be the opposite order of the cumulative sum of the values\n",
    "   mutate(Var1 = factor(Var1),\n",
    "          cumulative = cumsum(Freq),\n",
    "          midpoint = cumulative - Freq / 2,\n",
    "          label = paste0(Var1, \" \", round(Freq / sum(Freq) * 100, 1), \"%\"))\n"
   ]
  },
  {
   "cell_type": "code",
   "execution_count": 219,
   "metadata": {},
   "outputs": [
    {
     "data": {
      "text/html": [
       "<table>\n",
       "<thead><tr><th scope=col>Survived</th><th scope=col>Freq</th></tr></thead>\n",
       "<tbody>\n",
       "\t<tr><td>0  </td><td>549</td></tr>\n",
       "\t<tr><td>1  </td><td>342</td></tr>\n",
       "</tbody>\n",
       "</table>\n"
      ],
      "text/latex": [
       "\\begin{tabular}{r|ll}\n",
       " Survived & Freq\\\\\n",
       "\\hline\n",
       "\t 0   & 549\\\\\n",
       "\t 1   & 342\\\\\n",
       "\\end{tabular}\n"
      ],
      "text/markdown": [
       "\n",
       "Survived | Freq | \n",
       "|---|---|\n",
       "| 0   | 549 | \n",
       "| 1   | 342 | \n",
       "\n",
       "\n"
      ],
      "text/plain": [
       "  Survived Freq\n",
       "1 0        549 \n",
       "2 1        342 "
      ]
     },
     "metadata": {},
     "output_type": "display_data"
    }
   ],
   "source": [
    "surv<-data.frame(table(titanic$Survived))\n",
    "names(surv)<-c('Survived','Freq')\n",
    "surv"
   ]
  },
  {
   "cell_type": "code",
   "execution_count": 134,
   "metadata": {},
   "outputs": [
    {
     "data": {
      "text/html": [
       "<table>\n",
       "<thead><tr><th scope=col>Survived</th><th scope=col>n</th><th scope=col>persen</th><th scope=col>label</th></tr></thead>\n",
       "<tbody>\n",
       "\t<tr><td>0        </td><td>549      </td><td>0.6161616</td><td>61.6%    </td></tr>\n",
       "\t<tr><td>1        </td><td>342      </td><td>0.3838384</td><td>38.4%    </td></tr>\n",
       "</tbody>\n",
       "</table>\n"
      ],
      "text/latex": [
       "\\begin{tabular}{r|llll}\n",
       " Survived & n & persen & label\\\\\n",
       "\\hline\n",
       "\t 0         & 549       & 0.6161616 & 61.6\\%  \\\\\n",
       "\t 1         & 342       & 0.3838384 & 38.4\\%  \\\\\n",
       "\\end{tabular}\n"
      ],
      "text/markdown": [
       "\n",
       "Survived | n | persen | label | \n",
       "|---|---|\n",
       "| 0         | 549       | 0.6161616 | 61.6%     | \n",
       "| 1         | 342       | 0.3838384 | 38.4%     | \n",
       "\n",
       "\n"
      ],
      "text/plain": [
       "  Survived n   persen    label\n",
       "1 0        549 0.6161616 61.6%\n",
       "2 1        342 0.3838384 38.4%"
      ]
     },
     "metadata": {},
     "output_type": "display_data"
    },
    {
     "data": {},
     "metadata": {},
     "output_type": "display_data"
    },
    {
     "data": {
      "image/png": "[encoded data removed]",
      "text/plain": [
       "plot without title"
      ]
     },
     "metadata": {},
     "output_type": "display_data"
    }
   ],
   "source": [
    "survived <- titanic  %>%\n",
    "    count(Survived) %>%\n",
    "    mutate(persen = n/sum(n))\n",
    "survived$label <- scales::percent(survived$persen)\n",
    "survived\n",
    "ggplot(data=survived)+\n",
    "  geom_bar(aes(x=\"\", y=persen, fill=Survived), stat=\"identity\", width = 1)+\n",
    "  coord_polar(\"y\", start=0)+\n",
    "  theme_void()+\n",
    "  geom_text(aes(x=1, y = cumsum(persen) - persen/2, label=label))"
   ]
  },
  {
   "cell_type": "markdown",
   "metadata": {},
   "source": [
    "- Terdapat 61% penumpangng"
   ]
  },
  {
   "cell_type": "code",
   "execution_count": 246,
   "metadata": {},
   "outputs": [
    {
     "data": {},
     "metadata": {},
     "output_type": "display_data"
    },
    {
     "data": {
      "image/png": "[encoded data removed]",
      "text/plain": [
       "plot without title"
      ]
     },
     "metadata": {},
     "output_type": "display_data"
    }
   ],
   "source": [
    "#Plot Survived\n",
    "ggplot(surv, aes(x=Survived, y=Freq, fill = Survived)) +\n",
    "geom_bar(stat=\"identity\", position=position_dodge()) +\n",
    "geom_text(aes(label=Freq), vjust=1.6, color=\"white\",\n",
    "            position = position_dodge(0.9), size=3.5)+\n",
    " theme(axis.line = element_line(colour = \"black\"),\n",
    "    panel.grid.major = element_blank(),\n",
    "    panel.grid.minor = element_blank(),\n",
    "    panel.border = element_blank(),\n",
    "    panel.background = element_blank()) +\n",
    "  scale_fill_brewer(palette=\"Paired\")"
   ]
  },
  {
   "cell_type": "code",
   "execution_count": 228,
   "metadata": {},
   "outputs": [
    {
     "data": {
      "text/html": [
       "<table>\n",
       "<thead><tr><th scope=col>Pclass</th><th scope=col>Freq</th></tr></thead>\n",
       "<tbody>\n",
       "\t<tr><td>1  </td><td>216</td></tr>\n",
       "\t<tr><td>2  </td><td>184</td></tr>\n",
       "\t<tr><td>3  </td><td>491</td></tr>\n",
       "</tbody>\n",
       "</table>\n"
      ],
      "text/latex": [
       "\\begin{tabular}{r|ll}\n",
       " Pclass & Freq\\\\\n",
       "\\hline\n",
       "\t 1   & 216\\\\\n",
       "\t 2   & 184\\\\\n",
       "\t 3   & 491\\\\\n",
       "\\end{tabular}\n"
      ],
      "text/markdown": [
       "\n",
       "Pclass | Freq | \n",
       "|---|---|---|\n",
       "| 1   | 216 | \n",
       "| 2   | 184 | \n",
       "| 3   | 491 | \n",
       "\n",
       "\n"
      ],
      "text/plain": [
       "  Pclass Freq\n",
       "1 1      216 \n",
       "2 2      184 \n",
       "3 3      491 "
      ]
     },
     "metadata": {},
     "output_type": "display_data"
    }
   ],
   "source": [
    "pclass<-data.frame(table(titanic$Pclass))\n",
    "names(pclass)<-c('Pclass','Freq')\n",
    "pclass"
   ]
  },
  {
   "cell_type": "code",
   "execution_count": 248,
   "metadata": {},
   "outputs": [
    {
     "data": {},
     "metadata": {},
     "output_type": "display_data"
    },
    {
     "data": {},
     "metadata": {},
     "output_type": "display_data"
    },
    {
     "data": {
      "image/png": "[encoded data removed]",
      "text/plain": [
       "plot without title"
      ]
     },
     "metadata": {},
     "output_type": "display_data"
    },
    {
     "data": {
      "image/png": "[encoded data removed]",
      "text/plain": [
       "plot without title"
      ]
     },
     "metadata": {},
     "output_type": "display_data"
    }
   ],
   "source": [
    "#PClass\n",
    "\n",
    "ggplot(pclass, aes(x=Pclass, y=Freq, fill = Pclass)) +\n",
    "geom_bar(stat=\"identity\", position=position_dodge()) +\n",
    "geom_text(aes(label=Freq), vjust=1.6, color=\"black\",\n",
    "            position = position_dodge(0.9), size=3.5)+\n",
    "ggtitle(\"Pclass\")+labs(x=\"Pclass\",y=\"count\")+\n",
    " theme(axis.line = element_line(colour = \"black\"),\n",
    "    panel.grid.major = element_blank(),\n",
    "    panel.grid.minor = element_blank(),\n",
    "    panel.border = element_blank(),\n",
    "    panel.background = element_blank()) +\n",
    "  scale_fill_brewer(palette=\"Paired\")\n",
    "\n",
    "ggplot(titanic,aes(x=Pclass, fill=factor(Survived)))+ \n",
    " theme(axis.line = element_line(colour = \"black\"),\n",
    "    panel.grid.major = element_blank(),\n",
    "    panel.grid.minor = element_blank(),\n",
    "    panel.border = element_blank(),\n",
    "    panel.background = element_blank()) +\n",
    "geom_bar(position=\"dodge\") "
   ]
  },
  {
   "cell_type": "markdown",
   "metadata": {},
   "source": [
    "- Pada PClass 3, penumpang yang tidak selamat paling banyak jika dibandingkan dengan kelas lain.\n",
    "- Sedangkan pada PClass 1, penumpang lebih banyak yang selamat daripada yang tidak selamat"
   ]
  },
  {
   "cell_type": "code",
   "execution_count": 245,
   "metadata": {},
   "outputs": [
    {
     "data": {},
     "metadata": {},
     "output_type": "display_data"
    },
    {
     "data": {
      "image/png": "[encoded data removed]",
      "text/plain": [
       "plot without title"
      ]
     },
     "metadata": {},
     "output_type": "display_data"
    }
   ],
   "source": [
    "#EMBARKED\n",
    "\n",
    "ggplot(titanic1,aes(x=Embarked, fill=factor(Survived)))+ \n",
    "theme_bw()+\n",
    " theme(axis.line = element_line(colour = \"black\"),\n",
    "    panel.grid.major = element_blank(),\n",
    "    panel.grid.minor = element_blank(),\n",
    "    panel.border = element_blank(),\n",
    "    panel.background = element_blank()) +\n",
    "geom_bar(position=\"dodge\") "
   ]
  },
  {
   "cell_type": "markdown",
   "metadata": {},
   "source": [
    "- Berdasarkan pelabuhan pemberangkatan, penumpang yang berangkat dari pelabuhan S lebih banyak yang tidak selamat dibandingkan dengan pelabuhan lain. \n",
    "- Sedangkan pada pelabuhan C, penumpang yang selamat lebih banyak daripada yang tidak selamat"
   ]
  },
  {
   "cell_type": "code",
   "execution_count": 109,
   "metadata": {},
   "outputs": [
    {
     "ename": "ERROR",
     "evalue": "Error in library(reshape2): there is no package called 'reshape2'\n",
     "output_type": "error",
     "traceback": [
      "Error in library(reshape2): there is no package called 'reshape2'\nTraceback:\n",
      "1. library(reshape2)",
      "2. stop(txt, domain = NA)"
     ]
    }
   ],
   "source": [
    "library(reshape2)"
   ]
  },
  {
   "cell_type": "code",
   "execution_count": 118,
   "metadata": {},
   "outputs": [
    {
     "data": {
      "text/html": [
       "<table>\n",
       "<thead><tr><th scope=col>Sex</th><th scope=col>n</th><th scope=col>persen</th><th scope=col>label</th></tr></thead>\n",
       "<tbody>\n",
       "\t<tr><td>female  </td><td>314     </td><td>0.352413</td><td>35.2%   </td></tr>\n",
       "\t<tr><td>male    </td><td>577     </td><td>0.647587</td><td>64.8%   </td></tr>\n",
       "</tbody>\n",
       "</table>\n"
      ],
      "text/latex": [
       "\\begin{tabular}{r|llll}\n",
       " Sex & n & persen & label\\\\\n",
       "\\hline\n",
       "\t female   & 314      & 0.352413 & 35.2\\% \\\\\n",
       "\t male     & 577      & 0.647587 & 64.8\\% \\\\\n",
       "\\end{tabular}\n"
      ],
      "text/markdown": [
       "\n",
       "Sex | n | persen | label | \n",
       "|---|---|\n",
       "| female   | 314      | 0.352413 | 35.2%    | \n",
       "| male     | 577      | 0.647587 | 64.8%    | \n",
       "\n",
       "\n"
      ],
      "text/plain": [
       "  Sex    n   persen   label\n",
       "1 female 314 0.352413 35.2%\n",
       "2 male   577 0.647587 64.8%"
      ]
     },
     "metadata": {},
     "output_type": "display_data"
    },
    {
     "data": {},
     "metadata": {},
     "output_type": "display_data"
    },
    {
     "data": {
      "image/png": "[encoded data removed]",
      "text/plain": [
       "plot without title"
      ]
     },
     "metadata": {},
     "output_type": "display_data"
    }
   ],
   "source": [
    "sex <- titanic  %>%\n",
    "    count(Sex) %>%\n",
    "    mutate(persen = n/sum(n))\n",
    "sex$label <- scales::percent(sex$persen)\n",
    "sex\n",
    "ggplot(data=sex)+\n",
    "  geom_bar(aes(x=\"\", y=persen, fill=Sex), stat=\"identity\", width = 1)+\n",
    "  coord_polar(\"y\", start=0)+\n",
    "  theme_void()+\n",
    "  geom_text(aes(x=1, y = cumsum(persen) - persen/2, label=label))"
   ]
  },
  {
   "cell_type": "code",
   "execution_count": 211,
   "metadata": {},
   "outputs": [
    {
     "data": {
      "text/html": [
       "<table>\n",
       "<thead><tr><th scope=col>Survived</th><th scope=col>Sex</th><th scope=col>Freq</th></tr></thead>\n",
       "<tbody>\n",
       "\t<tr><td>0     </td><td>female</td><td> 81   </td></tr>\n",
       "\t<tr><td>1     </td><td>female</td><td>233   </td></tr>\n",
       "\t<tr><td>0     </td><td>male  </td><td>468   </td></tr>\n",
       "\t<tr><td>1     </td><td>male  </td><td>109   </td></tr>\n",
       "</tbody>\n",
       "</table>\n"
      ],
      "text/latex": [
       "\\begin{tabular}{r|lll}\n",
       " Survived & Sex & Freq\\\\\n",
       "\\hline\n",
       "\t 0      & female &  81   \\\\\n",
       "\t 1      & female & 233   \\\\\n",
       "\t 0      & male   & 468   \\\\\n",
       "\t 1      & male   & 109   \\\\\n",
       "\\end{tabular}\n"
      ],
      "text/markdown": [
       "\n",
       "Survived | Sex | Freq | \n",
       "|---|---|---|---|\n",
       "| 0      | female |  81    | \n",
       "| 1      | female | 233    | \n",
       "| 0      | male   | 468    | \n",
       "| 1      | male   | 109    | \n",
       "\n",
       "\n"
      ],
      "text/plain": [
       "  Survived Sex    Freq\n",
       "1 0        female  81 \n",
       "2 1        female 233 \n",
       "3 0        male   468 \n",
       "4 1        male   109 "
      ]
     },
     "metadata": {},
     "output_type": "display_data"
    }
   ],
   "source": [
    "\n",
    "count <-table(titanic$Survived,titanic$Sex)\n",
    "df<-data.frame(count)\n",
    "\n",
    "names(df)<-c('Survived','Sex','Freq')\n",
    "df"
   ]
  },
  {
   "cell_type": "code",
   "execution_count": 212,
   "metadata": {},
   "outputs": [
    {
     "data": {},
     "metadata": {},
     "output_type": "display_data"
    },
    {
     "data": {
      "image/png": "[encoded data removed]",
      "text/plain": [
       "plot without title"
      ]
     },
     "metadata": {},
     "output_type": "display_data"
    }
   ],
   "source": [
    "ggplot(df, aes(x=Sex, y=Freq, fill=Survived)) +\n",
    "geom_bar(stat=\"identity\", position=position_dodge()) +\n",
    "geom_text(aes(label=Freq), vjust=1.6, color=\"white\",\n",
    "            position = position_dodge(0.9), size=3.5)+\n",
    "  scale_fill_brewer(palette=\"Paired\")"
   ]
  },
  {
   "cell_type": "code",
   "execution_count": 145,
   "metadata": {},
   "outputs": [
    {
     "data": {
      "text/html": [
       "<table>\n",
       "<thead><tr><th scope=col>Var1</th><th scope=col>Var2</th><th scope=col>Freq</th></tr></thead>\n",
       "<tbody>\n",
       "\t<tr><td>0  </td><td>0  </td><td>445</td></tr>\n",
       "\t<tr><td>1  </td><td>0  </td><td>233</td></tr>\n",
       "\t<tr><td>0  </td><td>1  </td><td> 53</td></tr>\n",
       "\t<tr><td>1  </td><td>1  </td><td> 65</td></tr>\n",
       "\t<tr><td>0  </td><td>2  </td><td> 40</td></tr>\n",
       "\t<tr><td>1  </td><td>2  </td><td> 40</td></tr>\n",
       "\t<tr><td>0  </td><td>3  </td><td>  2</td></tr>\n",
       "\t<tr><td>1  </td><td>3  </td><td>  3</td></tr>\n",
       "\t<tr><td>0  </td><td>4  </td><td>  4</td></tr>\n",
       "\t<tr><td>1  </td><td>4  </td><td>  0</td></tr>\n",
       "\t<tr><td>0  </td><td>5  </td><td>  4</td></tr>\n",
       "\t<tr><td>1  </td><td>5  </td><td>  1</td></tr>\n",
       "\t<tr><td>0  </td><td>6  </td><td>  1</td></tr>\n",
       "\t<tr><td>1  </td><td>6  </td><td>  0</td></tr>\n",
       "</tbody>\n",
       "</table>\n"
      ],
      "text/latex": [
       "\\begin{tabular}{r|lll}\n",
       " Var1 & Var2 & Freq\\\\\n",
       "\\hline\n",
       "\t 0   & 0   & 445\\\\\n",
       "\t 1   & 0   & 233\\\\\n",
       "\t 0   & 1   &  53\\\\\n",
       "\t 1   & 1   &  65\\\\\n",
       "\t 0   & 2   &  40\\\\\n",
       "\t 1   & 2   &  40\\\\\n",
       "\t 0   & 3   &   2\\\\\n",
       "\t 1   & 3   &   3\\\\\n",
       "\t 0   & 4   &   4\\\\\n",
       "\t 1   & 4   &   0\\\\\n",
       "\t 0   & 5   &   4\\\\\n",
       "\t 1   & 5   &   1\\\\\n",
       "\t 0   & 6   &   1\\\\\n",
       "\t 1   & 6   &   0\\\\\n",
       "\\end{tabular}\n"
      ],
      "text/markdown": [
       "\n",
       "Var1 | Var2 | Freq | \n",
       "|---|---|---|---|---|---|---|---|---|---|---|---|---|---|\n",
       "| 0   | 0   | 445 | \n",
       "| 1   | 0   | 233 | \n",
       "| 0   | 1   |  53 | \n",
       "| 1   | 1   |  65 | \n",
       "| 0   | 2   |  40 | \n",
       "| 1   | 2   |  40 | \n",
       "| 0   | 3   |   2 | \n",
       "| 1   | 3   |   3 | \n",
       "| 0   | 4   |   4 | \n",
       "| 1   | 4   |   0 | \n",
       "| 0   | 5   |   4 | \n",
       "| 1   | 5   |   1 | \n",
       "| 0   | 6   |   1 | \n",
       "| 1   | 6   |   0 | \n",
       "\n",
       "\n"
      ],
      "text/plain": [
       "   Var1 Var2 Freq\n",
       "1  0    0    445 \n",
       "2  1    0    233 \n",
       "3  0    1     53 \n",
       "4  1    1     65 \n",
       "5  0    2     40 \n",
       "6  1    2     40 \n",
       "7  0    3      2 \n",
       "8  1    3      3 \n",
       "9  0    4      4 \n",
       "10 1    4      0 \n",
       "11 0    5      4 \n",
       "12 1    5      1 \n",
       "13 0    6      1 \n",
       "14 1    6      0 "
      ]
     },
     "metadata": {},
     "output_type": "display_data"
    }
   ],
   "source": [
    "#membuat tabel hubungan survived dan parch\n",
    "dx<-data.frame(table(titanic$Survived,titanic$Parch))\n",
    "dx\n"
   ]
  },
  {
   "cell_type": "code",
   "execution_count": 240,
   "metadata": {},
   "outputs": [
    {
     "data": {},
     "metadata": {},
     "output_type": "display_data"
    },
    {
     "data": {
      "image/png": "[encoded data removed]",
      "text/plain": [
       "plot without title"
      ]
     },
     "metadata": {},
     "output_type": "display_data"
    }
   ],
   "source": [
    "#Plot Pclass dan Embarked\n",
    "ggplot(titanic1,aes(x=Embarked, fill=Pclass))+ \n",
    "theme_bw()+\n",
    "geom_bar(position=\"dodge\") "
   ]
  },
  {
   "cell_type": "code",
   "execution_count": 241,
   "metadata": {},
   "outputs": [
    {
     "data": {},
     "metadata": {},
     "output_type": "display_data"
    },
    {
     "data": {
      "image/png": "[encoded data removed]",
      "text/plain": [
       "plot without title"
      ]
     },
     "metadata": {},
     "output_type": "display_data"
    }
   ],
   "source": [
    "#Plot Embarked, Pclass dan survived\n",
    "ggplot(titanic1,aes(x=Pclass, fill=Survived))+ \n",
    "geom_bar(position=\"dodge\") +\n",
    "theme_bw()+\n",
    "facet_grid(~Embarked)"
   ]
  },
  {
   "cell_type": "markdown",
   "metadata": {},
   "source": [
    "\n",
    "- Penumpang yang berasal dari kelas 3 banyak yang tidak selamat daripada yang selamat.\n",
    "- Sedangkan penumpang kapal titanic yang berangkat dari pelabuhan S paling banyak merupakan kelas 3\n",
    "- Maka dapat dilihat bahwa kematian penumpang paling tinggi yaitu pada pelabuhan S karena sebagian besar penumpangnya termasuk kelas 3."
   ]
  },
  {
   "cell_type": "code",
   "execution_count": null,
   "metadata": {},
   "outputs": [],
   "source": [
    "ggplot(titanic,aes(x=Pclass, fill=Survived))+ \n",
    "geom_bar(position=\"dodge\") +\n",
    "facet_grid(Embarked~Sex)"
   ]
  },
  {
   "cell_type": "code",
   "execution_count": 243,
   "metadata": {
    "scrolled": false
   },
   "outputs": [
    {
     "data": {},
     "metadata": {},
     "output_type": "display_data"
    },
    {
     "data": {
      "image/png": "[encoded data removed]",
      "text/plain": [
       "plot without title"
      ]
     },
     "metadata": {},
     "output_type": "display_data"
    }
   ],
   "source": [
    "#Plot Survived, Embarked,Umur, PClass\n",
    "ggplot(titanic, aes(x = Age, fill = Survived)) +\n",
    "theme_bw() +\n",
    "facet_grid(Sex ~ Pclass) +\n",
    "geom_histogram(binwidth = 5) +\n",
    "labs(y = \"Jumlah Penumpang\", x = \"Umur\", title = \"Tingkat survival penumpang titanic berdasarkan Passenger class, umur, dan jenis kelamin\")"
   ]
  },
  {
   "cell_type": "code",
   "execution_count": 148,
   "metadata": {},
   "outputs": [
    {
     "data": {
      "text/html": [
       "<table>\n",
       "<thead><tr><th scope=col>Sex</th><th scope=col>Survived</th><th scope=col>n</th><th scope=col>persen</th></tr></thead>\n",
       "<tbody>\n",
       "\t<tr><td>female  </td><td>0       </td><td> 81     </td><td>14.75410</td></tr>\n",
       "\t<tr><td>female  </td><td>1       </td><td>233     </td><td>68.12865</td></tr>\n",
       "\t<tr><td>male    </td><td>0       </td><td>468     </td><td>85.24590</td></tr>\n",
       "\t<tr><td>male    </td><td>1       </td><td>109     </td><td>31.87135</td></tr>\n",
       "</tbody>\n",
       "</table>\n"
      ],
      "text/latex": [
       "\\begin{tabular}{r|llll}\n",
       " Sex & Survived & n & persen\\\\\n",
       "\\hline\n",
       "\t female   & 0        &  81      & 14.75410\\\\\n",
       "\t female   & 1        & 233      & 68.12865\\\\\n",
       "\t male     & 0        & 468      & 85.24590\\\\\n",
       "\t male     & 1        & 109      & 31.87135\\\\\n",
       "\\end{tabular}\n"
      ],
      "text/markdown": [
       "\n",
       "Sex | Survived | n | persen | \n",
       "|---|---|---|---|\n",
       "| female   | 0        |  81      | 14.75410 | \n",
       "| female   | 1        | 233      | 68.12865 | \n",
       "| male     | 0        | 468      | 85.24590 | \n",
       "| male     | 1        | 109      | 31.87135 | \n",
       "\n",
       "\n"
      ],
      "text/plain": [
       "  Sex    Survived n   persen  \n",
       "1 female 0         81 14.75410\n",
       "2 female 1        233 68.12865\n",
       "3 male   0        468 85.24590\n",
       "4 male   1        109 31.87135"
      ]
     },
     "metadata": {},
     "output_type": "display_data"
    }
   ],
   "source": [
    "titanic %>% count(Sex, Survived) %>% group_by(Survived) %>% mutate(persen = 100*n/sum(n))"
   ]
  },
  {
   "cell_type": "code",
   "execution_count": 194,
   "metadata": {},
   "outputs": [
    {
     "data": {},
     "metadata": {},
     "output_type": "display_data"
    },
    {
     "data": {
      "image/png": "[encoded data removed]",
      "text/plain": [
       "plot without title"
      ]
     },
     "metadata": {},
     "output_type": "display_data"
    }
   ],
   "source": [
    "ggplot(titanic,aes(x=Pclass, fill=Survived))+ \n",
    "geom_bar(position=\"dodge\") +\n",
    "facet_grid(~Sex)"
   ]
  },
  {
   "cell_type": "code",
   "execution_count": 216,
   "metadata": {},
   "outputs": [],
   "source": [
    "x<-data.frame(table(titanic$Survived,titanic$family))\n",
    "\n",
    "names(x)<-c('Survived','family','Freq')\n"
   ]
  },
  {
   "cell_type": "code",
   "execution_count": 244,
   "metadata": {},
   "outputs": [
    {
     "data": {},
     "metadata": {},
     "output_type": "display_data"
    },
    {
     "data": {
      "image/png": "[encoded data removed]",
      "text/plain": [
       "plot without title"
      ]
     },
     "metadata": {},
     "output_type": "display_data"
    }
   ],
   "source": [
    "#titanic1 %>% count(family) %>% group_by(family)\n",
    "#titanic1 %>% mutate(family == 10)\n",
    "ggplot(x, aes(x=family, y=Freq, fill=Survived)) +\n",
    "geom_bar(stat=\"identity\", position=position_dodge()) +\n",
    "geom_text(aes(label=Freq), vjust=1.6, color=\"white\",\n",
    "            position = position_dodge(0.9), size=3.5)+\n",
    "theme_bw()+\n",
    "  scale_fill_brewer(palette=\"Paired\")"
   ]
  }
 ],
 "metadata": {
  "kernelspec": {
   "display_name": "R",
   "language": "R",
   "name": "ir"
  },
  "language_info": {
   "codemirror_mode": "r",
   "file_extension": ".r",
   "mimetype": "text/x-r-source",
   "name": "R",
   "pygments_lexer": "r",
   "version": "3.4.3"
  }
 },
 "nbformat": 4,
 "nbformat_minor": 2
}
