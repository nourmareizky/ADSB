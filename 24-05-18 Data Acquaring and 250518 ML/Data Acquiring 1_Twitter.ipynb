{
 "cells": [
  {
   "cell_type": "code",
   "execution_count": 66,
   "metadata": {},
   "outputs": [],
   "source": [
    "import tweepy\n",
    "import pprint\n",
    "import requests\n",
    "from bs4 import BeautifulSoup\n",
    "\n"
   ]
  },
  {
   "cell_type": "code",
   "execution_count": 4,
   "metadata": {},
   "outputs": [],
   "source": [
    "\n",
    "consumer_key = '15qTWUV6EyYWP7Si9zXmMjbJ4'\n",
    "consumer_secret = 'CF8GbwxoEpbmMAXgsHn7HT7iWx8YP0sYSKucf1SDji3JaAhXwx'\n",
    "\n",
    "access_token = '55996470-l4LM8DZ0bpfqr4bl6DF5EE9ayXNH3IzyaOnrFYQmy'\n",
    "access_token_secret = '7AdLu8b1RiYB5HocNb97Loy7pyE8nbC2JmpJ9GdBmrvei'\n",
    "\n",
    "auth = tweepy.OAuthHandler(consumer_key, consumer_secret)\n",
    "auth.set_access_token(access_token, access_token_secret)\n",
    "\n",
    "api = tweepy.API(auth)\n"
   ]
  },
  {
   "cell_type": "code",
   "execution_count": 42,
   "metadata": {
    "collapsed": true
   },
   "outputs": [
    {
     "name": "stdout",
     "output_type": "stream",
     "text": [
      "RT @jungdeeks: HJAHAHHAHAHA the journalist is curious, since Yunho is called the 'Leader of Dunia' is he comparable to 'Law of the Jungle'…\n",
      "instead of dipanggil dgn sapaan cantik, sayang(?), dll.. dipanggil dgn sapaan \"bu direktur\" reawwlllly made my day… https://t.co/pat67X7lXY\n",
      "RT @sum_1003: Fan support #두니아 #Dunia\n",
      "cr. Yunberry0206\n",
      "\n",
      "#정윤호 #유노윤호 #yunho #yoonho #ゆの #ユノ #ユンホ #동방신기 #TVXQ #東方神起 #允浩 #제주항공 https://t.co/05U…\n",
      "RT @snxy: #Yunho: the reason why I chose Dunia after not having done variety is that it was a ‘make’ (kind of variety) rather than ‘made’.…\n",
      "RT @rismawirawan: @lix_lee007 aku setuju sih ko sama yang ini meskipun tweet dia dihapus, kalopun emang seating semoga bisa adil sama semua…\n",
      "Lihatlah dia, yg selalu berusaha ada untukmu. Jangan lihat yg lain, lihatlah ke arahnya, hargai dia yg sudah mencob… https://t.co/GZncJ3vr0j\n",
      "RT @TOTALFAT_crew: 【TOTALFAT通販】入荷しては即完売の「ALL THE DREAMER, LIGHT THE DREAM 10th Aniv. Tシャツ」\n",
      "再入荷しました。\n",
      "是非ご利用ください。\n",
      "https://t.co/trnIyQALQF http…\n",
      "RT @VitaminJYH2154: Yunho fans Daebak!!!!! 👏👍\n",
      "#유노윤호 #정윤호 #비타민윤호 #ユノ #ユンホ #允浩 #동방신기 #운명 #우르오스 #ULOS #두니아 #Dunia #처음만난세계 #IntoANewWorld https…\n",
      "Segera lah buatkan bandara untuk sukabumi dan jalur kereta sukabumi - jogja 😁 https://t.co/9JkIIRbU2o\n",
      "RT @UknowPics: Yunho @ Dunia's press conference ^^\n",
      "\n",
      "     💋💋         💋💋\n",
      "💋✨✨💋💋✨✨💋\n",
      "💋✨⭐✨✨⭐✨💋\n",
      "💋✨⭐⭐⭐⭐✨💋\n",
      "   💋✨⭐😍⭐✨💋\n",
      "     💋✨⭐⭐✨💋\n",
      "           💋 ⭐ 💋\n",
      " …\n"
     ]
    }
   ],
   "source": [
    "for status in tweepy.Cursor(api.home_timeline).items(10):\n",
    "    # Process a single status\n",
    "    print(status.text)"
   ]
  },
  {
   "cell_type": "code",
   "execution_count": 8,
   "metadata": {
    "collapsed": true
   },
   "outputs": [
    {
     "ename": "AttributeError",
     "evalue": "'API' object has no attribute 'friends_timeline'",
     "output_type": "error",
     "traceback": [
      "\u001b[1;31m---------------------------------------------------------------------------\u001b[0m",
      "\u001b[1;31mAttributeError\u001b[0m                            Traceback (most recent call last)",
      "\u001b[1;32m<ipython-input-8-770c6412ccd9>\u001b[0m in \u001b[0;36m<module>\u001b[1;34m()\u001b[0m\n\u001b[1;32m----> 1\u001b[1;33m \u001b[1;32mfor\u001b[0m \u001b[0mstatus\u001b[0m \u001b[1;32min\u001b[0m \u001b[0mtweepy\u001b[0m\u001b[1;33m.\u001b[0m\u001b[0mCursor\u001b[0m\u001b[1;33m(\u001b[0m\u001b[0mapi\u001b[0m\u001b[1;33m.\u001b[0m\u001b[0mfriends_timeline\u001b[0m\u001b[1;33m)\u001b[0m\u001b[1;33m.\u001b[0m\u001b[0mitems\u001b[0m\u001b[1;33m(\u001b[0m\u001b[1;36m200\u001b[0m\u001b[1;33m)\u001b[0m\u001b[1;33m:\u001b[0m\u001b[1;33m\u001b[0m\u001b[0m\n\u001b[0m\u001b[0;32m      2\u001b[0m     \u001b[1;31m# Process the status here\u001b[0m\u001b[1;33m\u001b[0m\u001b[1;33m\u001b[0m\u001b[0m\n\u001b[0;32m      3\u001b[0m     \u001b[0mprint\u001b[0m\u001b[1;33m(\u001b[0m\u001b[0mstatus\u001b[0m\u001b[1;33m)\u001b[0m\u001b[1;33m\u001b[0m\u001b[0m\n",
      "\u001b[1;31mAttributeError\u001b[0m: 'API' object has no attribute 'friends_timeline'"
     ]
    }
   ],
   "source": [
    "for status in tweepy.Cursor(api.friends_timeline).items(200):\n",
    "    # Process the status here\n",
    "    print(status)"
   ]
  },
  {
   "cell_type": "code",
   "execution_count": 13,
   "metadata": {
    "collapsed": true
   },
   "outputs": [
    {
     "ename": "RateLimitError",
     "evalue": "[{'message': 'Rate limit exceeded', 'code': 88}]",
     "output_type": "error",
     "traceback": [
      "\u001b[1;31m---------------------------------------------------------------------------\u001b[0m",
      "\u001b[1;31mRateLimitError\u001b[0m                            Traceback (most recent call last)",
      "\u001b[1;32m<ipython-input-13-0ad9e8d68071>\u001b[0m in \u001b[0;36m<module>\u001b[1;34m()\u001b[0m\n\u001b[1;32m----> 1\u001b[1;33m \u001b[1;32mfor\u001b[0m \u001b[0mfriend\u001b[0m \u001b[1;32min\u001b[0m \u001b[0mtweepy\u001b[0m\u001b[1;33m.\u001b[0m\u001b[0mCursor\u001b[0m\u001b[1;33m(\u001b[0m\u001b[0mapi\u001b[0m\u001b[1;33m.\u001b[0m\u001b[0mfriends\u001b[0m\u001b[1;33m)\u001b[0m\u001b[1;33m.\u001b[0m\u001b[0mitems\u001b[0m\u001b[1;33m(\u001b[0m\u001b[1;33m)\u001b[0m\u001b[1;33m:\u001b[0m\u001b[1;33m\u001b[0m\u001b[0m\n\u001b[0m\u001b[0;32m      2\u001b[0m     \u001b[1;31m# Process the friend here\u001b[0m\u001b[1;33m\u001b[0m\u001b[1;33m\u001b[0m\u001b[0m\n\u001b[0;32m      3\u001b[0m     \u001b[0mprint\u001b[0m\u001b[1;33m(\u001b[0m\u001b[0mfriend\u001b[0m\u001b[1;33m)\u001b[0m\u001b[1;33m\u001b[0m\u001b[0m\n",
      "\u001b[1;32m~\\AppData\\Local\\Continuum\\miniconda2\\envs\\py36\\lib\\site-packages\\tweepy\\cursor.py\u001b[0m in \u001b[0;36m__next__\u001b[1;34m(self)\u001b[0m\n\u001b[0;32m     47\u001b[0m \u001b[1;33m\u001b[0m\u001b[0m\n\u001b[0;32m     48\u001b[0m     \u001b[1;32mdef\u001b[0m \u001b[0m__next__\u001b[0m\u001b[1;33m(\u001b[0m\u001b[0mself\u001b[0m\u001b[1;33m)\u001b[0m\u001b[1;33m:\u001b[0m\u001b[1;33m\u001b[0m\u001b[0m\n\u001b[1;32m---> 49\u001b[1;33m         \u001b[1;32mreturn\u001b[0m \u001b[0mself\u001b[0m\u001b[1;33m.\u001b[0m\u001b[0mnext\u001b[0m\u001b[1;33m(\u001b[0m\u001b[1;33m)\u001b[0m\u001b[1;33m\u001b[0m\u001b[0m\n\u001b[0m\u001b[0;32m     50\u001b[0m \u001b[1;33m\u001b[0m\u001b[0m\n\u001b[0;32m     51\u001b[0m     \u001b[1;32mdef\u001b[0m \u001b[0mnext\u001b[0m\u001b[1;33m(\u001b[0m\u001b[0mself\u001b[0m\u001b[1;33m)\u001b[0m\u001b[1;33m:\u001b[0m\u001b[1;33m\u001b[0m\u001b[0m\n",
      "\u001b[1;32m~\\AppData\\Local\\Continuum\\miniconda2\\envs\\py36\\lib\\site-packages\\tweepy\\cursor.py\u001b[0m in \u001b[0;36mnext\u001b[1;34m(self)\u001b[0m\n\u001b[0;32m    195\u001b[0m         \u001b[1;32mif\u001b[0m \u001b[0mself\u001b[0m\u001b[1;33m.\u001b[0m\u001b[0mcurrent_page\u001b[0m \u001b[1;32mis\u001b[0m \u001b[1;32mNone\u001b[0m \u001b[1;32mor\u001b[0m \u001b[0mself\u001b[0m\u001b[1;33m.\u001b[0m\u001b[0mpage_index\u001b[0m \u001b[1;33m==\u001b[0m \u001b[0mlen\u001b[0m\u001b[1;33m(\u001b[0m\u001b[0mself\u001b[0m\u001b[1;33m.\u001b[0m\u001b[0mcurrent_page\u001b[0m\u001b[1;33m)\u001b[0m \u001b[1;33m-\u001b[0m \u001b[1;36m1\u001b[0m\u001b[1;33m:\u001b[0m\u001b[1;33m\u001b[0m\u001b[0m\n\u001b[0;32m    196\u001b[0m             \u001b[1;31m# Reached end of current page, get the next page...\u001b[0m\u001b[1;33m\u001b[0m\u001b[1;33m\u001b[0m\u001b[0m\n\u001b[1;32m--> 197\u001b[1;33m             \u001b[0mself\u001b[0m\u001b[1;33m.\u001b[0m\u001b[0mcurrent_page\u001b[0m \u001b[1;33m=\u001b[0m \u001b[0mself\u001b[0m\u001b[1;33m.\u001b[0m\u001b[0mpage_iterator\u001b[0m\u001b[1;33m.\u001b[0m\u001b[0mnext\u001b[0m\u001b[1;33m(\u001b[0m\u001b[1;33m)\u001b[0m\u001b[1;33m\u001b[0m\u001b[0m\n\u001b[0m\u001b[0;32m    198\u001b[0m             \u001b[0mself\u001b[0m\u001b[1;33m.\u001b[0m\u001b[0mpage_index\u001b[0m \u001b[1;33m=\u001b[0m \u001b[1;33m-\u001b[0m\u001b[1;36m1\u001b[0m\u001b[1;33m\u001b[0m\u001b[0m\n\u001b[0;32m    199\u001b[0m         \u001b[0mself\u001b[0m\u001b[1;33m.\u001b[0m\u001b[0mpage_index\u001b[0m \u001b[1;33m+=\u001b[0m \u001b[1;36m1\u001b[0m\u001b[1;33m\u001b[0m\u001b[0m\n",
      "\u001b[1;32m~\\AppData\\Local\\Continuum\\miniconda2\\envs\\py36\\lib\\site-packages\\tweepy\\cursor.py\u001b[0m in \u001b[0;36mnext\u001b[1;34m(self)\u001b[0m\n\u001b[0;32m     73\u001b[0m         data, cursors = self.method(cursor=self.next_cursor,\n\u001b[0;32m     74\u001b[0m                                     \u001b[1;33m*\u001b[0m\u001b[0mself\u001b[0m\u001b[1;33m.\u001b[0m\u001b[0margs\u001b[0m\u001b[1;33m,\u001b[0m\u001b[1;33m\u001b[0m\u001b[0m\n\u001b[1;32m---> 75\u001b[1;33m                                     **self.kargs)\n\u001b[0m\u001b[0;32m     76\u001b[0m         \u001b[0mself\u001b[0m\u001b[1;33m.\u001b[0m\u001b[0mprev_cursor\u001b[0m\u001b[1;33m,\u001b[0m \u001b[0mself\u001b[0m\u001b[1;33m.\u001b[0m\u001b[0mnext_cursor\u001b[0m \u001b[1;33m=\u001b[0m \u001b[0mcursors\u001b[0m\u001b[1;33m\u001b[0m\u001b[0m\n\u001b[0;32m     77\u001b[0m         \u001b[1;32mif\u001b[0m \u001b[0mlen\u001b[0m\u001b[1;33m(\u001b[0m\u001b[0mdata\u001b[0m\u001b[1;33m)\u001b[0m \u001b[1;33m==\u001b[0m \u001b[1;36m0\u001b[0m\u001b[1;33m:\u001b[0m\u001b[1;33m\u001b[0m\u001b[0m\n",
      "\u001b[1;32m~\\AppData\\Local\\Continuum\\miniconda2\\envs\\py36\\lib\\site-packages\\tweepy\\binder.py\u001b[0m in \u001b[0;36m_call\u001b[1;34m(*args, **kwargs)\u001b[0m\n\u001b[0;32m    248\u001b[0m             \u001b[1;32mreturn\u001b[0m \u001b[0mmethod\u001b[0m\u001b[1;33m\u001b[0m\u001b[0m\n\u001b[0;32m    249\u001b[0m         \u001b[1;32melse\u001b[0m\u001b[1;33m:\u001b[0m\u001b[1;33m\u001b[0m\u001b[0m\n\u001b[1;32m--> 250\u001b[1;33m             \u001b[1;32mreturn\u001b[0m \u001b[0mmethod\u001b[0m\u001b[1;33m.\u001b[0m\u001b[0mexecute\u001b[0m\u001b[1;33m(\u001b[0m\u001b[1;33m)\u001b[0m\u001b[1;33m\u001b[0m\u001b[0m\n\u001b[0m\u001b[0;32m    251\u001b[0m \u001b[1;33m\u001b[0m\u001b[0m\n\u001b[0;32m    252\u001b[0m     \u001b[1;31m# Set pagination mode\u001b[0m\u001b[1;33m\u001b[0m\u001b[1;33m\u001b[0m\u001b[0m\n",
      "\u001b[1;32m~\\AppData\\Local\\Continuum\\miniconda2\\envs\\py36\\lib\\site-packages\\tweepy\\binder.py\u001b[0m in \u001b[0;36mexecute\u001b[1;34m(self)\u001b[0m\n\u001b[0;32m    230\u001b[0m \u001b[1;33m\u001b[0m\u001b[0m\n\u001b[0;32m    231\u001b[0m                 \u001b[1;32mif\u001b[0m \u001b[0mis_rate_limit_error_message\u001b[0m\u001b[1;33m(\u001b[0m\u001b[0merror_msg\u001b[0m\u001b[1;33m)\u001b[0m\u001b[1;33m:\u001b[0m\u001b[1;33m\u001b[0m\u001b[0m\n\u001b[1;32m--> 232\u001b[1;33m                     \u001b[1;32mraise\u001b[0m \u001b[0mRateLimitError\u001b[0m\u001b[1;33m(\u001b[0m\u001b[0merror_msg\u001b[0m\u001b[1;33m,\u001b[0m \u001b[0mresp\u001b[0m\u001b[1;33m)\u001b[0m\u001b[1;33m\u001b[0m\u001b[0m\n\u001b[0m\u001b[0;32m    233\u001b[0m                 \u001b[1;32melse\u001b[0m\u001b[1;33m:\u001b[0m\u001b[1;33m\u001b[0m\u001b[0m\n\u001b[0;32m    234\u001b[0m                     \u001b[1;32mraise\u001b[0m \u001b[0mTweepError\u001b[0m\u001b[1;33m(\u001b[0m\u001b[0merror_msg\u001b[0m\u001b[1;33m,\u001b[0m \u001b[0mresp\u001b[0m\u001b[1;33m,\u001b[0m \u001b[0mapi_code\u001b[0m\u001b[1;33m=\u001b[0m\u001b[0mapi_error_code\u001b[0m\u001b[1;33m)\u001b[0m\u001b[1;33m\u001b[0m\u001b[0m\n",
      "\u001b[1;31mRateLimitError\u001b[0m: [{'message': 'Rate limit exceeded', 'code': 88}]"
     ]
    }
   ],
   "source": [
    "for friend in tweepy.Cursor(api.friends).items():\n",
    "    # Process the friend here\n",
    "    print(friend)"
   ]
  },
  {
   "cell_type": "code",
   "execution_count": 14,
   "metadata": {},
   "outputs": [],
   "source": [
    "user = api.get_user('nourmareizkyd')"
   ]
  },
  {
   "cell_type": "code",
   "execution_count": 40,
   "metadata": {
    "collapsed": true
   },
   "outputs": [
    {
     "data": {
      "text/plain": [
       "User(_api=<tweepy.api.API object at 0x000001D5F5E17EF0>, _json={'id': 55996470, 'id_str': '55996470', 'name': 'Nourma Reizky D', 'screen_name': 'nourmareizkyd', 'location': 'Indonesia', 'profile_location': None, 'description': 'read and write | still fangirl', 'url': 'https://t.co/V7mZh1xfER', 'entities': {'url': {'urls': [{'url': 'https://t.co/V7mZh1xfER', 'expanded_url': 'http://letsclickrefresh.tumblr.com', 'display_url': 'letsclickrefresh.tumblr.com', 'indices': [0, 23]}]}, 'description': {'urls': []}}, 'protected': False, 'followers_count': 513, 'friends_count': 865, 'listed_count': 2, 'created_at': 'Sun Jul 12 02:37:25 +0000 2009', 'favourites_count': 278, 'utc_offset': None, 'time_zone': None, 'geo_enabled': True, 'verified': False, 'statuses_count': 12709, 'lang': 'en', 'status': {'created_at': 'Sun May 13 07:45:19 +0000 2018', 'id': 995570669382389761, 'id_str': '995570669382389761', 'text': '@yuzalea Sapa sih itu mb?', 'truncated': False, 'entities': {'hashtags': [], 'symbols': [], 'user_mentions': [{'screen_name': 'yuzalea', 'name': 'Yusva Hardiyanti', 'id': 124181599, 'id_str': '124181599', 'indices': [0, 8]}], 'urls': []}, 'source': '<a href=\"https://mobile.twitter.com\" rel=\"nofollow\">Twitter Lite</a>', 'in_reply_to_status_id': 995465351860113408, 'in_reply_to_status_id_str': '995465351860113408', 'in_reply_to_user_id': 124181599, 'in_reply_to_user_id_str': '124181599', 'in_reply_to_screen_name': 'yuzalea', 'geo': None, 'coordinates': None, 'place': None, 'contributors': None, 'is_quote_status': False, 'retweet_count': 0, 'favorite_count': 0, 'favorited': False, 'retweeted': False, 'lang': 'in'}, 'contributors_enabled': False, 'is_translator': False, 'is_translation_enabled': False, 'profile_background_color': '1A1B1F', 'profile_background_image_url': 'http://pbs.twimg.com/profile_background_images/436389657572421632/mur1FfXU.jpeg', 'profile_background_image_url_https': 'https://pbs.twimg.com/profile_background_images/436389657572421632/mur1FfXU.jpeg', 'profile_background_tile': True, 'profile_image_url': 'http://pbs.twimg.com/profile_images/951608166529183744/pXNwQWA0_normal.jpg', 'profile_image_url_https': 'https://pbs.twimg.com/profile_images/951608166529183744/pXNwQWA0_normal.jpg', 'profile_banner_url': 'https://pbs.twimg.com/profile_banners/55996470/1510211049', 'profile_link_color': '1B95E0', 'profile_sidebar_border_color': 'FFFFFF', 'profile_sidebar_fill_color': 'DDEEF6', 'profile_text_color': '333333', 'profile_use_background_image': True, 'has_extended_profile': False, 'default_profile': False, 'default_profile_image': False, 'following': False, 'follow_request_sent': False, 'notifications': False, 'translator_type': 'none', 'suspended': False, 'needs_phone_verification': False}, id=55996470, id_str='55996470', name='Nourma Reizky D', screen_name='nourmareizkyd', location='Indonesia', profile_location=None, description='read and write | still fangirl', url='https://t.co/V7mZh1xfER', entities={'url': {'urls': [{'url': 'https://t.co/V7mZh1xfER', 'expanded_url': 'http://letsclickrefresh.tumblr.com', 'display_url': 'letsclickrefresh.tumblr.com', 'indices': [0, 23]}]}, 'description': {'urls': []}}, protected=False, followers_count=513, friends_count=865, listed_count=2, created_at=datetime.datetime(2009, 7, 12, 2, 37, 25), favourites_count=278, utc_offset=None, time_zone=None, geo_enabled=True, verified=False, statuses_count=12709, lang='en', status=Status(_api=<tweepy.api.API object at 0x000001D5F5E17EF0>, _json={'created_at': 'Sun May 13 07:45:19 +0000 2018', 'id': 995570669382389761, 'id_str': '995570669382389761', 'text': '@yuzalea Sapa sih itu mb?', 'truncated': False, 'entities': {'hashtags': [], 'symbols': [], 'user_mentions': [{'screen_name': 'yuzalea', 'name': 'Yusva Hardiyanti', 'id': 124181599, 'id_str': '124181599', 'indices': [0, 8]}], 'urls': []}, 'source': '<a href=\"https://mobile.twitter.com\" rel=\"nofollow\">Twitter Lite</a>', 'in_reply_to_status_id': 995465351860113408, 'in_reply_to_status_id_str': '995465351860113408', 'in_reply_to_user_id': 124181599, 'in_reply_to_user_id_str': '124181599', 'in_reply_to_screen_name': 'yuzalea', 'geo': None, 'coordinates': None, 'place': None, 'contributors': None, 'is_quote_status': False, 'retweet_count': 0, 'favorite_count': 0, 'favorited': False, 'retweeted': False, 'lang': 'in'}, created_at=datetime.datetime(2018, 5, 13, 7, 45, 19), id=995570669382389761, id_str='995570669382389761', text='@yuzalea Sapa sih itu mb?', truncated=False, entities={'hashtags': [], 'symbols': [], 'user_mentions': [{'screen_name': 'yuzalea', 'name': 'Yusva Hardiyanti', 'id': 124181599, 'id_str': '124181599', 'indices': [0, 8]}], 'urls': []}, source='Twitter Lite', source_url='https://mobile.twitter.com', in_reply_to_status_id=995465351860113408, in_reply_to_status_id_str='995465351860113408', in_reply_to_user_id=124181599, in_reply_to_user_id_str='124181599', in_reply_to_screen_name='yuzalea', geo=None, coordinates=None, place=None, contributors=None, is_quote_status=False, retweet_count=0, favorite_count=0, favorited=False, retweeted=False, lang='in'), contributors_enabled=False, is_translator=False, is_translation_enabled=False, profile_background_color='1A1B1F', profile_background_image_url='http://pbs.twimg.com/profile_background_images/436389657572421632/mur1FfXU.jpeg', profile_background_image_url_https='https://pbs.twimg.com/profile_background_images/436389657572421632/mur1FfXU.jpeg', profile_background_tile=True, profile_image_url='http://pbs.twimg.com/profile_images/951608166529183744/pXNwQWA0_normal.jpg', profile_image_url_https='https://pbs.twimg.com/profile_images/951608166529183744/pXNwQWA0_normal.jpg', profile_banner_url='https://pbs.twimg.com/profile_banners/55996470/1510211049', profile_link_color='1B95E0', profile_sidebar_border_color='FFFFFF', profile_sidebar_fill_color='DDEEF6', profile_text_color='333333', profile_use_background_image=True, has_extended_profile=False, default_profile=False, default_profile_image=False, following=False, follow_request_sent=False, notifications=False, translator_type='none', suspended=False, needs_phone_verification=False)"
      ]
     },
     "execution_count": 40,
     "metadata": {},
     "output_type": "execute_result"
    }
   ],
   "source": [
    "user"
   ]
  },
  {
   "cell_type": "code",
   "execution_count": 29,
   "metadata": {},
   "outputs": [
    {
     "name": "stdout",
     "output_type": "stream",
     "text": [
      "nourmareizkyd\n",
      "read and write | still fangirl\n",
      "513\n",
      "12709\n",
      "2009-07-12 02:37:25\n"
     ]
    }
   ],
   "source": [
    "print (user.screen_name)\n",
    "print (user.description)\n",
    "print (user.followers_count)\n",
    "print (user.statuses_count)\n",
    "print(user.created_at)\n",
    "#for friend in user.friends():\n",
    " #   print(friend.screen_name)"
   ]
  },
  {
   "cell_type": "code",
   "execution_count": 36,
   "metadata": {
    "collapsed": true
   },
   "outputs": [
    {
     "name": "stdout",
     "output_type": "stream",
     "text": [
      "{'contributors_enabled': False,\n",
      " 'created_at': 'Sun Jul 12 02:37:25 +0000 2009',\n",
      " 'default_profile': False,\n",
      " 'default_profile_image': False,\n",
      " 'description': 'read and write | still fangirl',\n",
      " 'entities': {'description': {'urls': []},\n",
      "              'url': {'urls': [{'display_url': 'letsclickrefresh.tumblr.com',\n",
      "                                'expanded_url': 'http://letsclickrefresh.tumblr.com',\n",
      "                                'indices': [0, 23],\n",
      "                                'url': 'https://t.co/V7mZh1xfER'}]}},\n",
      " 'favourites_count': 278,\n",
      " 'follow_request_sent': False,\n",
      " 'followers_count': 513,\n",
      " 'following': False,\n",
      " 'friends_count': 865,\n",
      " 'geo_enabled': True,\n",
      " 'has_extended_profile': False,\n",
      " 'id': 55996470,\n",
      " 'id_str': '55996470',\n",
      " 'is_translation_enabled': False,\n",
      " 'is_translator': False,\n",
      " 'lang': 'en',\n",
      " 'listed_count': 2,\n",
      " 'location': 'Indonesia',\n",
      " 'name': 'Nourma Reizky D',\n",
      " 'needs_phone_verification': False,\n",
      " 'notifications': False,\n",
      " 'profile_background_color': '1A1B1F',\n",
      " 'profile_background_image_url': 'http://pbs.twimg.com/profile_background_images/436389657572421632/mur1FfXU.jpeg',\n",
      " 'profile_background_image_url_https': 'https://pbs.twimg.com/profile_background_images/436389657572421632/mur1FfXU.jpeg',\n",
      " 'profile_background_tile': True,\n",
      " 'profile_banner_url': 'https://pbs.twimg.com/profile_banners/55996470/1510211049',\n",
      " 'profile_image_url': 'http://pbs.twimg.com/profile_images/951608166529183744/pXNwQWA0_normal.jpg',\n",
      " 'profile_image_url_https': 'https://pbs.twimg.com/profile_images/951608166529183744/pXNwQWA0_normal.jpg',\n",
      " 'profile_link_color': '1B95E0',\n",
      " 'profile_location': None,\n",
      " 'profile_sidebar_border_color': 'FFFFFF',\n",
      " 'profile_sidebar_fill_color': 'DDEEF6',\n",
      " 'profile_text_color': '333333',\n",
      " 'profile_use_background_image': True,\n",
      " 'protected': False,\n",
      " 'screen_name': 'nourmareizkyd',\n",
      " 'status': {'contributors': None,\n",
      "            'coordinates': None,\n",
      "            'created_at': 'Sun May 13 07:45:19 +0000 2018',\n",
      "            'entities': {'hashtags': [],\n",
      "                         'symbols': [],\n",
      "                         'urls': [],\n",
      "                         'user_mentions': [{'id': 124181599,\n",
      "                                            'id_str': '124181599',\n",
      "                                            'indices': [0, 8],\n",
      "                                            'name': 'Yusva Hardiyanti',\n",
      "                                            'screen_name': 'yuzalea'}]},\n",
      "            'favorite_count': 0,\n",
      "            'favorited': False,\n",
      "            'geo': None,\n",
      "            'id': 995570669382389761,\n",
      "            'id_str': '995570669382389761',\n",
      "            'in_reply_to_screen_name': 'yuzalea',\n",
      "            'in_reply_to_status_id': 995465351860113408,\n",
      "            'in_reply_to_status_id_str': '995465351860113408',\n",
      "            'in_reply_to_user_id': 124181599,\n",
      "            'in_reply_to_user_id_str': '124181599',\n",
      "            'is_quote_status': False,\n",
      "            'lang': 'in',\n",
      "            'place': None,\n",
      "            'retweet_count': 0,\n",
      "            'retweeted': False,\n",
      "            'source': '<a href=\"https://mobile.twitter.com\" '\n",
      "                      'rel=\"nofollow\">Twitter Lite</a>',\n",
      "            'text': '@yuzalea Sapa sih itu mb?',\n",
      "            'truncated': False},\n",
      " 'statuses_count': 12709,\n",
      " 'suspended': False,\n",
      " 'time_zone': None,\n",
      " 'translator_type': 'none',\n",
      " 'url': 'https://t.co/V7mZh1xfER',\n",
      " 'utc_offset': None,\n",
      " 'verified': False}\n"
     ]
    }
   ],
   "source": [
    "pprint.pprint(user._json)"
   ]
  },
  {
   "cell_type": "code",
   "execution_count": 74,
   "metadata": {
    "collapsed": true
   },
   "outputs": [
    {
     "name": "stdout",
     "output_type": "stream",
     "text": [
      "@yuzalea Sapa sih itu mb?\n"
     ]
    }
   ],
   "source": [
    "for page in tweepy.Cursor(api.user_timeline).items(1):\n",
    "    print(page.text)"
   ]
  },
  {
   "cell_type": "code",
   "execution_count": 71,
   "metadata": {
    "collapsed": true
   },
   "outputs": [
    {
     "name": "stdout",
     "output_type": "stream",
     "text": [
      "@nourmareizkyd Katanya sih artis twitter gt.. coba aja buka 😅 aku jg ga paham sih sama mksud postingannya wkwkwk\n",
      "@nourmareizkyd Halaya kamu juga tooh wis duwe kesibukan masing2 wkwkw sing penting semangat 🤣\n",
      "@nourmareizkyd Iyoo ada urusan sediluk di kampus cuma sampe sesok tok tapii senin kudu wis balik wkwkw 😂 kamu rak yo di jakarta tah?\n",
      "@nourmareizkyd Aku ketemu ubai mba icha yona dkk lhooo wwkwkw ngevent\n",
      "@nourmareizkyd Wwkwkwkw oeee mba nourmm piyee kabareee 🤣🤣\n",
      "Sibuk apayaa, menggerakkan roda usaha kali\n",
      "@nourmareizkyd @AgtaWk Bukan ngomongin kok nourm, seriusan deh\n",
      "@nourmareizkyd Mbaaa pulang jogja. Nnt kita bermainn :)\n",
      "@AgtaWk @nourmareizkyd Yo kan dewe gak reti 😂\n",
      "@ShoddiqJati @nourmareizkyd Rak ketang mung sebelah jat?\n",
      "@nourmareizkyd Terkadang rindu memang harus diungkapkan\n",
      "@nourmareizkyd Oraaaa . Neng sby aku nor wkwk\n",
      "@nourmareizkyd Open it through Youtube App, u will see. Kayaknya ga ada kalo open di web. Persis kaya ig lol. Story… https://t.co/1yIAEWreHD\n",
      "@nourmareizkyd Samasamaaa\n",
      "@nourmareizkyd What's happened?\n",
      "@nourmareizkyd Waow, alhamdulillah moga berkah wa lancar..\n",
      "Nyehehe faiz masih di garis luarnya, \"in-to\" machine learning ^^\n",
      "@nourmareizkyd Why Worry - Everly Brothers\n",
      "@nourmareizkyd Semangat! \n",
      "Tapi ini dah diterima kah? @nourmareizkyd\n",
      "@nourmareizkyd Wuoo aku kira main wkwkwk\n",
      "@nourmareizkyd Pretest apaan nourm?\n",
      "@nourmareizkyd Padahal cerewet banget 😂\n"
     ]
    }
   ],
   "source": [
    "for page in tweepy.Cursor(api.mentions_timeline).pages(1):\n",
    "    for p in page:\n",
    "        print(p.text)"
   ]
  },
  {
   "cell_type": "code",
   "execution_count": 75,
   "metadata": {
    "collapsed": true
   },
   "outputs": [
    {
     "name": "stdout",
     "output_type": "stream",
     "text": [
      "Pendaratan perdana di Bandara Internasional Kertajati disambut seremoni water salute. Bandara sudah siap dimanfaatk… https://t.co/0Hdkuu33ij\n",
      "Nyobain kereta Api Minangkabau Ekspres yg menjadi kereta bandara ketiga di Indonesia, setelah KA Bandara Kualanamu… https://t.co/XOq6pz2AQX\n",
      "Mari kita maknai hari kebangkitan nasional dg kesadaran kita bangsa yg besar, bangsa pemenang, yg bisa makmur dan s… https://t.co/s8Gik63Y2K\n",
      "Tindakan preventif jauh lebih penting dibandingkan langkah2 represif dalam mengatasi terorisme. Dan langkah2 preven… https://t.co/rWz3mON9WD\n",
      "Pemerintah juga dalam proses pembentukan Komando Operasi Khusus Gabungan TNI untuk menangani terorisme apabila situ… https://t.co/Nj9s1BTY2a\n",
      "Saat ini pemerintah dan DPR sedang berusaha agar revisi Undang-Undang Antiterorisme bisa segera diselesaikan secepatnya\n",
      "Saat buka puasa bersama pimpinan lembaga negara, menteri &amp; tokoh agama, kemarin, saya ingatkan betapa kejam &amp; kejin… https://t.co/z8r7m7KQHu\n",
      "Dengan buku kita mendapatkan banyak pengetahuan, membuka wawasan berpikir dan semakin bijak dalam bersikap. Selamat… https://t.co/8Xlraqlm5p\n",
      "Indonesia berbangga atas prestasi Fransiska Dimitri dan Mathilda Dwi Lestari yang telah berhasil mengibarkan Bender… https://t.co/qjZVquc94R\n",
      "Tadi Sholat Tarawih pertama Ramadhan di Masjid Istiqlal. Ceramah Imam Besar Prof. Dr. Nasaruddin Umar bagus sekali,… https://t.co/VH5QY2gR81\n",
      "Ekspor dalam jumlah yg besar sekali ini bisa jadi penanda bahwa Indonesia memiliki peran yg sangat strategis dalam… https://t.co/IbJ4ASQjOm\n",
      "Alhamdulillah, kemarin (dua hari menjelang puasa) kita mengekspor produk2 Indonesia ke Amerika Serikat dengan jumla… https://t.co/TJDogi2g6z\n",
      "Marhaban yaa Ramadhan 1439 H. Puasa untuk mencapai derajat taqwa dan menjauhkan diri dari perbuatan keji dan munkar -Jkw\n",
      "Jumlah dana desa terus ditingkatkan:\n",
      "\n",
      "2015: Rp20 T\n",
      "2016: Rp47 T\n",
      "2017: Rp60 T\n",
      "2018: Rp60 T\n",
      "\n",
      "Jadi uang akan berputar… https://t.co/dRtdfuY6Am\n",
      "Meskipun kita masih dalam keadaan berduka, tapi kita tidak boleh larut. Kita harus kembali bekerja. Teroris2 sedang… https://t.co/Rf7rAPVCYh\n",
      "UU ini merupakan payung hukum yang penting bagi aparat, bagi Polri untuk bisa menindak tegas baik dalam pencegahan… https://t.co/sRPi9uBsD3\n",
      "Saya juga minta ke DPR dan kementerian terkait yang berhubungan dengan revisi UU Tindak Pidana Terorisme, yang suda… https://t.co/I6aiK88M2E\n",
      "Saya telah memerintahkan Kapolri untuk mengambil langkah tegas, tidak ada kompromi dalam mengambil tindakan2 di lap… https://t.co/A93DJkb1JT\n",
      "Ini adalah tindakan pengecut, tindakan yang tidak bermartabat, tindakan yang biadab. Perlu saya tegaskan lagi kita… https://t.co/9WLDvlrnUM\n",
      "Setelah kejadian di 3 lokasi di Surabaya kemarin, tadi malam ada satu kejadian lagi di Sidoarjo dan pagi hari ini b… https://t.co/d0DJMKg9sB\n"
     ]
    }
   ],
   "source": [
    "user = api.user_timeline('Jokowi') \n",
    "for x in user:\n",
    "    print(x.text)\n"
   ]
  },
  {
   "cell_type": "code",
   "execution_count": 99,
   "metadata": {
    "collapsed": true
   },
   "outputs": [
    {
     "name": "stdout",
     "output_type": "stream",
     "text": [
      "Status(_api=<tweepy.api.API object at 0x000001D5F5E17EF0>, _json={'created_at': 'Thu May 24 06:33:15 +0000 2018', 'id': 999538803323715584, 'id_str': '999538803323715584', 'text': 'Pendaratan perdana di Bandara Internasional Kertajati disambut seremoni water salute. Bandara sudah siap dimanfaatk… https://t.co/0Hdkuu33ij', 'truncated': True, 'entities': {'hashtags': [], 'symbols': [], 'user_mentions': [], 'urls': [{'url': 'https://t.co/0Hdkuu33ij', 'expanded_url': 'https://twitter.com/i/web/status/999538803323715584', 'display_url': 'twitter.com/i/web/status/9…', 'indices': [117, 140]}]}, 'source': '<a href=\"http://twitter.com/download/iphone\" rel=\"nofollow\">Twitter for iPhone</a>', 'in_reply_to_status_id': None, 'in_reply_to_status_id_str': None, 'in_reply_to_user_id': None, 'in_reply_to_user_id_str': None, 'in_reply_to_screen_name': None, 'user': {'id': 366987179, 'id_str': '366987179', 'name': 'Joko Widodo', 'screen_name': 'jokowi', 'location': 'Jakarta', 'description': 'Akun resmi Joko Widodo, Presiden Republik Indonesia', 'url': None, 'entities': {'description': {'urls': []}}, 'protected': False, 'followers_count': 10212297, 'friends_count': 60, 'listed_count': 3686, 'created_at': 'Sat Sep 03 05:21:21 +0000 2011', 'favourites_count': 0, 'utc_offset': 25200, 'time_zone': 'Jakarta', 'geo_enabled': True, 'verified': True, 'statuses_count': 935, 'lang': 'en', 'contributors_enabled': False, 'is_translator': False, 'is_translation_enabled': False, 'profile_background_color': '5B5C5A', 'profile_background_image_url': 'http://abs.twimg.com/images/themes/theme14/bg.gif', 'profile_background_image_url_https': 'https://abs.twimg.com/images/themes/theme14/bg.gif', 'profile_background_tile': True, 'profile_image_url': 'http://pbs.twimg.com/profile_images/953822043211886592/IUEJdPg9_normal.jpg', 'profile_image_url_https': 'https://pbs.twimg.com/profile_images/953822043211886592/IUEJdPg9_normal.jpg', 'profile_banner_url': 'https://pbs.twimg.com/profile_banners/366987179/1516243874', 'profile_link_color': '009999', 'profile_sidebar_border_color': 'FFFFFF', 'profile_sidebar_fill_color': '99CC33', 'profile_text_color': '3E4415', 'profile_use_background_image': False, 'has_extended_profile': False, 'default_profile': False, 'default_profile_image': False, 'following': False, 'follow_request_sent': False, 'notifications': False, 'translator_type': 'regular'}, 'geo': None, 'coordinates': None, 'place': None, 'contributors': None, 'is_quote_status': False, 'retweet_count': 611, 'favorite_count': 1392, 'favorited': False, 'retweeted': False, 'possibly_sensitive': False, 'lang': 'in'}, created_at=datetime.datetime(2018, 5, 24, 6, 33, 15), id=999538803323715584, id_str='999538803323715584', text='Pendaratan perdana di Bandara Internasional Kertajati disambut seremoni water salute. Bandara sudah siap dimanfaatk… https://t.co/0Hdkuu33ij', truncated=True, entities={'hashtags': [], 'symbols': [], 'user_mentions': [], 'urls': [{'url': 'https://t.co/0Hdkuu33ij', 'expanded_url': 'https://twitter.com/i/web/status/999538803323715584', 'display_url': 'twitter.com/i/web/status/9…', 'indices': [117, 140]}]}, source='Twitter for iPhone', source_url='http://twitter.com/download/iphone', in_reply_to_status_id=None, in_reply_to_status_id_str=None, in_reply_to_user_id=None, in_reply_to_user_id_str=None, in_reply_to_screen_name=None, author=User(_api=<tweepy.api.API object at 0x000001D5F5E17EF0>, _json={'id': 366987179, 'id_str': '366987179', 'name': 'Joko Widodo', 'screen_name': 'jokowi', 'location': 'Jakarta', 'description': 'Akun resmi Joko Widodo, Presiden Republik Indonesia', 'url': None, 'entities': {'description': {'urls': []}}, 'protected': False, 'followers_count': 10212297, 'friends_count': 60, 'listed_count': 3686, 'created_at': 'Sat Sep 03 05:21:21 +0000 2011', 'favourites_count': 0, 'utc_offset': 25200, 'time_zone': 'Jakarta', 'geo_enabled': True, 'verified': True, 'statuses_count': 935, 'lang': 'en', 'contributors_enabled': False, 'is_translator': False, 'is_translation_enabled': False, 'profile_background_color': '5B5C5A', 'profile_background_image_url': 'http://abs.twimg.com/images/themes/theme14/bg.gif', 'profile_background_image_url_https': 'https://abs.twimg.com/images/themes/theme14/bg.gif', 'profile_background_tile': True, 'profile_image_url': 'http://pbs.twimg.com/profile_images/953822043211886592/IUEJdPg9_normal.jpg', 'profile_image_url_https': 'https://pbs.twimg.com/profile_images/953822043211886592/IUEJdPg9_normal.jpg', 'profile_banner_url': 'https://pbs.twimg.com/profile_banners/366987179/1516243874', 'profile_link_color': '009999', 'profile_sidebar_border_color': 'FFFFFF', 'profile_sidebar_fill_color': '99CC33', 'profile_text_color': '3E4415', 'profile_use_background_image': False, 'has_extended_profile': False, 'default_profile': False, 'default_profile_image': False, 'following': False, 'follow_request_sent': False, 'notifications': False, 'translator_type': 'regular'}, id=366987179, id_str='366987179', name='Joko Widodo', screen_name='jokowi', location='Jakarta', description='Akun resmi Joko Widodo, Presiden Republik Indonesia', url=None, entities={'description': {'urls': []}}, protected=False, followers_count=10212297, friends_count=60, listed_count=3686, created_at=datetime.datetime(2011, 9, 3, 5, 21, 21), favourites_count=0, utc_offset=25200, time_zone='Jakarta', geo_enabled=True, verified=True, statuses_count=935, lang='en', contributors_enabled=False, is_translator=False, is_translation_enabled=False, profile_background_color='5B5C5A', profile_background_image_url='http://abs.twimg.com/images/themes/theme14/bg.gif', profile_background_image_url_https='https://abs.twimg.com/images/themes/theme14/bg.gif', profile_background_tile=True, profile_image_url='http://pbs.twimg.com/profile_images/953822043211886592/IUEJdPg9_normal.jpg', profile_image_url_https='https://pbs.twimg.com/profile_images/953822043211886592/IUEJdPg9_normal.jpg', profile_banner_url='https://pbs.twimg.com/profile_banners/366987179/1516243874', profile_link_color='009999', profile_sidebar_border_color='FFFFFF', profile_sidebar_fill_color='99CC33', profile_text_color='3E4415', profile_use_background_image=False, has_extended_profile=False, default_profile=False, default_profile_image=False, following=False, follow_request_sent=False, notifications=False, translator_type='regular'), user=User(_api=<tweepy.api.API object at 0x000001D5F5E17EF0>, _json={'id': 366987179, 'id_str': '366987179', 'name': 'Joko Widodo', 'screen_name': 'jokowi', 'location': 'Jakarta', 'description': 'Akun resmi Joko Widodo, Presiden Republik Indonesia', 'url': None, 'entities': {'description': {'urls': []}}, 'protected': False, 'followers_count': 10212297, 'friends_count': 60, 'listed_count': 3686, 'created_at': 'Sat Sep 03 05:21:21 +0000 2011', 'favourites_count': 0, 'utc_offset': 25200, 'time_zone': 'Jakarta', 'geo_enabled': True, 'verified': True, 'statuses_count': 935, 'lang': 'en', 'contributors_enabled': False, 'is_translator': False, 'is_translation_enabled': False, 'profile_background_color': '5B5C5A', 'profile_background_image_url': 'http://abs.twimg.com/images/themes/theme14/bg.gif', 'profile_background_image_url_https': 'https://abs.twimg.com/images/themes/theme14/bg.gif', 'profile_background_tile': True, 'profile_image_url': 'http://pbs.twimg.com/profile_images/953822043211886592/IUEJdPg9_normal.jpg', 'profile_image_url_https': 'https://pbs.twimg.com/profile_images/953822043211886592/IUEJdPg9_normal.jpg', 'profile_banner_url': 'https://pbs.twimg.com/profile_banners/366987179/1516243874', 'profile_link_color': '009999', 'profile_sidebar_border_color': 'FFFFFF', 'profile_sidebar_fill_color': '99CC33', 'profile_text_color': '3E4415', 'profile_use_background_image': False, 'has_extended_profile': False, 'default_profile': False, 'default_profile_image': False, 'following': False, 'follow_request_sent': False, 'notifications': False, 'translator_type': 'regular'}, id=366987179, id_str='366987179', name='Joko Widodo', screen_name='jokowi', location='Jakarta', description='Akun resmi Joko Widodo, Presiden Republik Indonesia', url=None, entities={'description': {'urls': []}}, protected=False, followers_count=10212297, friends_count=60, listed_count=3686, created_at=datetime.datetime(2011, 9, 3, 5, 21, 21), favourites_count=0, utc_offset=25200, time_zone='Jakarta', geo_enabled=True, verified=True, statuses_count=935, lang='en', contributors_enabled=False, is_translator=False, is_translation_enabled=False, profile_background_color='5B5C5A', profile_background_image_url='http://abs.twimg.com/images/themes/theme14/bg.gif', profile_background_image_url_https='https://abs.twimg.com/images/themes/theme14/bg.gif', profile_background_tile=True, profile_image_url='http://pbs.twimg.com/profile_images/953822043211886592/IUEJdPg9_normal.jpg', profile_image_url_https='https://pbs.twimg.com/profile_images/953822043211886592/IUEJdPg9_normal.jpg', profile_banner_url='https://pbs.twimg.com/profile_banners/366987179/1516243874', profile_link_color='009999', profile_sidebar_border_color='FFFFFF', profile_sidebar_fill_color='99CC33', profile_text_color='3E4415', profile_use_background_image=False, has_extended_profile=False, default_profile=False, default_profile_image=False, following=False, follow_request_sent=False, notifications=False, translator_type='regular'), geo=None, coordinates=None, place=None, contributors=None, is_quote_status=False, retweet_count=611, favorite_count=1392, favorited=False, retweeted=False, possibly_sensitive=False, lang='in')\n"
     ]
    }
   ],
   "source": [
    "for z in tweepy.Cursor(api.user_timeline,id='Jokowi').items(1):\n",
    "    print(z)"
   ]
  },
  {
   "cell_type": "code",
   "execution_count": 89,
   "metadata": {
    "scrolled": true
   },
   "outputs": [
    {
     "name": "stdout",
     "output_type": "stream",
     "text": [
      "RT @Astra_Career: Dear Young Talents! Bagi kalian yang tertarik untuk berkarir di dunia HR dan bidang otomotif, silahkan langsung disimak v…\n"
     ]
    }
   ],
   "source": [
    "for y in tweepy.Cursor(api.search, q='#AstraCareer').items(10):\n",
    "    print(y.text)"
   ]
  },
  {
   "cell_type": "code",
   "execution_count": 96,
   "metadata": {
    "collapsed": true
   },
   "outputs": [
    {
     "data": {
      "text/plain": [
       "Status(_api=<tweepy.api.API object at 0x000001D5F5E17EF0>, _json={'created_at': 'Thu May 24 06:59:06 +0000 2018', 'id': 999545306411757568, 'id_str': '999545306411757568', 'text': 'Astra OK!', 'truncated': False, 'entities': {'hashtags': [], 'symbols': [], 'user_mentions': [], 'urls': []}, 'source': '<a href=\"https://letsclickrefresh.tumblr.com\" rel=\"nofollow\">adsb_coba</a>', 'in_reply_to_status_id': None, 'in_reply_to_status_id_str': None, 'in_reply_to_user_id': None, 'in_reply_to_user_id_str': None, 'in_reply_to_screen_name': None, 'user': {'id': 55996470, 'id_str': '55996470', 'name': 'Nourma Reizky D', 'screen_name': 'nourmareizkyd', 'location': 'Indonesia', 'description': 'read and write | still fangirl', 'url': 'https://t.co/V7mZh1xfER', 'entities': {'url': {'urls': [{'url': 'https://t.co/V7mZh1xfER', 'expanded_url': 'http://letsclickrefresh.tumblr.com', 'display_url': 'letsclickrefresh.tumblr.com', 'indices': [0, 23]}]}, 'description': {'urls': []}}, 'protected': False, 'followers_count': 513, 'friends_count': 865, 'listed_count': 2, 'created_at': 'Sun Jul 12 02:37:25 +0000 2009', 'favourites_count': 278, 'utc_offset': None, 'time_zone': None, 'geo_enabled': True, 'verified': False, 'statuses_count': 12710, 'lang': 'en', 'contributors_enabled': False, 'is_translator': False, 'is_translation_enabled': False, 'profile_background_color': '1A1B1F', 'profile_background_image_url': 'http://pbs.twimg.com/profile_background_images/436389657572421632/mur1FfXU.jpeg', 'profile_background_image_url_https': 'https://pbs.twimg.com/profile_background_images/436389657572421632/mur1FfXU.jpeg', 'profile_background_tile': True, 'profile_image_url': 'http://pbs.twimg.com/profile_images/951608166529183744/pXNwQWA0_normal.jpg', 'profile_image_url_https': 'https://pbs.twimg.com/profile_images/951608166529183744/pXNwQWA0_normal.jpg', 'profile_banner_url': 'https://pbs.twimg.com/profile_banners/55996470/1510211049', 'profile_link_color': '1B95E0', 'profile_sidebar_border_color': 'FFFFFF', 'profile_sidebar_fill_color': 'DDEEF6', 'profile_text_color': '333333', 'profile_use_background_image': True, 'has_extended_profile': False, 'default_profile': False, 'default_profile_image': False, 'following': False, 'follow_request_sent': False, 'notifications': False, 'translator_type': 'none'}, 'geo': None, 'coordinates': None, 'place': None, 'contributors': None, 'is_quote_status': False, 'retweet_count': 0, 'favorite_count': 0, 'favorited': False, 'retweeted': False, 'lang': 'es'}, created_at=datetime.datetime(2018, 5, 24, 6, 59, 6), id=999545306411757568, id_str='999545306411757568', text='Astra OK!', truncated=False, entities={'hashtags': [], 'symbols': [], 'user_mentions': [], 'urls': []}, source='adsb_coba', source_url='https://letsclickrefresh.tumblr.com', in_reply_to_status_id=None, in_reply_to_status_id_str=None, in_reply_to_user_id=None, in_reply_to_user_id_str=None, in_reply_to_screen_name=None, author=User(_api=<tweepy.api.API object at 0x000001D5F5E17EF0>, _json={'id': 55996470, 'id_str': '55996470', 'name': 'Nourma Reizky D', 'screen_name': 'nourmareizkyd', 'location': 'Indonesia', 'description': 'read and write | still fangirl', 'url': 'https://t.co/V7mZh1xfER', 'entities': {'url': {'urls': [{'url': 'https://t.co/V7mZh1xfER', 'expanded_url': 'http://letsclickrefresh.tumblr.com', 'display_url': 'letsclickrefresh.tumblr.com', 'indices': [0, 23]}]}, 'description': {'urls': []}}, 'protected': False, 'followers_count': 513, 'friends_count': 865, 'listed_count': 2, 'created_at': 'Sun Jul 12 02:37:25 +0000 2009', 'favourites_count': 278, 'utc_offset': None, 'time_zone': None, 'geo_enabled': True, 'verified': False, 'statuses_count': 12710, 'lang': 'en', 'contributors_enabled': False, 'is_translator': False, 'is_translation_enabled': False, 'profile_background_color': '1A1B1F', 'profile_background_image_url': 'http://pbs.twimg.com/profile_background_images/436389657572421632/mur1FfXU.jpeg', 'profile_background_image_url_https': 'https://pbs.twimg.com/profile_background_images/436389657572421632/mur1FfXU.jpeg', 'profile_background_tile': True, 'profile_image_url': 'http://pbs.twimg.com/profile_images/951608166529183744/pXNwQWA0_normal.jpg', 'profile_image_url_https': 'https://pbs.twimg.com/profile_images/951608166529183744/pXNwQWA0_normal.jpg', 'profile_banner_url': 'https://pbs.twimg.com/profile_banners/55996470/1510211049', 'profile_link_color': '1B95E0', 'profile_sidebar_border_color': 'FFFFFF', 'profile_sidebar_fill_color': 'DDEEF6', 'profile_text_color': '333333', 'profile_use_background_image': True, 'has_extended_profile': False, 'default_profile': False, 'default_profile_image': False, 'following': False, 'follow_request_sent': False, 'notifications': False, 'translator_type': 'none'}, id=55996470, id_str='55996470', name='Nourma Reizky D', screen_name='nourmareizkyd', location='Indonesia', description='read and write | still fangirl', url='https://t.co/V7mZh1xfER', entities={'url': {'urls': [{'url': 'https://t.co/V7mZh1xfER', 'expanded_url': 'http://letsclickrefresh.tumblr.com', 'display_url': 'letsclickrefresh.tumblr.com', 'indices': [0, 23]}]}, 'description': {'urls': []}}, protected=False, followers_count=513, friends_count=865, listed_count=2, created_at=datetime.datetime(2009, 7, 12, 2, 37, 25), favourites_count=278, utc_offset=None, time_zone=None, geo_enabled=True, verified=False, statuses_count=12710, lang='en', contributors_enabled=False, is_translator=False, is_translation_enabled=False, profile_background_color='1A1B1F', profile_background_image_url='http://pbs.twimg.com/profile_background_images/436389657572421632/mur1FfXU.jpeg', profile_background_image_url_https='https://pbs.twimg.com/profile_background_images/436389657572421632/mur1FfXU.jpeg', profile_background_tile=True, profile_image_url='http://pbs.twimg.com/profile_images/951608166529183744/pXNwQWA0_normal.jpg', profile_image_url_https='https://pbs.twimg.com/profile_images/951608166529183744/pXNwQWA0_normal.jpg', profile_banner_url='https://pbs.twimg.com/profile_banners/55996470/1510211049', profile_link_color='1B95E0', profile_sidebar_border_color='FFFFFF', profile_sidebar_fill_color='DDEEF6', profile_text_color='333333', profile_use_background_image=True, has_extended_profile=False, default_profile=False, default_profile_image=False, following=False, follow_request_sent=False, notifications=False, translator_type='none'), user=User(_api=<tweepy.api.API object at 0x000001D5F5E17EF0>, _json={'id': 55996470, 'id_str': '55996470', 'name': 'Nourma Reizky D', 'screen_name': 'nourmareizkyd', 'location': 'Indonesia', 'description': 'read and write | still fangirl', 'url': 'https://t.co/V7mZh1xfER', 'entities': {'url': {'urls': [{'url': 'https://t.co/V7mZh1xfER', 'expanded_url': 'http://letsclickrefresh.tumblr.com', 'display_url': 'letsclickrefresh.tumblr.com', 'indices': [0, 23]}]}, 'description': {'urls': []}}, 'protected': False, 'followers_count': 513, 'friends_count': 865, 'listed_count': 2, 'created_at': 'Sun Jul 12 02:37:25 +0000 2009', 'favourites_count': 278, 'utc_offset': None, 'time_zone': None, 'geo_enabled': True, 'verified': False, 'statuses_count': 12710, 'lang': 'en', 'contributors_enabled': False, 'is_translator': False, 'is_translation_enabled': False, 'profile_background_color': '1A1B1F', 'profile_background_image_url': 'http://pbs.twimg.com/profile_background_images/436389657572421632/mur1FfXU.jpeg', 'profile_background_image_url_https': 'https://pbs.twimg.com/profile_background_images/436389657572421632/mur1FfXU.jpeg', 'profile_background_tile': True, 'profile_image_url': 'http://pbs.twimg.com/profile_images/951608166529183744/pXNwQWA0_normal.jpg', 'profile_image_url_https': 'https://pbs.twimg.com/profile_images/951608166529183744/pXNwQWA0_normal.jpg', 'profile_banner_url': 'https://pbs.twimg.com/profile_banners/55996470/1510211049', 'profile_link_color': '1B95E0', 'profile_sidebar_border_color': 'FFFFFF', 'profile_sidebar_fill_color': 'DDEEF6', 'profile_text_color': '333333', 'profile_use_background_image': True, 'has_extended_profile': False, 'default_profile': False, 'default_profile_image': False, 'following': False, 'follow_request_sent': False, 'notifications': False, 'translator_type': 'none'}, id=55996470, id_str='55996470', name='Nourma Reizky D', screen_name='nourmareizkyd', location='Indonesia', description='read and write | still fangirl', url='https://t.co/V7mZh1xfER', entities={'url': {'urls': [{'url': 'https://t.co/V7mZh1xfER', 'expanded_url': 'http://letsclickrefresh.tumblr.com', 'display_url': 'letsclickrefresh.tumblr.com', 'indices': [0, 23]}]}, 'description': {'urls': []}}, protected=False, followers_count=513, friends_count=865, listed_count=2, created_at=datetime.datetime(2009, 7, 12, 2, 37, 25), favourites_count=278, utc_offset=None, time_zone=None, geo_enabled=True, verified=False, statuses_count=12710, lang='en', contributors_enabled=False, is_translator=False, is_translation_enabled=False, profile_background_color='1A1B1F', profile_background_image_url='http://pbs.twimg.com/profile_background_images/436389657572421632/mur1FfXU.jpeg', profile_background_image_url_https='https://pbs.twimg.com/profile_background_images/436389657572421632/mur1FfXU.jpeg', profile_background_tile=True, profile_image_url='http://pbs.twimg.com/profile_images/951608166529183744/pXNwQWA0_normal.jpg', profile_image_url_https='https://pbs.twimg.com/profile_images/951608166529183744/pXNwQWA0_normal.jpg', profile_banner_url='https://pbs.twimg.com/profile_banners/55996470/1510211049', profile_link_color='1B95E0', profile_sidebar_border_color='FFFFFF', profile_sidebar_fill_color='DDEEF6', profile_text_color='333333', profile_use_background_image=True, has_extended_profile=False, default_profile=False, default_profile_image=False, following=False, follow_request_sent=False, notifications=False, translator_type='none'), geo=None, coordinates=None, place=None, contributors=None, is_quote_status=False, retweet_count=0, favorite_count=0, favorited=False, retweeted=False, lang='es')"
      ]
     },
     "execution_count": 96,
     "metadata": {},
     "output_type": "execute_result"
    }
   ],
   "source": [
    "#UPDATE STATUS\n",
    "api.update_status('Astra OK!')"
   ]
  },
  {
   "cell_type": "code",
   "execution_count": 98,
   "metadata": {
    "collapsed": true
   },
   "outputs": [
    {
     "ename": "TweepError",
     "evalue": "[{'code': 144, 'message': 'No status found with that ID.'}]",
     "output_type": "error",
     "traceback": [
      "\u001b[1;31m---------------------------------------------------------------------------\u001b[0m",
      "\u001b[1;31mTweepError\u001b[0m                                Traceback (most recent call last)",
      "\u001b[1;32m<ipython-input-98-c35d8b1dc755>\u001b[0m in \u001b[0;36m<module>\u001b[1;34m()\u001b[0m\n\u001b[0;32m      1\u001b[0m \u001b[1;31m#DELETE STATUS\u001b[0m\u001b[1;33m\u001b[0m\u001b[1;33m\u001b[0m\u001b[0m\n\u001b[1;32m----> 2\u001b[1;33m \u001b[0mapi\u001b[0m\u001b[1;33m.\u001b[0m\u001b[0mdestroy_status\u001b[0m\u001b[1;33m(\u001b[0m\u001b[1;36m999545306411757568\u001b[0m\u001b[1;33m)\u001b[0m\u001b[1;33m\u001b[0m\u001b[0m\n\u001b[0m",
      "\u001b[1;32m~\\AppData\\Local\\Continuum\\miniconda2\\envs\\py36\\lib\\site-packages\\tweepy\\binder.py\u001b[0m in \u001b[0;36m_call\u001b[1;34m(*args, **kwargs)\u001b[0m\n\u001b[0;32m    248\u001b[0m             \u001b[1;32mreturn\u001b[0m \u001b[0mmethod\u001b[0m\u001b[1;33m\u001b[0m\u001b[0m\n\u001b[0;32m    249\u001b[0m         \u001b[1;32melse\u001b[0m\u001b[1;33m:\u001b[0m\u001b[1;33m\u001b[0m\u001b[0m\n\u001b[1;32m--> 250\u001b[1;33m             \u001b[1;32mreturn\u001b[0m \u001b[0mmethod\u001b[0m\u001b[1;33m.\u001b[0m\u001b[0mexecute\u001b[0m\u001b[1;33m(\u001b[0m\u001b[1;33m)\u001b[0m\u001b[1;33m\u001b[0m\u001b[0m\n\u001b[0m\u001b[0;32m    251\u001b[0m \u001b[1;33m\u001b[0m\u001b[0m\n\u001b[0;32m    252\u001b[0m     \u001b[1;31m# Set pagination mode\u001b[0m\u001b[1;33m\u001b[0m\u001b[1;33m\u001b[0m\u001b[0m\n",
      "\u001b[1;32m~\\AppData\\Local\\Continuum\\miniconda2\\envs\\py36\\lib\\site-packages\\tweepy\\binder.py\u001b[0m in \u001b[0;36mexecute\u001b[1;34m(self)\u001b[0m\n\u001b[0;32m    232\u001b[0m                     \u001b[1;32mraise\u001b[0m \u001b[0mRateLimitError\u001b[0m\u001b[1;33m(\u001b[0m\u001b[0merror_msg\u001b[0m\u001b[1;33m,\u001b[0m \u001b[0mresp\u001b[0m\u001b[1;33m)\u001b[0m\u001b[1;33m\u001b[0m\u001b[0m\n\u001b[0;32m    233\u001b[0m                 \u001b[1;32melse\u001b[0m\u001b[1;33m:\u001b[0m\u001b[1;33m\u001b[0m\u001b[0m\n\u001b[1;32m--> 234\u001b[1;33m                     \u001b[1;32mraise\u001b[0m \u001b[0mTweepError\u001b[0m\u001b[1;33m(\u001b[0m\u001b[0merror_msg\u001b[0m\u001b[1;33m,\u001b[0m \u001b[0mresp\u001b[0m\u001b[1;33m,\u001b[0m \u001b[0mapi_code\u001b[0m\u001b[1;33m=\u001b[0m\u001b[0mapi_error_code\u001b[0m\u001b[1;33m)\u001b[0m\u001b[1;33m\u001b[0m\u001b[0m\n\u001b[0m\u001b[0;32m    235\u001b[0m \u001b[1;33m\u001b[0m\u001b[0m\n\u001b[0;32m    236\u001b[0m             \u001b[1;31m# Parse the response payload\u001b[0m\u001b[1;33m\u001b[0m\u001b[1;33m\u001b[0m\u001b[0m\n",
      "\u001b[1;31mTweepError\u001b[0m: [{'code': 144, 'message': 'No status found with that ID.'}]"
     ]
    }
   ],
   "source": [
    "#DELETE STATUS\n",
    "api.destroy_status(999545306411757568)"
   ]
  },
  {
   "cell_type": "code",
   "execution_count": 100,
   "metadata": {
    "collapsed": true
   },
   "outputs": [
    {
     "data": {
      "text/plain": [
       "Status(_api=<tweepy.api.API object at 0x000001D5F5E17EF0>, _json={'created_at': 'Thu May 24 07:07:08 +0000 2018', 'id': 999547327965577216, 'id_str': '999547327965577216', 'text': 'RT @jokowi: Pendaratan perdana di Bandara Internasional Kertajati disambut seremoni water salute. Bandara sudah siap dimanfaatkan oleh masy…', 'truncated': False, 'entities': {'hashtags': [], 'symbols': [], 'user_mentions': [{'screen_name': 'jokowi', 'name': 'Joko Widodo', 'id': 366987179, 'id_str': '366987179', 'indices': [3, 10]}], 'urls': []}, 'source': '<a href=\"https://letsclickrefresh.tumblr.com\" rel=\"nofollow\">adsb_coba</a>', 'in_reply_to_status_id': None, 'in_reply_to_status_id_str': None, 'in_reply_to_user_id': None, 'in_reply_to_user_id_str': None, 'in_reply_to_screen_name': None, 'user': {'id': 55996470, 'id_str': '55996470', 'name': 'Nourma Reizky D', 'screen_name': 'nourmareizkyd', 'location': 'Indonesia', 'description': 'read and write | still fangirl', 'url': 'https://t.co/V7mZh1xfER', 'entities': {'url': {'urls': [{'url': 'https://t.co/V7mZh1xfER', 'expanded_url': 'http://letsclickrefresh.tumblr.com', 'display_url': 'letsclickrefresh.tumblr.com', 'indices': [0, 23]}]}, 'description': {'urls': []}}, 'protected': False, 'followers_count': 513, 'friends_count': 865, 'listed_count': 2, 'created_at': 'Sun Jul 12 02:37:25 +0000 2009', 'favourites_count': 278, 'utc_offset': None, 'time_zone': None, 'geo_enabled': True, 'verified': False, 'statuses_count': 12710, 'lang': 'en', 'contributors_enabled': False, 'is_translator': False, 'is_translation_enabled': False, 'profile_background_color': '1A1B1F', 'profile_background_image_url': 'http://pbs.twimg.com/profile_background_images/436389657572421632/mur1FfXU.jpeg', 'profile_background_image_url_https': 'https://pbs.twimg.com/profile_background_images/436389657572421632/mur1FfXU.jpeg', 'profile_background_tile': True, 'profile_image_url': 'http://pbs.twimg.com/profile_images/951608166529183744/pXNwQWA0_normal.jpg', 'profile_image_url_https': 'https://pbs.twimg.com/profile_images/951608166529183744/pXNwQWA0_normal.jpg', 'profile_banner_url': 'https://pbs.twimg.com/profile_banners/55996470/1510211049', 'profile_link_color': '1B95E0', 'profile_sidebar_border_color': 'FFFFFF', 'profile_sidebar_fill_color': 'DDEEF6', 'profile_text_color': '333333', 'profile_use_background_image': True, 'has_extended_profile': False, 'default_profile': False, 'default_profile_image': False, 'following': False, 'follow_request_sent': False, 'notifications': False, 'translator_type': 'none'}, 'geo': None, 'coordinates': None, 'place': None, 'contributors': None, 'retweeted_status': {'created_at': 'Thu May 24 06:33:15 +0000 2018', 'id': 999538803323715584, 'id_str': '999538803323715584', 'text': 'Pendaratan perdana di Bandara Internasional Kertajati disambut seremoni water salute. Bandara sudah siap dimanfaatk… https://t.co/0Hdkuu33ij', 'truncated': True, 'entities': {'hashtags': [], 'symbols': [], 'user_mentions': [], 'urls': [{'url': 'https://t.co/0Hdkuu33ij', 'expanded_url': 'https://twitter.com/i/web/status/999538803323715584', 'display_url': 'twitter.com/i/web/status/9…', 'indices': [117, 140]}]}, 'source': '<a href=\"http://twitter.com/download/iphone\" rel=\"nofollow\">Twitter for iPhone</a>', 'in_reply_to_status_id': None, 'in_reply_to_status_id_str': None, 'in_reply_to_user_id': None, 'in_reply_to_user_id_str': None, 'in_reply_to_screen_name': None, 'user': {'id': 366987179, 'id_str': '366987179', 'name': 'Joko Widodo', 'screen_name': 'jokowi', 'location': 'Jakarta', 'description': 'Akun resmi Joko Widodo, Presiden Republik Indonesia', 'url': None, 'entities': {'description': {'urls': []}}, 'protected': False, 'followers_count': 10212298, 'friends_count': 60, 'listed_count': 3686, 'created_at': 'Sat Sep 03 05:21:21 +0000 2011', 'favourites_count': 0, 'utc_offset': None, 'time_zone': None, 'geo_enabled': True, 'verified': True, 'statuses_count': 935, 'lang': 'en', 'contributors_enabled': False, 'is_translator': False, 'is_translation_enabled': False, 'profile_background_color': '5B5C5A', 'profile_background_image_url': 'http://abs.twimg.com/images/themes/theme14/bg.gif', 'profile_background_image_url_https': 'https://abs.twimg.com/images/themes/theme14/bg.gif', 'profile_background_tile': True, 'profile_image_url': 'http://pbs.twimg.com/profile_images/953822043211886592/IUEJdPg9_normal.jpg', 'profile_image_url_https': 'https://pbs.twimg.com/profile_images/953822043211886592/IUEJdPg9_normal.jpg', 'profile_banner_url': 'https://pbs.twimg.com/profile_banners/366987179/1516243874', 'profile_link_color': '009999', 'profile_sidebar_border_color': 'FFFFFF', 'profile_sidebar_fill_color': '99CC33', 'profile_text_color': '3E4415', 'profile_use_background_image': False, 'has_extended_profile': False, 'default_profile': False, 'default_profile_image': False, 'following': False, 'follow_request_sent': False, 'notifications': False, 'translator_type': 'regular'}, 'geo': None, 'coordinates': None, 'place': None, 'contributors': None, 'is_quote_status': False, 'retweet_count': 624, 'favorite_count': 1425, 'favorited': False, 'retweeted': True, 'possibly_sensitive': False, 'lang': 'in'}, 'is_quote_status': False, 'retweet_count': 624, 'favorite_count': 0, 'favorited': False, 'retweeted': True, 'lang': 'in'}, created_at=datetime.datetime(2018, 5, 24, 7, 7, 8), id=999547327965577216, id_str='999547327965577216', text='RT @jokowi: Pendaratan perdana di Bandara Internasional Kertajati disambut seremoni water salute. Bandara sudah siap dimanfaatkan oleh masy…', truncated=False, entities={'hashtags': [], 'symbols': [], 'user_mentions': [{'screen_name': 'jokowi', 'name': 'Joko Widodo', 'id': 366987179, 'id_str': '366987179', 'indices': [3, 10]}], 'urls': []}, source='adsb_coba', source_url='https://letsclickrefresh.tumblr.com', in_reply_to_status_id=None, in_reply_to_status_id_str=None, in_reply_to_user_id=None, in_reply_to_user_id_str=None, in_reply_to_screen_name=None, author=User(_api=<tweepy.api.API object at 0x000001D5F5E17EF0>, _json={'id': 55996470, 'id_str': '55996470', 'name': 'Nourma Reizky D', 'screen_name': 'nourmareizkyd', 'location': 'Indonesia', 'description': 'read and write | still fangirl', 'url': 'https://t.co/V7mZh1xfER', 'entities': {'url': {'urls': [{'url': 'https://t.co/V7mZh1xfER', 'expanded_url': 'http://letsclickrefresh.tumblr.com', 'display_url': 'letsclickrefresh.tumblr.com', 'indices': [0, 23]}]}, 'description': {'urls': []}}, 'protected': False, 'followers_count': 513, 'friends_count': 865, 'listed_count': 2, 'created_at': 'Sun Jul 12 02:37:25 +0000 2009', 'favourites_count': 278, 'utc_offset': None, 'time_zone': None, 'geo_enabled': True, 'verified': False, 'statuses_count': 12710, 'lang': 'en', 'contributors_enabled': False, 'is_translator': False, 'is_translation_enabled': False, 'profile_background_color': '1A1B1F', 'profile_background_image_url': 'http://pbs.twimg.com/profile_background_images/436389657572421632/mur1FfXU.jpeg', 'profile_background_image_url_https': 'https://pbs.twimg.com/profile_background_images/436389657572421632/mur1FfXU.jpeg', 'profile_background_tile': True, 'profile_image_url': 'http://pbs.twimg.com/profile_images/951608166529183744/pXNwQWA0_normal.jpg', 'profile_image_url_https': 'https://pbs.twimg.com/profile_images/951608166529183744/pXNwQWA0_normal.jpg', 'profile_banner_url': 'https://pbs.twimg.com/profile_banners/55996470/1510211049', 'profile_link_color': '1B95E0', 'profile_sidebar_border_color': 'FFFFFF', 'profile_sidebar_fill_color': 'DDEEF6', 'profile_text_color': '333333', 'profile_use_background_image': True, 'has_extended_profile': False, 'default_profile': False, 'default_profile_image': False, 'following': False, 'follow_request_sent': False, 'notifications': False, 'translator_type': 'none'}, id=55996470, id_str='55996470', name='Nourma Reizky D', screen_name='nourmareizkyd', location='Indonesia', description='read and write | still fangirl', url='https://t.co/V7mZh1xfER', entities={'url': {'urls': [{'url': 'https://t.co/V7mZh1xfER', 'expanded_url': 'http://letsclickrefresh.tumblr.com', 'display_url': 'letsclickrefresh.tumblr.com', 'indices': [0, 23]}]}, 'description': {'urls': []}}, protected=False, followers_count=513, friends_count=865, listed_count=2, created_at=datetime.datetime(2009, 7, 12, 2, 37, 25), favourites_count=278, utc_offset=None, time_zone=None, geo_enabled=True, verified=False, statuses_count=12710, lang='en', contributors_enabled=False, is_translator=False, is_translation_enabled=False, profile_background_color='1A1B1F', profile_background_image_url='http://pbs.twimg.com/profile_background_images/436389657572421632/mur1FfXU.jpeg', profile_background_image_url_https='https://pbs.twimg.com/profile_background_images/436389657572421632/mur1FfXU.jpeg', profile_background_tile=True, profile_image_url='http://pbs.twimg.com/profile_images/951608166529183744/pXNwQWA0_normal.jpg', profile_image_url_https='https://pbs.twimg.com/profile_images/951608166529183744/pXNwQWA0_normal.jpg', profile_banner_url='https://pbs.twimg.com/profile_banners/55996470/1510211049', profile_link_color='1B95E0', profile_sidebar_border_color='FFFFFF', profile_sidebar_fill_color='DDEEF6', profile_text_color='333333', profile_use_background_image=True, has_extended_profile=False, default_profile=False, default_profile_image=False, following=False, follow_request_sent=False, notifications=False, translator_type='none'), user=User(_api=<tweepy.api.API object at 0x000001D5F5E17EF0>, _json={'id': 55996470, 'id_str': '55996470', 'name': 'Nourma Reizky D', 'screen_name': 'nourmareizkyd', 'location': 'Indonesia', 'description': 'read and write | still fangirl', 'url': 'https://t.co/V7mZh1xfER', 'entities': {'url': {'urls': [{'url': 'https://t.co/V7mZh1xfER', 'expanded_url': 'http://letsclickrefresh.tumblr.com', 'display_url': 'letsclickrefresh.tumblr.com', 'indices': [0, 23]}]}, 'description': {'urls': []}}, 'protected': False, 'followers_count': 513, 'friends_count': 865, 'listed_count': 2, 'created_at': 'Sun Jul 12 02:37:25 +0000 2009', 'favourites_count': 278, 'utc_offset': None, 'time_zone': None, 'geo_enabled': True, 'verified': False, 'statuses_count': 12710, 'lang': 'en', 'contributors_enabled': False, 'is_translator': False, 'is_translation_enabled': False, 'profile_background_color': '1A1B1F', 'profile_background_image_url': 'http://pbs.twimg.com/profile_background_images/436389657572421632/mur1FfXU.jpeg', 'profile_background_image_url_https': 'https://pbs.twimg.com/profile_background_images/436389657572421632/mur1FfXU.jpeg', 'profile_background_tile': True, 'profile_image_url': 'http://pbs.twimg.com/profile_images/951608166529183744/pXNwQWA0_normal.jpg', 'profile_image_url_https': 'https://pbs.twimg.com/profile_images/951608166529183744/pXNwQWA0_normal.jpg', 'profile_banner_url': 'https://pbs.twimg.com/profile_banners/55996470/1510211049', 'profile_link_color': '1B95E0', 'profile_sidebar_border_color': 'FFFFFF', 'profile_sidebar_fill_color': 'DDEEF6', 'profile_text_color': '333333', 'profile_use_background_image': True, 'has_extended_profile': False, 'default_profile': False, 'default_profile_image': False, 'following': False, 'follow_request_sent': False, 'notifications': False, 'translator_type': 'none'}, id=55996470, id_str='55996470', name='Nourma Reizky D', screen_name='nourmareizkyd', location='Indonesia', description='read and write | still fangirl', url='https://t.co/V7mZh1xfER', entities={'url': {'urls': [{'url': 'https://t.co/V7mZh1xfER', 'expanded_url': 'http://letsclickrefresh.tumblr.com', 'display_url': 'letsclickrefresh.tumblr.com', 'indices': [0, 23]}]}, 'description': {'urls': []}}, protected=False, followers_count=513, friends_count=865, listed_count=2, created_at=datetime.datetime(2009, 7, 12, 2, 37, 25), favourites_count=278, utc_offset=None, time_zone=None, geo_enabled=True, verified=False, statuses_count=12710, lang='en', contributors_enabled=False, is_translator=False, is_translation_enabled=False, profile_background_color='1A1B1F', profile_background_image_url='http://pbs.twimg.com/profile_background_images/436389657572421632/mur1FfXU.jpeg', profile_background_image_url_https='https://pbs.twimg.com/profile_background_images/436389657572421632/mur1FfXU.jpeg', profile_background_tile=True, profile_image_url='http://pbs.twimg.com/profile_images/951608166529183744/pXNwQWA0_normal.jpg', profile_image_url_https='https://pbs.twimg.com/profile_images/951608166529183744/pXNwQWA0_normal.jpg', profile_banner_url='https://pbs.twimg.com/profile_banners/55996470/1510211049', profile_link_color='1B95E0', profile_sidebar_border_color='FFFFFF', profile_sidebar_fill_color='DDEEF6', profile_text_color='333333', profile_use_background_image=True, has_extended_profile=False, default_profile=False, default_profile_image=False, following=False, follow_request_sent=False, notifications=False, translator_type='none'), geo=None, coordinates=None, place=None, contributors=None, retweeted_status=Status(_api=<tweepy.api.API object at 0x000001D5F5E17EF0>, _json={'created_at': 'Thu May 24 06:33:15 +0000 2018', 'id': 999538803323715584, 'id_str': '999538803323715584', 'text': 'Pendaratan perdana di Bandara Internasional Kertajati disambut seremoni water salute. Bandara sudah siap dimanfaatk… https://t.co/0Hdkuu33ij', 'truncated': True, 'entities': {'hashtags': [], 'symbols': [], 'user_mentions': [], 'urls': [{'url': 'https://t.co/0Hdkuu33ij', 'expanded_url': 'https://twitter.com/i/web/status/999538803323715584', 'display_url': 'twitter.com/i/web/status/9…', 'indices': [117, 140]}]}, 'source': '<a href=\"http://twitter.com/download/iphone\" rel=\"nofollow\">Twitter for iPhone</a>', 'in_reply_to_status_id': None, 'in_reply_to_status_id_str': None, 'in_reply_to_user_id': None, 'in_reply_to_user_id_str': None, 'in_reply_to_screen_name': None, 'user': {'id': 366987179, 'id_str': '366987179', 'name': 'Joko Widodo', 'screen_name': 'jokowi', 'location': 'Jakarta', 'description': 'Akun resmi Joko Widodo, Presiden Republik Indonesia', 'url': None, 'entities': {'description': {'urls': []}}, 'protected': False, 'followers_count': 10212298, 'friends_count': 60, 'listed_count': 3686, 'created_at': 'Sat Sep 03 05:21:21 +0000 2011', 'favourites_count': 0, 'utc_offset': None, 'time_zone': None, 'geo_enabled': True, 'verified': True, 'statuses_count': 935, 'lang': 'en', 'contributors_enabled': False, 'is_translator': False, 'is_translation_enabled': False, 'profile_background_color': '5B5C5A', 'profile_background_image_url': 'http://abs.twimg.com/images/themes/theme14/bg.gif', 'profile_background_image_url_https': 'https://abs.twimg.com/images/themes/theme14/bg.gif', 'profile_background_tile': True, 'profile_image_url': 'http://pbs.twimg.com/profile_images/953822043211886592/IUEJdPg9_normal.jpg', 'profile_image_url_https': 'https://pbs.twimg.com/profile_images/953822043211886592/IUEJdPg9_normal.jpg', 'profile_banner_url': 'https://pbs.twimg.com/profile_banners/366987179/1516243874', 'profile_link_color': '009999', 'profile_sidebar_border_color': 'FFFFFF', 'profile_sidebar_fill_color': '99CC33', 'profile_text_color': '3E4415', 'profile_use_background_image': False, 'has_extended_profile': False, 'default_profile': False, 'default_profile_image': False, 'following': False, 'follow_request_sent': False, 'notifications': False, 'translator_type': 'regular'}, 'geo': None, 'coordinates': None, 'place': None, 'contributors': None, 'is_quote_status': False, 'retweet_count': 624, 'favorite_count': 1425, 'favorited': False, 'retweeted': True, 'possibly_sensitive': False, 'lang': 'in'}, created_at=datetime.datetime(2018, 5, 24, 6, 33, 15), id=999538803323715584, id_str='999538803323715584', text='Pendaratan perdana di Bandara Internasional Kertajati disambut seremoni water salute. Bandara sudah siap dimanfaatk… https://t.co/0Hdkuu33ij', truncated=True, entities={'hashtags': [], 'symbols': [], 'user_mentions': [], 'urls': [{'url': 'https://t.co/0Hdkuu33ij', 'expanded_url': 'https://twitter.com/i/web/status/999538803323715584', 'display_url': 'twitter.com/i/web/status/9…', 'indices': [117, 140]}]}, source='Twitter for iPhone', source_url='http://twitter.com/download/iphone', in_reply_to_status_id=None, in_reply_to_status_id_str=None, in_reply_to_user_id=None, in_reply_to_user_id_str=None, in_reply_to_screen_name=None, author=User(_api=<tweepy.api.API object at 0x000001D5F5E17EF0>, _json={'id': 366987179, 'id_str': '366987179', 'name': 'Joko Widodo', 'screen_name': 'jokowi', 'location': 'Jakarta', 'description': 'Akun resmi Joko Widodo, Presiden Republik Indonesia', 'url': None, 'entities': {'description': {'urls': []}}, 'protected': False, 'followers_count': 10212298, 'friends_count': 60, 'listed_count': 3686, 'created_at': 'Sat Sep 03 05:21:21 +0000 2011', 'favourites_count': 0, 'utc_offset': None, 'time_zone': None, 'geo_enabled': True, 'verified': True, 'statuses_count': 935, 'lang': 'en', 'contributors_enabled': False, 'is_translator': False, 'is_translation_enabled': False, 'profile_background_color': '5B5C5A', 'profile_background_image_url': 'http://abs.twimg.com/images/themes/theme14/bg.gif', 'profile_background_image_url_https': 'https://abs.twimg.com/images/themes/theme14/bg.gif', 'profile_background_tile': True, 'profile_image_url': 'http://pbs.twimg.com/profile_images/953822043211886592/IUEJdPg9_normal.jpg', 'profile_image_url_https': 'https://pbs.twimg.com/profile_images/953822043211886592/IUEJdPg9_normal.jpg', 'profile_banner_url': 'https://pbs.twimg.com/profile_banners/366987179/1516243874', 'profile_link_color': '009999', 'profile_sidebar_border_color': 'FFFFFF', 'profile_sidebar_fill_color': '99CC33', 'profile_text_color': '3E4415', 'profile_use_background_image': False, 'has_extended_profile': False, 'default_profile': False, 'default_profile_image': False, 'following': False, 'follow_request_sent': False, 'notifications': False, 'translator_type': 'regular'}, id=366987179, id_str='366987179', name='Joko Widodo', screen_name='jokowi', location='Jakarta', description='Akun resmi Joko Widodo, Presiden Republik Indonesia', url=None, entities={'description': {'urls': []}}, protected=False, followers_count=10212298, friends_count=60, listed_count=3686, created_at=datetime.datetime(2011, 9, 3, 5, 21, 21), favourites_count=0, utc_offset=None, time_zone=None, geo_enabled=True, verified=True, statuses_count=935, lang='en', contributors_enabled=False, is_translator=False, is_translation_enabled=False, profile_background_color='5B5C5A', profile_background_image_url='http://abs.twimg.com/images/themes/theme14/bg.gif', profile_background_image_url_https='https://abs.twimg.com/images/themes/theme14/bg.gif', profile_background_tile=True, profile_image_url='http://pbs.twimg.com/profile_images/953822043211886592/IUEJdPg9_normal.jpg', profile_image_url_https='https://pbs.twimg.com/profile_images/953822043211886592/IUEJdPg9_normal.jpg', profile_banner_url='https://pbs.twimg.com/profile_banners/366987179/1516243874', profile_link_color='009999', profile_sidebar_border_color='FFFFFF', profile_sidebar_fill_color='99CC33', profile_text_color='3E4415', profile_use_background_image=False, has_extended_profile=False, default_profile=False, default_profile_image=False, following=False, follow_request_sent=False, notifications=False, translator_type='regular'), user=User(_api=<tweepy.api.API object at 0x000001D5F5E17EF0>, _json={'id': 366987179, 'id_str': '366987179', 'name': 'Joko Widodo', 'screen_name': 'jokowi', 'location': 'Jakarta', 'description': 'Akun resmi Joko Widodo, Presiden Republik Indonesia', 'url': None, 'entities': {'description': {'urls': []}}, 'protected': False, 'followers_count': 10212298, 'friends_count': 60, 'listed_count': 3686, 'created_at': 'Sat Sep 03 05:21:21 +0000 2011', 'favourites_count': 0, 'utc_offset': None, 'time_zone': None, 'geo_enabled': True, 'verified': True, 'statuses_count': 935, 'lang': 'en', 'contributors_enabled': False, 'is_translator': False, 'is_translation_enabled': False, 'profile_background_color': '5B5C5A', 'profile_background_image_url': 'http://abs.twimg.com/images/themes/theme14/bg.gif', 'profile_background_image_url_https': 'https://abs.twimg.com/images/themes/theme14/bg.gif', 'profile_background_tile': True, 'profile_image_url': 'http://pbs.twimg.com/profile_images/953822043211886592/IUEJdPg9_normal.jpg', 'profile_image_url_https': 'https://pbs.twimg.com/profile_images/953822043211886592/IUEJdPg9_normal.jpg', 'profile_banner_url': 'https://pbs.twimg.com/profile_banners/366987179/1516243874', 'profile_link_color': '009999', 'profile_sidebar_border_color': 'FFFFFF', 'profile_sidebar_fill_color': '99CC33', 'profile_text_color': '3E4415', 'profile_use_background_image': False, 'has_extended_profile': False, 'default_profile': False, 'default_profile_image': False, 'following': False, 'follow_request_sent': False, 'notifications': False, 'translator_type': 'regular'}, id=366987179, id_str='366987179', name='Joko Widodo', screen_name='jokowi', location='Jakarta', description='Akun resmi Joko Widodo, Presiden Republik Indonesia', url=None, entities={'description': {'urls': []}}, protected=False, followers_count=10212298, friends_count=60, listed_count=3686, created_at=datetime.datetime(2011, 9, 3, 5, 21, 21), favourites_count=0, utc_offset=None, time_zone=None, geo_enabled=True, verified=True, statuses_count=935, lang='en', contributors_enabled=False, is_translator=False, is_translation_enabled=False, profile_background_color='5B5C5A', profile_background_image_url='http://abs.twimg.com/images/themes/theme14/bg.gif', profile_background_image_url_https='https://abs.twimg.com/images/themes/theme14/bg.gif', profile_background_tile=True, profile_image_url='http://pbs.twimg.com/profile_images/953822043211886592/IUEJdPg9_normal.jpg', profile_image_url_https='https://pbs.twimg.com/profile_images/953822043211886592/IUEJdPg9_normal.jpg', profile_banner_url='https://pbs.twimg.com/profile_banners/366987179/1516243874', profile_link_color='009999', profile_sidebar_border_color='FFFFFF', profile_sidebar_fill_color='99CC33', profile_text_color='3E4415', profile_use_background_image=False, has_extended_profile=False, default_profile=False, default_profile_image=False, following=False, follow_request_sent=False, notifications=False, translator_type='regular'), geo=None, coordinates=None, place=None, contributors=None, is_quote_status=False, retweet_count=624, favorite_count=1425, favorited=False, retweeted=True, possibly_sensitive=False, lang='in'), is_quote_status=False, retweet_count=624, favorite_count=0, favorited=False, retweeted=True, lang='in')"
      ]
     },
     "execution_count": 100,
     "metadata": {},
     "output_type": "execute_result"
    }
   ],
   "source": [
    "api.retweet(999538803323715584)"
   ]
  },
  {
   "cell_type": "code",
   "execution_count": null,
   "metadata": {},
   "outputs": [],
   "source": []
  }
 ],
 "metadata": {
  "kernelspec": {
   "display_name": "Python 3",
   "language": "python",
   "name": "python3"
  },
  "language_info": {
   "codemirror_mode": {
    "name": "ipython",
    "version": 3
   },
   "file_extension": ".py",
   "mimetype": "text/x-python",
   "name": "python",
   "nbconvert_exporter": "python",
   "pygments_lexer": "ipython3",
   "version": "3.6.4"
  }
 },
 "nbformat": 4,
 "nbformat_minor": 2
}
