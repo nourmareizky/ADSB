{
 "cells": [
  {
   "cell_type": "code",
   "execution_count": 49,
   "metadata": {},
   "outputs": [],
   "source": [
    "import pandas as pd\n",
    "import statsmodels.formula.api as smf\n",
    "import numpy as np\n",
    "import matplotlib.pyplot as plt\n",
    "import statsmodels.api as sm\n",
    "import sklearn\n",
    "import statsmodels\n",
    "from sklearn.linear_model import LinearRegression\n",
    "import seaborn as sns\n",
    "%matplotlib inline"
   ]
  },
  {
   "cell_type": "code",
   "execution_count": 2,
   "metadata": {},
   "outputs": [],
   "source": [
    "df = pd.read_csv('Insurance_Loss.csv')"
   ]
  },
  {
   "cell_type": "code",
   "execution_count": 3,
   "metadata": {},
   "outputs": [
    {
     "name": "stdout",
     "output_type": "stream",
     "text": [
      "<class 'pandas.core.frame.DataFrame'>\n",
      "RangeIndex: 15290 entries, 0 to 15289\n",
      "Data columns (total 9 columns):\n",
      "Policy Number                  15290 non-null int64\n",
      "Age                            15290 non-null int64\n",
      "Years of Driving Experience    15290 non-null int64\n",
      "Number of Vehicles             15290 non-null int64\n",
      "Gender                         15290 non-null object\n",
      "Married                        15290 non-null object\n",
      "Vehicle Age                    15290 non-null int64\n",
      "Fuel Type                      15290 non-null object\n",
      "Losses                         15290 non-null float64\n",
      "dtypes: float64(1), int64(5), object(3)\n",
      "memory usage: 1.0+ MB\n"
     ]
    },
    {
     "data": {
      "text/plain": [
       "(15290, 9)"
      ]
     },
     "execution_count": 3,
     "metadata": {},
     "output_type": "execute_result"
    }
   ],
   "source": [
    "df.head()\n",
    "df.info()\n",
    "df.shape"
   ]
  },
  {
   "cell_type": "code",
   "execution_count": 4,
   "metadata": {},
   "outputs": [
    {
     "data": {
      "text/html": [
       "<div>\n",
       "<style scoped>\n",
       "    .dataframe tbody tr th:only-of-type {\n",
       "        vertical-align: middle;\n",
       "    }\n",
       "\n",
       "    .dataframe tbody tr th {\n",
       "        vertical-align: top;\n",
       "    }\n",
       "\n",
       "    .dataframe thead th {\n",
       "        text-align: right;\n",
       "    }\n",
       "</style>\n",
       "<table border=\"1\" class=\"dataframe\">\n",
       "  <thead>\n",
       "    <tr style=\"text-align: right;\">\n",
       "      <th></th>\n",
       "      <th>Policy Number</th>\n",
       "      <th>Age</th>\n",
       "      <th>Years of Driving Experience</th>\n",
       "      <th>Number of Vehicles</th>\n",
       "      <th>Gender</th>\n",
       "      <th>Married</th>\n",
       "      <th>Vehicle Age</th>\n",
       "      <th>Fuel Type</th>\n",
       "      <th>Losses</th>\n",
       "    </tr>\n",
       "  </thead>\n",
       "  <tbody>\n",
       "    <tr>\n",
       "      <th>0</th>\n",
       "      <td>150024</td>\n",
       "      <td>24</td>\n",
       "      <td>5</td>\n",
       "      <td>1</td>\n",
       "      <td>M</td>\n",
       "      <td>Married</td>\n",
       "      <td>11</td>\n",
       "      <td>P</td>\n",
       "      <td>203.319595</td>\n",
       "    </tr>\n",
       "    <tr>\n",
       "      <th>1</th>\n",
       "      <td>144880</td>\n",
       "      <td>31</td>\n",
       "      <td>10</td>\n",
       "      <td>1</td>\n",
       "      <td>F</td>\n",
       "      <td>Single</td>\n",
       "      <td>6</td>\n",
       "      <td>P</td>\n",
       "      <td>402.197302</td>\n",
       "    </tr>\n",
       "    <tr>\n",
       "      <th>2</th>\n",
       "      <td>133742</td>\n",
       "      <td>56</td>\n",
       "      <td>37</td>\n",
       "      <td>1</td>\n",
       "      <td>M</td>\n",
       "      <td>Married</td>\n",
       "      <td>0</td>\n",
       "      <td>D</td>\n",
       "      <td>553.132096</td>\n",
       "    </tr>\n",
       "    <tr>\n",
       "      <th>3</th>\n",
       "      <td>151282</td>\n",
       "      <td>52</td>\n",
       "      <td>31</td>\n",
       "      <td>1</td>\n",
       "      <td>F</td>\n",
       "      <td>Married</td>\n",
       "      <td>15</td>\n",
       "      <td>P</td>\n",
       "      <td>292.430579</td>\n",
       "    </tr>\n",
       "    <tr>\n",
       "      <th>4</th>\n",
       "      <td>174407</td>\n",
       "      <td>20</td>\n",
       "      <td>3</td>\n",
       "      <td>1</td>\n",
       "      <td>M</td>\n",
       "      <td>Single</td>\n",
       "      <td>15</td>\n",
       "      <td>P</td>\n",
       "      <td>246.540576</td>\n",
       "    </tr>\n",
       "  </tbody>\n",
       "</table>\n",
       "</div>"
      ],
      "text/plain": [
       "   Policy Number  Age  Years of Driving Experience  Number of Vehicles Gender  \\\n",
       "0         150024   24                            5                   1      M   \n",
       "1         144880   31                           10                   1      F   \n",
       "2         133742   56                           37                   1      M   \n",
       "3         151282   52                           31                   1      F   \n",
       "4         174407   20                            3                   1      M   \n",
       "\n",
       "   Married  Vehicle Age Fuel Type      Losses  \n",
       "0  Married           11         P  203.319595  \n",
       "1   Single            6         P  402.197302  \n",
       "2  Married            0         D  553.132096  \n",
       "3  Married           15         P  292.430579  \n",
       "4   Single           15         P  246.540576  "
      ]
     },
     "execution_count": 4,
     "metadata": {},
     "output_type": "execute_result"
    }
   ],
   "source": [
    "df.head()"
   ]
  },
  {
   "cell_type": "code",
   "execution_count": 5,
   "metadata": {},
   "outputs": [
    {
     "data": {
      "text/plain": [
       "<matplotlib.collections.PathCollection at 0x21435668ef0>"
      ]
     },
     "execution_count": 5,
     "metadata": {},
     "output_type": "execute_result"
    },
    {
     "data": {
      "image/png": "[encoded data removed]",
      "text/plain": [
       "<matplotlib.figure.Figure at 0x21435668f28>"
      ]
     },
     "metadata": {},
     "output_type": "display_data"
    }
   ],
   "source": [
    "plt.scatter(x = 'Age', y='Losses',data=df)\n",
    "plt.scatter(x = 'Years of Driving Experience', y='Losses',data=df)\n"
   ]
  },
  {
   "cell_type": "code",
   "execution_count": 37,
   "metadata": {},
   "outputs": [
    {
     "data": {
      "text/plain": [
       "(array([2685., 2077., 1129.,  915.,  948., 1133.,  956., 1104., 1964.,\n",
       "        2379.]),\n",
       " array([16. , 21.4, 26.8, 32.2, 37.6, 43. , 48.4, 53.8, 59.2, 64.6, 70. ]),\n",
       " <a list of 10 Patch objects>)"
      ]
     },
     "execution_count": 37,
     "metadata": {},
     "output_type": "execute_result"
    },
    {
     "data": {
      "image/png": "[encoded data removed]",
      "text/plain": [
       "<matplotlib.figure.Figure at 0x2143978cf28>"
      ]
     },
     "metadata": {},
     "output_type": "display_data"
    }
   ],
   "source": [
    "plt.hist(df.Age)"
   ]
  },
  {
   "cell_type": "code",
   "execution_count": 81,
   "metadata": {},
   "outputs": [
    {
     "data": {
      "image/png": "[encoded data removed]",
      "text/plain": [
       "<matplotlib.figure.Figure at 0x2143a326d30>"
      ]
     },
     "metadata": {},
     "output_type": "display_data"
    },
    {
     "data": {
      "text/plain": [
       "<matplotlib.figure.Figure at 0x2143a326550>"
      ]
     },
     "metadata": {},
     "output_type": "display_data"
    }
   ],
   "source": [
    "plt.scatter(x = 'Age', y='Losses',data=df)\n",
    "plt.figure(figsize=(2,10))\n",
    "plt.show()"
   ]
  },
  {
   "cell_type": "code",
   "execution_count": 7,
   "metadata": {},
   "outputs": [
    {
     "data": {
      "text/plain": [
       "array(['P', 'D'], dtype=object)"
      ]
     },
     "execution_count": 7,
     "metadata": {},
     "output_type": "execute_result"
    }
   ],
   "source": [
    "df['Gender'].unique()\n",
    "df['Fuel Type'].unique()"
   ]
  },
  {
   "cell_type": "code",
   "execution_count": 8,
   "metadata": {},
   "outputs": [],
   "source": [
    "np.random.seed(12345)\n",
    "nums = np.random.rand(len(df))\n",
    "mask_gender = nums > 0.5"
   ]
  },
  {
   "cell_type": "code",
   "execution_count": 28,
   "metadata": {},
   "outputs": [
    {
     "data": {
      "text/html": [
       "<div>\n",
       "<style scoped>\n",
       "    .dataframe tbody tr th:only-of-type {\n",
       "        vertical-align: middle;\n",
       "    }\n",
       "\n",
       "    .dataframe tbody tr th {\n",
       "        vertical-align: top;\n",
       "    }\n",
       "\n",
       "    .dataframe thead th {\n",
       "        text-align: right;\n",
       "    }\n",
       "</style>\n",
       "<table border=\"1\" class=\"dataframe\">\n",
       "  <thead>\n",
       "    <tr style=\"text-align: right;\">\n",
       "      <th></th>\n",
       "      <th>Policy Number</th>\n",
       "      <th>Age</th>\n",
       "      <th>Years of Driving Experience</th>\n",
       "      <th>Number of Vehicles</th>\n",
       "      <th>Gender</th>\n",
       "      <th>Married</th>\n",
       "      <th>Vehicle Age</th>\n",
       "      <th>Fuel Type</th>\n",
       "      <th>Losses</th>\n",
       "      <th>Gender_New</th>\n",
       "      <th>Married_New</th>\n",
       "      <th>Fuel_New</th>\n",
       "    </tr>\n",
       "  </thead>\n",
       "  <tbody>\n",
       "    <tr>\n",
       "      <th>0</th>\n",
       "      <td>150024</td>\n",
       "      <td>24</td>\n",
       "      <td>5</td>\n",
       "      <td>1</td>\n",
       "      <td>M</td>\n",
       "      <td>Married</td>\n",
       "      <td>11</td>\n",
       "      <td>P</td>\n",
       "      <td>203.319595</td>\n",
       "      <td>1</td>\n",
       "      <td>0</td>\n",
       "      <td>0</td>\n",
       "    </tr>\n",
       "    <tr>\n",
       "      <th>1</th>\n",
       "      <td>144880</td>\n",
       "      <td>31</td>\n",
       "      <td>10</td>\n",
       "      <td>1</td>\n",
       "      <td>F</td>\n",
       "      <td>Single</td>\n",
       "      <td>6</td>\n",
       "      <td>P</td>\n",
       "      <td>402.197302</td>\n",
       "      <td>0</td>\n",
       "      <td>1</td>\n",
       "      <td>0</td>\n",
       "    </tr>\n",
       "    <tr>\n",
       "      <th>2</th>\n",
       "      <td>133742</td>\n",
       "      <td>56</td>\n",
       "      <td>37</td>\n",
       "      <td>1</td>\n",
       "      <td>M</td>\n",
       "      <td>Married</td>\n",
       "      <td>0</td>\n",
       "      <td>D</td>\n",
       "      <td>553.132096</td>\n",
       "      <td>1</td>\n",
       "      <td>0</td>\n",
       "      <td>1</td>\n",
       "    </tr>\n",
       "    <tr>\n",
       "      <th>3</th>\n",
       "      <td>151282</td>\n",
       "      <td>52</td>\n",
       "      <td>31</td>\n",
       "      <td>1</td>\n",
       "      <td>F</td>\n",
       "      <td>Married</td>\n",
       "      <td>15</td>\n",
       "      <td>P</td>\n",
       "      <td>292.430579</td>\n",
       "      <td>0</td>\n",
       "      <td>0</td>\n",
       "      <td>0</td>\n",
       "    </tr>\n",
       "    <tr>\n",
       "      <th>4</th>\n",
       "      <td>174407</td>\n",
       "      <td>20</td>\n",
       "      <td>3</td>\n",
       "      <td>1</td>\n",
       "      <td>M</td>\n",
       "      <td>Single</td>\n",
       "      <td>15</td>\n",
       "      <td>P</td>\n",
       "      <td>246.540576</td>\n",
       "      <td>1</td>\n",
       "      <td>1</td>\n",
       "      <td>0</td>\n",
       "    </tr>\n",
       "  </tbody>\n",
       "</table>\n",
       "</div>"
      ],
      "text/plain": [
       "   Policy Number  Age  Years of Driving Experience  Number of Vehicles Gender  \\\n",
       "0         150024   24                            5                   1      M   \n",
       "1         144880   31                           10                   1      F   \n",
       "2         133742   56                           37                   1      M   \n",
       "3         151282   52                           31                   1      F   \n",
       "4         174407   20                            3                   1      M   \n",
       "\n",
       "   Married  Vehicle Age Fuel Type      Losses  Gender_New  Married_New  \\\n",
       "0  Married           11         P  203.319595           1            0   \n",
       "1   Single            6         P  402.197302           0            1   \n",
       "2  Married            0         D  553.132096           1            0   \n",
       "3  Married           15         P  292.430579           0            0   \n",
       "4   Single           15         P  246.540576           1            1   \n",
       "\n",
       "   Fuel_New  \n",
       "0         0  \n",
       "1         0  \n",
       "2         1  \n",
       "3         0  \n",
       "4         0  "
      ]
     },
     "execution_count": 28,
     "metadata": {},
     "output_type": "execute_result"
    }
   ],
   "source": [
    "df['Gender_New'] = df.Gender.map({'M':1,'F':0})\n",
    "df['Married_New'] = df.Married.map({'Married':0,'Single':1})\n",
    "df['Fuel_New'] = df['Fuel Type'].map({'P':0,'D':1})\n",
    "#df['Number of Vehicles'] = df['Num_Vehicle'].map({})\n",
    "df.head()"
   ]
  },
  {
   "cell_type": "code",
   "execution_count": 10,
   "metadata": {},
   "outputs": [
    {
     "data": {
      "text/plain": [
       "array([1, 2, 3, 4], dtype=int64)"
      ]
     },
     "execution_count": 10,
     "metadata": {},
     "output_type": "execute_result"
    }
   ],
   "source": [
    "df['Number of Vehicles'].unique()"
   ]
  },
  {
   "cell_type": "code",
   "execution_count": 11,
   "metadata": {},
   "outputs": [],
   "source": [
    "lm2 = smf.ols(formula=\"Losses~Age\", data=df).fit()"
   ]
  },
  {
   "cell_type": "code",
   "execution_count": 12,
   "metadata": {
    "collapsed": true
   },
   "outputs": [
    {
     "data": {
      "text/html": [
       "<table class=\"simpletable\">\n",
       "<caption>OLS Regression Results</caption>\n",
       "<tr>\n",
       "  <th>Dep. Variable:</th>         <td>Losses</td>      <th>  R-squared:         </th>  <td>   0.196</td>  \n",
       "</tr>\n",
       "<tr>\n",
       "  <th>Model:</th>                   <td>OLS</td>       <th>  Adj. R-squared:    </th>  <td>   0.196</td>  \n",
       "</tr>\n",
       "<tr>\n",
       "  <th>Method:</th>             <td>Least Squares</td>  <th>  F-statistic:       </th>  <td>   3732.</td>  \n",
       "</tr>\n",
       "<tr>\n",
       "  <th>Date:</th>             <td>Wed, 30 May 2018</td> <th>  Prob (F-statistic):</th>   <td>  0.00</td>   \n",
       "</tr>\n",
       "<tr>\n",
       "  <th>Time:</th>                 <td>07:52:01</td>     <th>  Log-Likelihood:    </th> <td>-1.0467e+05</td>\n",
       "</tr>\n",
       "<tr>\n",
       "  <th>No. Observations:</th>      <td> 15290</td>      <th>  AIC:               </th>  <td>2.094e+05</td> \n",
       "</tr>\n",
       "<tr>\n",
       "  <th>Df Residuals:</th>          <td> 15288</td>      <th>  BIC:               </th>  <td>2.094e+05</td> \n",
       "</tr>\n",
       "<tr>\n",
       "  <th>Df Model:</th>              <td>     1</td>      <th>                     </th>      <td> </td>     \n",
       "</tr>\n",
       "<tr>\n",
       "  <th>Covariance Type:</th>      <td>nonrobust</td>    <th>                     </th>      <td> </td>     \n",
       "</tr>\n",
       "</table>\n",
       "<table class=\"simpletable\">\n",
       "<tr>\n",
       "      <td></td>         <th>coef</th>     <th>std err</th>      <th>t</th>      <th>P>|t|</th>  <th>[0.025</th>    <th>0.975]</th>  \n",
       "</tr>\n",
       "<tr>\n",
       "  <th>Intercept</th> <td>  650.1030</td> <td>    4.640</td> <td>  140.101</td> <td> 0.000</td> <td>  641.008</td> <td>  659.198</td>\n",
       "</tr>\n",
       "<tr>\n",
       "  <th>Age</th>       <td>   -6.1482</td> <td>    0.101</td> <td>  -61.090</td> <td> 0.000</td> <td>   -6.345</td> <td>   -5.951</td>\n",
       "</tr>\n",
       "</table>\n",
       "<table class=\"simpletable\">\n",
       "<tr>\n",
       "  <th>Omnibus:</th>       <td>10677.162</td> <th>  Durbin-Watson:     </th>  <td>   1.825</td> \n",
       "</tr>\n",
       "<tr>\n",
       "  <th>Prob(Omnibus):</th>  <td> 0.000</td>   <th>  Jarque-Bera (JB):  </th> <td>404563.903</td>\n",
       "</tr>\n",
       "<tr>\n",
       "  <th>Skew:</th>           <td> 2.886</td>   <th>  Prob(JB):          </th>  <td>    0.00</td> \n",
       "</tr>\n",
       "<tr>\n",
       "  <th>Kurtosis:</th>       <td>27.530</td>   <th>  Cond. No.          </th>  <td>    116.</td> \n",
       "</tr>\n",
       "</table>"
      ],
      "text/plain": [
       "<class 'statsmodels.iolib.summary.Summary'>\n",
       "\"\"\"\n",
       "                            OLS Regression Results                            \n",
       "==============================================================================\n",
       "Dep. Variable:                 Losses   R-squared:                       0.196\n",
       "Model:                            OLS   Adj. R-squared:                  0.196\n",
       "Method:                 Least Squares   F-statistic:                     3732.\n",
       "Date:                Wed, 30 May 2018   Prob (F-statistic):               0.00\n",
       "Time:                        07:52:01   Log-Likelihood:            -1.0467e+05\n",
       "No. Observations:               15290   AIC:                         2.094e+05\n",
       "Df Residuals:                   15288   BIC:                         2.094e+05\n",
       "Df Model:                           1                                         \n",
       "Covariance Type:            nonrobust                                         \n",
       "==============================================================================\n",
       "                 coef    std err          t      P>|t|      [0.025      0.975]\n",
       "------------------------------------------------------------------------------\n",
       "Intercept    650.1030      4.640    140.101      0.000     641.008     659.198\n",
       "Age           -6.1482      0.101    -61.090      0.000      -6.345      -5.951\n",
       "==============================================================================\n",
       "Omnibus:                    10677.162   Durbin-Watson:                   1.825\n",
       "Prob(Omnibus):                  0.000   Jarque-Bera (JB):           404563.903\n",
       "Skew:                           2.886   Prob(JB):                         0.00\n",
       "Kurtosis:                      27.530   Cond. No.                         116.\n",
       "==============================================================================\n",
       "\n",
       "Warnings:\n",
       "[1] Standard Errors assume that the covariance matrix of the errors is correctly specified.\n",
       "\"\"\""
      ]
     },
     "execution_count": 12,
     "metadata": {},
     "output_type": "execute_result"
    }
   ],
   "source": [
    "lm2.summary()"
   ]
  },
  {
   "cell_type": "code",
   "execution_count": 13,
   "metadata": {},
   "outputs": [],
   "source": [
    "lm = smf.ols(formula=\"Losses~df['Years of Driving Experience']\", data=df).fit()"
   ]
  },
  {
   "cell_type": "code",
   "execution_count": 14,
   "metadata": {
    "collapsed": true
   },
   "outputs": [
    {
     "data": {
      "text/html": [
       "<table class=\"simpletable\">\n",
       "<caption>OLS Regression Results</caption>\n",
       "<tr>\n",
       "  <th>Dep. Variable:</th>         <td>Losses</td>      <th>  R-squared:         </th>  <td>   0.195</td>  \n",
       "</tr>\n",
       "<tr>\n",
       "  <th>Model:</th>                   <td>OLS</td>       <th>  Adj. R-squared:    </th>  <td>   0.195</td>  \n",
       "</tr>\n",
       "<tr>\n",
       "  <th>Method:</th>             <td>Least Squares</td>  <th>  F-statistic:       </th>  <td>   3714.</td>  \n",
       "</tr>\n",
       "<tr>\n",
       "  <th>Date:</th>             <td>Wed, 30 May 2018</td> <th>  Prob (F-statistic):</th>   <td>  0.00</td>   \n",
       "</tr>\n",
       "<tr>\n",
       "  <th>Time:</th>                 <td>07:52:01</td>     <th>  Log-Likelihood:    </th> <td>-1.0468e+05</td>\n",
       "</tr>\n",
       "<tr>\n",
       "  <th>No. Observations:</th>      <td> 15290</td>      <th>  AIC:               </th>  <td>2.094e+05</td> \n",
       "</tr>\n",
       "<tr>\n",
       "  <th>Df Residuals:</th>          <td> 15288</td>      <th>  BIC:               </th>  <td>2.094e+05</td> \n",
       "</tr>\n",
       "<tr>\n",
       "  <th>Df Model:</th>              <td>     1</td>      <th>                     </th>      <td> </td>     \n",
       "</tr>\n",
       "<tr>\n",
       "  <th>Covariance Type:</th>      <td>nonrobust</td>    <th>                     </th>      <td> </td>     \n",
       "</tr>\n",
       "</table>\n",
       "<table class=\"simpletable\">\n",
       "<tr>\n",
       "                  <td></td>                     <th>coef</th>     <th>std err</th>      <th>t</th>      <th>P>|t|</th>  <th>[0.025</th>    <th>0.975]</th>  \n",
       "</tr>\n",
       "<tr>\n",
       "  <th>Intercept</th>                         <td>  539.0021</td> <td>    3.062</td> <td>  176.025</td> <td> 0.000</td> <td>  533.000</td> <td>  545.004</td>\n",
       "</tr>\n",
       "<tr>\n",
       "  <th>df['Years of Driving Experience']</th> <td>   -6.2842</td> <td>    0.103</td> <td>  -60.945</td> <td> 0.000</td> <td>   -6.486</td> <td>   -6.082</td>\n",
       "</tr>\n",
       "</table>\n",
       "<table class=\"simpletable\">\n",
       "<tr>\n",
       "  <th>Omnibus:</th>       <td>10708.100</td> <th>  Durbin-Watson:     </th>  <td>   1.825</td> \n",
       "</tr>\n",
       "<tr>\n",
       "  <th>Prob(Omnibus):</th>  <td> 0.000</td>   <th>  Jarque-Bera (JB):  </th> <td>407127.107</td>\n",
       "</tr>\n",
       "<tr>\n",
       "  <th>Skew:</th>           <td> 2.898</td>   <th>  Prob(JB):          </th>  <td>    0.00</td> \n",
       "</tr>\n",
       "<tr>\n",
       "  <th>Kurtosis:</th>       <td>27.606</td>   <th>  Cond. No.          </th>  <td>    49.4</td> \n",
       "</tr>\n",
       "</table>"
      ],
      "text/plain": [
       "<class 'statsmodels.iolib.summary.Summary'>\n",
       "\"\"\"\n",
       "                            OLS Regression Results                            \n",
       "==============================================================================\n",
       "Dep. Variable:                 Losses   R-squared:                       0.195\n",
       "Model:                            OLS   Adj. R-squared:                  0.195\n",
       "Method:                 Least Squares   F-statistic:                     3714.\n",
       "Date:                Wed, 30 May 2018   Prob (F-statistic):               0.00\n",
       "Time:                        07:52:01   Log-Likelihood:            -1.0468e+05\n",
       "No. Observations:               15290   AIC:                         2.094e+05\n",
       "Df Residuals:                   15288   BIC:                         2.094e+05\n",
       "Df Model:                           1                                         \n",
       "Covariance Type:            nonrobust                                         \n",
       "=====================================================================================================\n",
       "                                        coef    std err          t      P>|t|      [0.025      0.975]\n",
       "-----------------------------------------------------------------------------------------------------\n",
       "Intercept                           539.0021      3.062    176.025      0.000     533.000     545.004\n",
       "df['Years of Driving Experience']    -6.2842      0.103    -60.945      0.000      -6.486      -6.082\n",
       "==============================================================================\n",
       "Omnibus:                    10708.100   Durbin-Watson:                   1.825\n",
       "Prob(Omnibus):                  0.000   Jarque-Bera (JB):           407127.107\n",
       "Skew:                           2.898   Prob(JB):                         0.00\n",
       "Kurtosis:                      27.606   Cond. No.                         49.4\n",
       "==============================================================================\n",
       "\n",
       "Warnings:\n",
       "[1] Standard Errors assume that the covariance matrix of the errors is correctly specified.\n",
       "\"\"\""
      ]
     },
     "execution_count": 14,
     "metadata": {},
     "output_type": "execute_result"
    }
   ],
   "source": [
    "lm.summary()"
   ]
  },
  {
   "cell_type": "markdown",
   "metadata": {},
   "source": [
    "# LOSSES WITH CATEGORICAL"
   ]
  },
  {
   "cell_type": "code",
   "execution_count": 15,
   "metadata": {},
   "outputs": [],
   "source": [
    "lm = smf.ols(formula=\"Losses~Married_New+Gender_New+Fuel_New\", data=df).fit()"
   ]
  },
  {
   "cell_type": "code",
   "execution_count": 16,
   "metadata": {
    "collapsed": true
   },
   "outputs": [
    {
     "data": {
      "text/html": [
       "<table class=\"simpletable\">\n",
       "<caption>OLS Regression Results</caption>\n",
       "<tr>\n",
       "  <th>Dep. Variable:</th>         <td>Losses</td>      <th>  R-squared:         </th>  <td>   0.542</td>  \n",
       "</tr>\n",
       "<tr>\n",
       "  <th>Model:</th>                   <td>OLS</td>       <th>  Adj. R-squared:    </th>  <td>   0.542</td>  \n",
       "</tr>\n",
       "<tr>\n",
       "  <th>Method:</th>             <td>Least Squares</td>  <th>  F-statistic:       </th>  <td>   6029.</td>  \n",
       "</tr>\n",
       "<tr>\n",
       "  <th>Date:</th>             <td>Wed, 30 May 2018</td> <th>  Prob (F-statistic):</th>   <td>  0.00</td>   \n",
       "</tr>\n",
       "<tr>\n",
       "  <th>Time:</th>                 <td>07:52:01</td>     <th>  Log-Likelihood:    </th> <td>-1.0038e+05</td>\n",
       "</tr>\n",
       "<tr>\n",
       "  <th>No. Observations:</th>      <td> 15290</td>      <th>  AIC:               </th>  <td>2.008e+05</td> \n",
       "</tr>\n",
       "<tr>\n",
       "  <th>Df Residuals:</th>          <td> 15286</td>      <th>  BIC:               </th>  <td>2.008e+05</td> \n",
       "</tr>\n",
       "<tr>\n",
       "  <th>Df Model:</th>              <td>     3</td>      <th>                     </th>      <td> </td>     \n",
       "</tr>\n",
       "<tr>\n",
       "  <th>Covariance Type:</th>      <td>nonrobust</td>    <th>                     </th>      <td> </td>     \n",
       "</tr>\n",
       "</table>\n",
       "<table class=\"simpletable\">\n",
       "<tr>\n",
       "       <td></td>          <th>coef</th>     <th>std err</th>      <th>t</th>      <th>P>|t|</th>  <th>[0.025</th>    <th>0.975]</th>  \n",
       "</tr>\n",
       "<tr>\n",
       "  <th>Intercept</th>   <td>  282.0476</td> <td>    2.518</td> <td>  111.996</td> <td> 0.000</td> <td>  277.111</td> <td>  286.984</td>\n",
       "</tr>\n",
       "<tr>\n",
       "  <th>Married_New</th> <td>   57.9815</td> <td>    2.848</td> <td>   20.356</td> <td> 0.000</td> <td>   52.398</td> <td>   63.565</td>\n",
       "</tr>\n",
       "<tr>\n",
       "  <th>Gender_New</th>  <td>  -35.3508</td> <td>    2.818</td> <td>  -12.545</td> <td> 0.000</td> <td>  -40.874</td> <td>  -29.827</td>\n",
       "</tr>\n",
       "<tr>\n",
       "  <th>Fuel_New</th>    <td>  410.7852</td> <td>    3.396</td> <td>  120.948</td> <td> 0.000</td> <td>  404.128</td> <td>  417.443</td>\n",
       "</tr>\n",
       "</table>\n",
       "<table class=\"simpletable\">\n",
       "<tr>\n",
       "  <th>Omnibus:</th>       <td>15357.935</td> <th>  Durbin-Watson:     </th>  <td>   1.705</td>  \n",
       "</tr>\n",
       "<tr>\n",
       "  <th>Prob(Omnibus):</th>  <td> 0.000</td>   <th>  Jarque-Bera (JB):  </th> <td>2486057.646</td>\n",
       "</tr>\n",
       "<tr>\n",
       "  <th>Skew:</th>           <td> 4.570</td>   <th>  Prob(JB):          </th>  <td>    0.00</td>  \n",
       "</tr>\n",
       "<tr>\n",
       "  <th>Kurtosis:</th>       <td>64.796</td>   <th>  Cond. No.          </th>  <td>    3.51</td>  \n",
       "</tr>\n",
       "</table>"
      ],
      "text/plain": [
       "<class 'statsmodels.iolib.summary.Summary'>\n",
       "\"\"\"\n",
       "                            OLS Regression Results                            \n",
       "==============================================================================\n",
       "Dep. Variable:                 Losses   R-squared:                       0.542\n",
       "Model:                            OLS   Adj. R-squared:                  0.542\n",
       "Method:                 Least Squares   F-statistic:                     6029.\n",
       "Date:                Wed, 30 May 2018   Prob (F-statistic):               0.00\n",
       "Time:                        07:52:01   Log-Likelihood:            -1.0038e+05\n",
       "No. Observations:               15290   AIC:                         2.008e+05\n",
       "Df Residuals:                   15286   BIC:                         2.008e+05\n",
       "Df Model:                           3                                         \n",
       "Covariance Type:            nonrobust                                         \n",
       "===============================================================================\n",
       "                  coef    std err          t      P>|t|      [0.025      0.975]\n",
       "-------------------------------------------------------------------------------\n",
       "Intercept     282.0476      2.518    111.996      0.000     277.111     286.984\n",
       "Married_New    57.9815      2.848     20.356      0.000      52.398      63.565\n",
       "Gender_New    -35.3508      2.818    -12.545      0.000     -40.874     -29.827\n",
       "Fuel_New      410.7852      3.396    120.948      0.000     404.128     417.443\n",
       "==============================================================================\n",
       "Omnibus:                    15357.935   Durbin-Watson:                   1.705\n",
       "Prob(Omnibus):                  0.000   Jarque-Bera (JB):          2486057.646\n",
       "Skew:                           4.570   Prob(JB):                         0.00\n",
       "Kurtosis:                      64.796   Cond. No.                         3.51\n",
       "==============================================================================\n",
       "\n",
       "Warnings:\n",
       "[1] Standard Errors assume that the covariance matrix of the errors is correctly specified.\n",
       "\"\"\""
      ]
     },
     "execution_count": 16,
     "metadata": {},
     "output_type": "execute_result"
    }
   ],
   "source": [
    "lm.summary()"
   ]
  },
  {
   "cell_type": "code",
   "execution_count": 17,
   "metadata": {},
   "outputs": [],
   "source": [
    "lm = smf.ols(formula=\"Losses~Age+df['Years of Driving Experience']+df['Number of Vehicles']+df['Vehicle Age']+Married_New+Gender_New+Fuel_New\", data=df).fit()"
   ]
  },
  {
   "cell_type": "code",
   "execution_count": 18,
   "metadata": {},
   "outputs": [
    {
     "data": {
      "text/html": [
       "<table class=\"simpletable\">\n",
       "<caption>OLS Regression Results</caption>\n",
       "<tr>\n",
       "  <th>Dep. Variable:</th>         <td>Losses</td>      <th>  R-squared:         </th> <td>   0.630</td> \n",
       "</tr>\n",
       "<tr>\n",
       "  <th>Model:</th>                   <td>OLS</td>       <th>  Adj. R-squared:    </th> <td>   0.630</td> \n",
       "</tr>\n",
       "<tr>\n",
       "  <th>Method:</th>             <td>Least Squares</td>  <th>  F-statistic:       </th> <td>   3718.</td> \n",
       "</tr>\n",
       "<tr>\n",
       "  <th>Date:</th>             <td>Wed, 30 May 2018</td> <th>  Prob (F-statistic):</th>  <td>  0.00</td>  \n",
       "</tr>\n",
       "<tr>\n",
       "  <th>Time:</th>                 <td>07:52:01</td>     <th>  Log-Likelihood:    </th> <td> -98743.</td> \n",
       "</tr>\n",
       "<tr>\n",
       "  <th>No. Observations:</th>      <td> 15290</td>      <th>  AIC:               </th> <td>1.975e+05</td>\n",
       "</tr>\n",
       "<tr>\n",
       "  <th>Df Residuals:</th>          <td> 15282</td>      <th>  BIC:               </th> <td>1.976e+05</td>\n",
       "</tr>\n",
       "<tr>\n",
       "  <th>Df Model:</th>              <td>     7</td>      <th>                     </th>     <td> </td>    \n",
       "</tr>\n",
       "<tr>\n",
       "  <th>Covariance Type:</th>      <td>nonrobust</td>    <th>                     </th>     <td> </td>    \n",
       "</tr>\n",
       "</table>\n",
       "<table class=\"simpletable\">\n",
       "<tr>\n",
       "                  <td></td>                     <th>coef</th>     <th>std err</th>      <th>t</th>      <th>P>|t|</th>  <th>[0.025</th>    <th>0.975]</th>  \n",
       "</tr>\n",
       "<tr>\n",
       "  <th>Intercept</th>                         <td>  602.0774</td> <td>   17.944</td> <td>   33.553</td> <td> 0.000</td> <td>  566.905</td> <td>  637.250</td>\n",
       "</tr>\n",
       "<tr>\n",
       "  <th>Age</th>                               <td>   -4.1573</td> <td>    0.913</td> <td>   -4.553</td> <td> 0.000</td> <td>   -5.947</td> <td>   -2.368</td>\n",
       "</tr>\n",
       "<tr>\n",
       "  <th>df['Years of Driving Experience']</th> <td>   -0.4317</td> <td>    0.932</td> <td>   -0.463</td> <td> 0.643</td> <td>   -2.258</td> <td>    1.395</td>\n",
       "</tr>\n",
       "<tr>\n",
       "  <th>df['Number of Vehicles']</th>          <td>   -1.9184</td> <td>    1.309</td> <td>   -1.465</td> <td> 0.143</td> <td>   -4.484</td> <td>    0.648</td>\n",
       "</tr>\n",
       "<tr>\n",
       "  <th>df['Vehicle Age']</th>                 <td>  -12.2328</td> <td>    0.328</td> <td>  -37.298</td> <td> 0.000</td> <td>  -12.876</td> <td>  -11.590</td>\n",
       "</tr>\n",
       "<tr>\n",
       "  <th>Married_New</th>                       <td>   79.8464</td> <td>    2.588</td> <td>   30.852</td> <td> 0.000</td> <td>   74.774</td> <td>   84.919</td>\n",
       "</tr>\n",
       "<tr>\n",
       "  <th>Gender_New</th>                        <td>  -51.1051</td> <td>    2.547</td> <td>  -20.062</td> <td> 0.000</td> <td>  -56.098</td> <td>  -46.112</td>\n",
       "</tr>\n",
       "<tr>\n",
       "  <th>Fuel_New</th>                          <td>  301.4193</td> <td>    3.589</td> <td>   83.988</td> <td> 0.000</td> <td>  294.385</td> <td>  308.454</td>\n",
       "</tr>\n",
       "</table>\n",
       "<table class=\"simpletable\">\n",
       "<tr>\n",
       "  <th>Omnibus:</th>       <td>18019.325</td> <th>  Durbin-Watson:     </th>  <td>   1.638</td>  \n",
       "</tr>\n",
       "<tr>\n",
       "  <th>Prob(Omnibus):</th>  <td> 0.000</td>   <th>  Jarque-Bera (JB):  </th> <td>5261211.478</td>\n",
       "</tr>\n",
       "<tr>\n",
       "  <th>Skew:</th>           <td> 5.889</td>   <th>  Prob(JB):          </th>  <td>    0.00</td>  \n",
       "</tr>\n",
       "<tr>\n",
       "  <th>Kurtosis:</th>       <td>93.109</td>   <th>  Cond. No.          </th>  <td>    794.</td>  \n",
       "</tr>\n",
       "</table>"
      ],
      "text/plain": [
       "<class 'statsmodels.iolib.summary.Summary'>\n",
       "\"\"\"\n",
       "                            OLS Regression Results                            \n",
       "==============================================================================\n",
       "Dep. Variable:                 Losses   R-squared:                       0.630\n",
       "Model:                            OLS   Adj. R-squared:                  0.630\n",
       "Method:                 Least Squares   F-statistic:                     3718.\n",
       "Date:                Wed, 30 May 2018   Prob (F-statistic):               0.00\n",
       "Time:                        07:52:01   Log-Likelihood:                -98743.\n",
       "No. Observations:               15290   AIC:                         1.975e+05\n",
       "Df Residuals:                   15282   BIC:                         1.976e+05\n",
       "Df Model:                           7                                         \n",
       "Covariance Type:            nonrobust                                         \n",
       "=====================================================================================================\n",
       "                                        coef    std err          t      P>|t|      [0.025      0.975]\n",
       "-----------------------------------------------------------------------------------------------------\n",
       "Intercept                           602.0774     17.944     33.553      0.000     566.905     637.250\n",
       "Age                                  -4.1573      0.913     -4.553      0.000      -5.947      -2.368\n",
       "df['Years of Driving Experience']    -0.4317      0.932     -0.463      0.643      -2.258       1.395\n",
       "df['Number of Vehicles']             -1.9184      1.309     -1.465      0.143      -4.484       0.648\n",
       "df['Vehicle Age']                   -12.2328      0.328    -37.298      0.000     -12.876     -11.590\n",
       "Married_New                          79.8464      2.588     30.852      0.000      74.774      84.919\n",
       "Gender_New                          -51.1051      2.547    -20.062      0.000     -56.098     -46.112\n",
       "Fuel_New                            301.4193      3.589     83.988      0.000     294.385     308.454\n",
       "==============================================================================\n",
       "Omnibus:                    18019.325   Durbin-Watson:                   1.638\n",
       "Prob(Omnibus):                  0.000   Jarque-Bera (JB):          5261211.478\n",
       "Skew:                           5.889   Prob(JB):                         0.00\n",
       "Kurtosis:                      93.109   Cond. No.                         794.\n",
       "==============================================================================\n",
       "\n",
       "Warnings:\n",
       "[1] Standard Errors assume that the covariance matrix of the errors is correctly specified.\n",
       "\"\"\""
      ]
     },
     "execution_count": 18,
     "metadata": {},
     "output_type": "execute_result"
    }
   ],
   "source": [
    "lm.summary()"
   ]
  },
  {
   "cell_type": "code",
   "execution_count": 46,
   "metadata": {},
   "outputs": [
    {
     "data": {
      "text/plain": [
       "(array([8.489e+03, 6.617e+03, 1.350e+02, 2.700e+01, 1.000e+00, 2.000e+00,\n",
       "        6.000e+00, 5.000e+00, 5.000e+00, 3.000e+00]),\n",
       " array([-343.91798113,   14.5980472 ,  373.11407552,  731.63010385,\n",
       "        1090.14613218, 1448.6621605 , 1807.17818883, 2165.69421716,\n",
       "        2524.21024548, 2882.72627381, 3241.24230214]),\n",
       " <a list of 10 Patch objects>)"
      ]
     },
     "execution_count": 46,
     "metadata": {},
     "output_type": "execute_result"
    },
    {
     "data": {
      "image/png": "[encoded data removed]",
      "text/plain": [
       "<matplotlib.figure.Figure at 0x214398a20f0>"
      ]
     },
     "metadata": {},
     "output_type": "display_data"
    }
   ],
   "source": [
    "lmx = smf.ols(formula=\"Losses~Age+df['Vehicle Age']+Married_New+Gender_New+Fuel_New\", data=df).fit()\n",
    "lmx.summary()\n",
    "h = lmx.resid\n",
    "plt.hist(h)\n"
   ]
  },
  {
   "cell_type": "code",
   "execution_count": 52,
   "metadata": {},
   "outputs": [
    {
     "data": {
      "image/png": "[encoded data removed]",
      "text/plain": [
       "<matplotlib.figure.Figure at 0x21439a3c2b0>"
      ]
     },
     "execution_count": 52,
     "metadata": {},
     "output_type": "execute_result"
    },
    {
     "data": {
      "image/png": "[encoded data removed]",
      "text/plain": [
       "<matplotlib.figure.Figure at 0x21439a3c2b0>"
      ]
     },
     "metadata": {},
     "output_type": "display_data"
    }
   ],
   "source": [
    "sm.qqplot(lmx.resid)"
   ]
  },
  {
   "cell_type": "code",
   "execution_count": 50,
   "metadata": {},
   "outputs": [
    {
     "ename": "TypeError",
     "evalue": "het_breuschpagan() missing 1 required positional argument: 'exog_het'",
     "output_type": "error",
     "traceback": [
      "\u001b[1;31m---------------------------------------------------------------------------\u001b[0m",
      "\u001b[1;31mTypeError\u001b[0m                                 Traceback (most recent call last)",
      "\u001b[1;32m<ipython-input-50-86fda6084c42>\u001b[0m in \u001b[0;36m<module>\u001b[1;34m()\u001b[0m\n\u001b[1;32m----> 1\u001b[1;33m \u001b[0mstatsmodels\u001b[0m\u001b[1;33m.\u001b[0m\u001b[0mstats\u001b[0m\u001b[1;33m.\u001b[0m\u001b[0mdiagnostic\u001b[0m\u001b[1;33m.\u001b[0m\u001b[0mhet_breuschpagan\u001b[0m\u001b[1;33m(\u001b[0m\u001b[0mh\u001b[0m\u001b[1;33m)\u001b[0m\u001b[1;33m\u001b[0m\u001b[0m\n\u001b[0m",
      "\u001b[1;31mTypeError\u001b[0m: het_breuschpagan() missing 1 required positional argument: 'exog_het'"
     ]
    }
   ],
   "source": [
    "statsmodels.stats.diagnostic.het_breuschpagan(h,)"
   ]
  },
  {
   "cell_type": "code",
   "execution_count": 38,
   "metadata": {},
   "outputs": [],
   "source": [
    "lm1 = LinearRegression()"
   ]
  },
  {
   "cell_type": "code",
   "execution_count": 39,
   "metadata": {},
   "outputs": [],
   "source": [
    "y = df.Losses\n",
    "feature_cols = ['Age','Vehicle Age','Married_New','Gender_New','Fuel_New']\n",
    "x = df[feature_cols]"
   ]
  },
  {
   "cell_type": "code",
   "execution_count": 40,
   "metadata": {},
   "outputs": [
    {
     "data": {
      "text/plain": [
       "LinearRegression(copy_X=True, fit_intercept=True, n_jobs=1, normalize=False)"
      ]
     },
     "execution_count": 40,
     "metadata": {},
     "output_type": "execute_result"
    }
   ],
   "source": [
    "lm1.fit(x,y)"
   ]
  },
  {
   "cell_type": "code",
   "execution_count": 41,
   "metadata": {},
   "outputs": [
    {
     "data": {
      "text/plain": [
       "553.9916857696873"
      ]
     },
     "execution_count": 41,
     "metadata": {},
     "output_type": "execute_result"
    }
   ],
   "source": [
    "lm1.intercept_"
   ]
  },
  {
   "cell_type": "code",
   "execution_count": 42,
   "metadata": {},
   "outputs": [
    {
     "data": {
      "text/plain": [
       "array([ -4.57984878, -12.2476515 ,  79.81385268,  51.08764009,\n",
       "       301.35546562])"
      ]
     },
     "execution_count": 42,
     "metadata": {},
     "output_type": "execute_result"
    }
   ],
   "source": [
    "lm1.coef_"
   ]
  },
  {
   "cell_type": "code",
   "execution_count": 47,
   "metadata": {},
   "outputs": [
    {
     "data": {
      "text/plain": [
       "0.6299797370807736"
      ]
     },
     "execution_count": 47,
     "metadata": {},
     "output_type": "execute_result"
    }
   ],
   "source": [
    "lm1.score(x,y)"
   ]
  },
  {
   "cell_type": "code",
   "execution_count": 53,
   "metadata": {},
   "outputs": [],
   "source": [
    "from sklearn.model_selection import train_test_split\n",
    "x_train, x_test, y_train, y_test = train_test_split(x,y,test_size = 0.3,random_state=42)"
   ]
  },
  {
   "cell_type": "code",
   "execution_count": 61,
   "metadata": {},
   "outputs": [],
   "source": [
    "y_pred_train = lm1.predict(x_train)\n",
    "y_pred_test = lm1.predict(x_test)"
   ]
  },
  {
   "cell_type": "code",
   "execution_count": 62,
   "metadata": {},
   "outputs": [],
   "source": [
    "train_pred_df = pd.DataFrame({'actual':y_train, \n",
    "                              'predicted': y_pred_train,\n",
    "                              'residual':y_train - y_pred_train })"
   ]
  },
  {
   "cell_type": "code",
   "execution_count": 63,
   "metadata": {},
   "outputs": [
    {
     "data": {
      "text/html": [
       "<div>\n",
       "<style scoped>\n",
       "    .dataframe tbody tr th:only-of-type {\n",
       "        vertical-align: middle;\n",
       "    }\n",
       "\n",
       "    .dataframe tbody tr th {\n",
       "        vertical-align: top;\n",
       "    }\n",
       "\n",
       "    .dataframe thead th {\n",
       "        text-align: right;\n",
       "    }\n",
       "</style>\n",
       "<table border=\"1\" class=\"dataframe\">\n",
       "  <thead>\n",
       "    <tr style=\"text-align: right;\">\n",
       "      <th></th>\n",
       "      <th>actual</th>\n",
       "      <th>predicted</th>\n",
       "      <th>residual</th>\n",
       "    </tr>\n",
       "  </thead>\n",
       "  <tbody>\n",
       "    <tr>\n",
       "      <th>3522</th>\n",
       "      <td>478.408426</td>\n",
       "      <td>355.858940</td>\n",
       "      <td>122.549486</td>\n",
       "    </tr>\n",
       "    <tr>\n",
       "      <th>12365</th>\n",
       "      <td>581.484171</td>\n",
       "      <td>657.678934</td>\n",
       "      <td>-76.194763</td>\n",
       "    </tr>\n",
       "    <tr>\n",
       "      <th>895</th>\n",
       "      <td>62.868311</td>\n",
       "      <td>155.837488</td>\n",
       "      <td>-92.969177</td>\n",
       "    </tr>\n",
       "    <tr>\n",
       "      <th>2310</th>\n",
       "      <td>305.861085</td>\n",
       "      <td>345.989939</td>\n",
       "      <td>-40.128854</td>\n",
       "    </tr>\n",
       "    <tr>\n",
       "      <th>8747</th>\n",
       "      <td>896.749323</td>\n",
       "      <td>806.038483</td>\n",
       "      <td>90.710841</td>\n",
       "    </tr>\n",
       "    <tr>\n",
       "      <th>8949</th>\n",
       "      <td>382.190132</td>\n",
       "      <td>343.611288</td>\n",
       "      <td>38.578843</td>\n",
       "    </tr>\n",
       "    <tr>\n",
       "      <th>5405</th>\n",
       "      <td>343.737711</td>\n",
       "      <td>351.383255</td>\n",
       "      <td>-7.645544</td>\n",
       "    </tr>\n",
       "    <tr>\n",
       "      <th>12698</th>\n",
       "      <td>329.401518</td>\n",
       "      <td>231.958248</td>\n",
       "      <td>97.443270</td>\n",
       "    </tr>\n",
       "    <tr>\n",
       "      <th>3559</th>\n",
       "      <td>352.798849</td>\n",
       "      <td>297.463861</td>\n",
       "      <td>55.334988</td>\n",
       "    </tr>\n",
       "    <tr>\n",
       "      <th>4526</th>\n",
       "      <td>472.866350</td>\n",
       "      <td>425.021200</td>\n",
       "      <td>47.845150</td>\n",
       "    </tr>\n",
       "    <tr>\n",
       "      <th>3441</th>\n",
       "      <td>153.190564</td>\n",
       "      <td>91.010302</td>\n",
       "      <td>62.180262</td>\n",
       "    </tr>\n",
       "    <tr>\n",
       "      <th>7051</th>\n",
       "      <td>200.742092</td>\n",
       "      <td>182.815606</td>\n",
       "      <td>17.926486</td>\n",
       "    </tr>\n",
       "    <tr>\n",
       "      <th>3465</th>\n",
       "      <td>553.700069</td>\n",
       "      <td>700.237432</td>\n",
       "      <td>-146.537363</td>\n",
       "    </tr>\n",
       "    <tr>\n",
       "      <th>1199</th>\n",
       "      <td>330.743872</td>\n",
       "      <td>201.030837</td>\n",
       "      <td>129.713036</td>\n",
       "    </tr>\n",
       "    <tr>\n",
       "      <th>251</th>\n",
       "      <td>478.456794</td>\n",
       "      <td>323.763552</td>\n",
       "      <td>154.693242</td>\n",
       "    </tr>\n",
       "    <tr>\n",
       "      <th>2955</th>\n",
       "      <td>470.179427</td>\n",
       "      <td>310.524981</td>\n",
       "      <td>159.654446</td>\n",
       "    </tr>\n",
       "    <tr>\n",
       "      <th>2406</th>\n",
       "      <td>353.829352</td>\n",
       "      <td>347.946362</td>\n",
       "      <td>5.882990</td>\n",
       "    </tr>\n",
       "    <tr>\n",
       "      <th>4315</th>\n",
       "      <td>216.535732</td>\n",
       "      <td>178.491957</td>\n",
       "      <td>38.043775</td>\n",
       "    </tr>\n",
       "    <tr>\n",
       "      <th>9212</th>\n",
       "      <td>467.253657</td>\n",
       "      <td>375.529619</td>\n",
       "      <td>91.724038</td>\n",
       "    </tr>\n",
       "    <tr>\n",
       "      <th>13812</th>\n",
       "      <td>498.993177</td>\n",
       "      <td>361.325544</td>\n",
       "      <td>137.667633</td>\n",
       "    </tr>\n",
       "    <tr>\n",
       "      <th>4038</th>\n",
       "      <td>77.566807</td>\n",
       "      <td>244.205899</td>\n",
       "      <td>-166.639092</td>\n",
       "    </tr>\n",
       "    <tr>\n",
       "      <th>3576</th>\n",
       "      <td>292.271365</td>\n",
       "      <td>164.648247</td>\n",
       "      <td>127.623119</td>\n",
       "    </tr>\n",
       "    <tr>\n",
       "      <th>13536</th>\n",
       "      <td>384.276466</td>\n",
       "      <td>277.860900</td>\n",
       "      <td>106.415567</td>\n",
       "    </tr>\n",
       "    <tr>\n",
       "      <th>6804</th>\n",
       "      <td>683.672130</td>\n",
       "      <td>693.816749</td>\n",
       "      <td>-10.144620</td>\n",
       "    </tr>\n",
       "    <tr>\n",
       "      <th>14728</th>\n",
       "      <td>227.597204</td>\n",
       "      <td>278.466039</td>\n",
       "      <td>-50.868835</td>\n",
       "    </tr>\n",
       "    <tr>\n",
       "      <th>8498</th>\n",
       "      <td>224.733943</td>\n",
       "      <td>210.086370</td>\n",
       "      <td>14.647573</td>\n",
       "    </tr>\n",
       "    <tr>\n",
       "      <th>5502</th>\n",
       "      <td>643.832362</td>\n",
       "      <td>818.181970</td>\n",
       "      <td>-174.349607</td>\n",
       "    </tr>\n",
       "    <tr>\n",
       "      <th>7852</th>\n",
       "      <td>314.260979</td>\n",
       "      <td>195.460068</td>\n",
       "      <td>118.800910</td>\n",
       "    </tr>\n",
       "    <tr>\n",
       "      <th>9673</th>\n",
       "      <td>221.052516</td>\n",
       "      <td>277.188043</td>\n",
       "      <td>-56.135527</td>\n",
       "    </tr>\n",
       "    <tr>\n",
       "      <th>3813</th>\n",
       "      <td>461.567082</td>\n",
       "      <td>342.688086</td>\n",
       "      <td>118.878996</td>\n",
       "    </tr>\n",
       "    <tr>\n",
       "      <th>...</th>\n",
       "      <td>...</td>\n",
       "      <td>...</td>\n",
       "      <td>...</td>\n",
       "    </tr>\n",
       "    <tr>\n",
       "      <th>10125</th>\n",
       "      <td>902.905283</td>\n",
       "      <td>743.100002</td>\n",
       "      <td>159.805281</td>\n",
       "    </tr>\n",
       "    <tr>\n",
       "      <th>11912</th>\n",
       "      <td>479.288606</td>\n",
       "      <td>324.112491</td>\n",
       "      <td>155.176115</td>\n",
       "    </tr>\n",
       "    <tr>\n",
       "      <th>5740</th>\n",
       "      <td>852.603838</td>\n",
       "      <td>646.526367</td>\n",
       "      <td>206.077471</td>\n",
       "    </tr>\n",
       "    <tr>\n",
       "      <th>13009</th>\n",
       "      <td>387.287274</td>\n",
       "      <td>315.991585</td>\n",
       "      <td>71.295689</td>\n",
       "    </tr>\n",
       "    <tr>\n",
       "      <th>8054</th>\n",
       "      <td>309.008775</td>\n",
       "      <td>289.644023</td>\n",
       "      <td>19.364753</td>\n",
       "    </tr>\n",
       "    <tr>\n",
       "      <th>7809</th>\n",
       "      <td>419.276661</td>\n",
       "      <td>294.584236</td>\n",
       "      <td>124.692425</td>\n",
       "    </tr>\n",
       "    <tr>\n",
       "      <th>5758</th>\n",
       "      <td>285.690277</td>\n",
       "      <td>315.422892</td>\n",
       "      <td>-29.732616</td>\n",
       "    </tr>\n",
       "    <tr>\n",
       "      <th>5371</th>\n",
       "      <td>428.323366</td>\n",
       "      <td>397.077579</td>\n",
       "      <td>31.245787</td>\n",
       "    </tr>\n",
       "    <tr>\n",
       "      <th>14078</th>\n",
       "      <td>256.765933</td>\n",
       "      <td>230.815292</td>\n",
       "      <td>25.950641</td>\n",
       "    </tr>\n",
       "    <tr>\n",
       "      <th>14135</th>\n",
       "      <td>898.125986</td>\n",
       "      <td>765.498271</td>\n",
       "      <td>132.627715</td>\n",
       "    </tr>\n",
       "    <tr>\n",
       "      <th>9089</th>\n",
       "      <td>482.918177</td>\n",
       "      <td>376.917350</td>\n",
       "      <td>106.000827</td>\n",
       "    </tr>\n",
       "    <tr>\n",
       "      <th>2837</th>\n",
       "      <td>510.259755</td>\n",
       "      <td>784.526969</td>\n",
       "      <td>-274.267215</td>\n",
       "    </tr>\n",
       "    <tr>\n",
       "      <th>6648</th>\n",
       "      <td>347.098023</td>\n",
       "      <td>336.151814</td>\n",
       "      <td>10.946209</td>\n",
       "    </tr>\n",
       "    <tr>\n",
       "      <th>7912</th>\n",
       "      <td>385.560570</td>\n",
       "      <td>351.383255</td>\n",
       "      <td>34.177315</td>\n",
       "    </tr>\n",
       "    <tr>\n",
       "      <th>3218</th>\n",
       "      <td>555.037452</td>\n",
       "      <td>674.354398</td>\n",
       "      <td>-119.316946</td>\n",
       "    </tr>\n",
       "    <tr>\n",
       "      <th>3573</th>\n",
       "      <td>380.052330</td>\n",
       "      <td>305.339993</td>\n",
       "      <td>74.712337</td>\n",
       "    </tr>\n",
       "    <tr>\n",
       "      <th>3132</th>\n",
       "      <td>593.339583</td>\n",
       "      <td>670.605013</td>\n",
       "      <td>-77.265430</td>\n",
       "    </tr>\n",
       "    <tr>\n",
       "      <th>6601</th>\n",
       "      <td>329.799481</td>\n",
       "      <td>243.741371</td>\n",
       "      <td>86.058111</td>\n",
       "    </tr>\n",
       "    <tr>\n",
       "      <th>3520</th>\n",
       "      <td>71.022455</td>\n",
       "      <td>176.895898</td>\n",
       "      <td>-105.873443</td>\n",
       "    </tr>\n",
       "    <tr>\n",
       "      <th>6724</th>\n",
       "      <td>322.525126</td>\n",
       "      <td>344.498044</td>\n",
       "      <td>-21.972918</td>\n",
       "    </tr>\n",
       "    <tr>\n",
       "      <th>2588</th>\n",
       "      <td>233.786128</td>\n",
       "      <td>161.909232</td>\n",
       "      <td>71.876896</td>\n",
       "    </tr>\n",
       "    <tr>\n",
       "      <th>3338</th>\n",
       "      <td>522.699875</td>\n",
       "      <td>671.840707</td>\n",
       "      <td>-149.140833</td>\n",
       "    </tr>\n",
       "    <tr>\n",
       "      <th>11524</th>\n",
       "      <td>330.484295</td>\n",
       "      <td>273.734154</td>\n",
       "      <td>56.750141</td>\n",
       "    </tr>\n",
       "    <tr>\n",
       "      <th>3353</th>\n",
       "      <td>406.261585</td>\n",
       "      <td>321.807129</td>\n",
       "      <td>84.454457</td>\n",
       "    </tr>\n",
       "    <tr>\n",
       "      <th>4308</th>\n",
       "      <td>952.448868</td>\n",
       "      <td>622.031064</td>\n",
       "      <td>330.417805</td>\n",
       "    </tr>\n",
       "    <tr>\n",
       "      <th>1758</th>\n",
       "      <td>601.572558</td>\n",
       "      <td>646.109710</td>\n",
       "      <td>-44.537152</td>\n",
       "    </tr>\n",
       "    <tr>\n",
       "      <th>11845</th>\n",
       "      <td>180.211505</td>\n",
       "      <td>370.741442</td>\n",
       "      <td>-190.529937</td>\n",
       "    </tr>\n",
       "    <tr>\n",
       "      <th>10577</th>\n",
       "      <td>198.681289</td>\n",
       "      <td>231.071492</td>\n",
       "      <td>-32.390203</td>\n",
       "    </tr>\n",
       "    <tr>\n",
       "      <th>852</th>\n",
       "      <td>190.637765</td>\n",
       "      <td>306.263195</td>\n",
       "      <td>-115.625430</td>\n",
       "    </tr>\n",
       "    <tr>\n",
       "      <th>1494</th>\n",
       "      <td>387.351337</td>\n",
       "      <td>276.160676</td>\n",
       "      <td>111.190661</td>\n",
       "    </tr>\n",
       "  </tbody>\n",
       "</table>\n",
       "<p>4587 rows × 3 columns</p>\n",
       "</div>"
      ],
      "text/plain": [
       "           actual   predicted    residual\n",
       "3522   478.408426  355.858940  122.549486\n",
       "12365  581.484171  657.678934  -76.194763\n",
       "895     62.868311  155.837488  -92.969177\n",
       "2310   305.861085  345.989939  -40.128854\n",
       "8747   896.749323  806.038483   90.710841\n",
       "8949   382.190132  343.611288   38.578843\n",
       "5405   343.737711  351.383255   -7.645544\n",
       "12698  329.401518  231.958248   97.443270\n",
       "3559   352.798849  297.463861   55.334988\n",
       "4526   472.866350  425.021200   47.845150\n",
       "3441   153.190564   91.010302   62.180262\n",
       "7051   200.742092  182.815606   17.926486\n",
       "3465   553.700069  700.237432 -146.537363\n",
       "1199   330.743872  201.030837  129.713036\n",
       "251    478.456794  323.763552  154.693242\n",
       "2955   470.179427  310.524981  159.654446\n",
       "2406   353.829352  347.946362    5.882990\n",
       "4315   216.535732  178.491957   38.043775\n",
       "9212   467.253657  375.529619   91.724038\n",
       "13812  498.993177  361.325544  137.667633\n",
       "4038    77.566807  244.205899 -166.639092\n",
       "3576   292.271365  164.648247  127.623119\n",
       "13536  384.276466  277.860900  106.415567\n",
       "6804   683.672130  693.816749  -10.144620\n",
       "14728  227.597204  278.466039  -50.868835\n",
       "8498   224.733943  210.086370   14.647573\n",
       "5502   643.832362  818.181970 -174.349607\n",
       "7852   314.260979  195.460068  118.800910\n",
       "9673   221.052516  277.188043  -56.135527\n",
       "3813   461.567082  342.688086  118.878996\n",
       "...           ...         ...         ...\n",
       "10125  902.905283  743.100002  159.805281\n",
       "11912  479.288606  324.112491  155.176115\n",
       "5740   852.603838  646.526367  206.077471\n",
       "13009  387.287274  315.991585   71.295689\n",
       "8054   309.008775  289.644023   19.364753\n",
       "7809   419.276661  294.584236  124.692425\n",
       "5758   285.690277  315.422892  -29.732616\n",
       "5371   428.323366  397.077579   31.245787\n",
       "14078  256.765933  230.815292   25.950641\n",
       "14135  898.125986  765.498271  132.627715\n",
       "9089   482.918177  376.917350  106.000827\n",
       "2837   510.259755  784.526969 -274.267215\n",
       "6648   347.098023  336.151814   10.946209\n",
       "7912   385.560570  351.383255   34.177315\n",
       "3218   555.037452  674.354398 -119.316946\n",
       "3573   380.052330  305.339993   74.712337\n",
       "3132   593.339583  670.605013  -77.265430\n",
       "6601   329.799481  243.741371   86.058111\n",
       "3520    71.022455  176.895898 -105.873443\n",
       "6724   322.525126  344.498044  -21.972918\n",
       "2588   233.786128  161.909232   71.876896\n",
       "3338   522.699875  671.840707 -149.140833\n",
       "11524  330.484295  273.734154   56.750141\n",
       "3353   406.261585  321.807129   84.454457\n",
       "4308   952.448868  622.031064  330.417805\n",
       "1758   601.572558  646.109710  -44.537152\n",
       "11845  180.211505  370.741442 -190.529937\n",
       "10577  198.681289  231.071492  -32.390203\n",
       "852    190.637765  306.263195 -115.625430\n",
       "1494   387.351337  276.160676  111.190661\n",
       "\n",
       "[4587 rows x 3 columns]"
      ]
     },
     "execution_count": 63,
     "metadata": {},
     "output_type": "execute_result"
    }
   ],
   "source": [
    "test_pred_df = pd.DataFrame({'actual':y_test, \n",
    "                              'predicted': y_pred_test,\n",
    "                              'residual':y_test - y_pred_test })\n",
    "test_pred_df"
   ]
  },
  {
   "cell_type": "code",
   "execution_count": 64,
   "metadata": {},
   "outputs": [
    {
     "data": {
      "text/plain": [
       "149.34189433200146"
      ]
     },
     "execution_count": 64,
     "metadata": {},
     "output_type": "execute_result"
    }
   ],
   "source": [
    "from sklearn import metrics\n",
    "rmse_train = np.sqrt(metrics.mean_squared_error(y_train,y_pred_train))\n",
    "rmse_train"
   ]
  },
  {
   "cell_type": "code",
   "execution_count": 65,
   "metadata": {},
   "outputs": [
    {
     "data": {
      "text/plain": [
       "165.40593351904127"
      ]
     },
     "execution_count": 65,
     "metadata": {},
     "output_type": "execute_result"
    }
   ],
   "source": [
    "rmse_test = np.sqrt(metrics.mean_squared_error(y_test,y_pred_test))\n",
    "rmse_test"
   ]
  },
  {
   "cell_type": "code",
   "execution_count": 75,
   "metadata": {},
   "outputs": [
    {
     "data": {
      "text/plain": [
       "0.643181871576338"
      ]
     },
     "execution_count": 75,
     "metadata": {},
     "output_type": "execute_result"
    }
   ],
   "source": [
    "metrics.r2_score(y_train,y_pred_train)"
   ]
  },
  {
   "cell_type": "code",
   "execution_count": 76,
   "metadata": {},
   "outputs": [
    {
     "data": {
      "text/plain": [
       "0.601783411833921"
      ]
     },
     "execution_count": 76,
     "metadata": {},
     "output_type": "execute_result"
    }
   ],
   "source": [
    "metrics.r2_score(y_test,y_pred_test)"
   ]
  },
  {
   "cell_type": "code",
   "execution_count": 77,
   "metadata": {},
   "outputs": [
    {
     "data": {
      "text/plain": [
       "Text(0.5,0,'predicted')"
      ]
     },
     "execution_count": 77,
     "metadata": {},
     "output_type": "execute_result"
    },
    {
     "data": {
      "image/png": "[encoded data removed]",
      "text/plain": [
       "<matplotlib.figure.Figure at 0x21439e670b8>"
      ]
     },
     "metadata": {},
     "output_type": "display_data"
    }
   ],
   "source": [
    "plt.scatter(lm.predict(x_train),y_train - lm.predict(x_train))\n",
    "plt.scatter(lm.predict(x_test), y_test-lm.predict(x_test),c='g')\n",
    "plt.hlines(y=0,xmin=0,xmax=30)\n",
    "plt.ylabel('residual')\n",
    "plt.xlabel('predicted')"
   ]
  },
  {
   "cell_type": "code",
   "execution_count": 78,
   "metadata": {},
   "outputs": [
    {
     "data": {
      "text/plain": [
       "<matplotlib.axes._subplots.AxesSubplot at 0x21439e80d68>"
      ]
     },
     "execution_count": 78,
     "metadata": {},
     "output_type": "execute_result"
    },
    {
     "data": {
      "image/png": "[encoded data removed]",
      "text/plain": [
       "<matplotlib.figure.Figure at 0x21439e802b0>"
      ]
     },
     "metadata": {},
     "output_type": "display_data"
    }
   ],
   "source": [
    "import seaborn as sns\n",
    "residual_train = y_train - y_pred_train\n",
    "sns.distplot(residual_train)"
   ]
  },
  {
   "cell_type": "code",
   "execution_count": 70,
   "metadata": {},
   "outputs": [
    {
     "data": {
      "text/plain": [
       "<matplotlib.axes._subplots.AxesSubplot at 0x21439cf7978>"
      ]
     },
     "execution_count": 70,
     "metadata": {},
     "output_type": "execute_result"
    },
    {
     "data": {
      "image/png": "[encoded data removed]",
      "text/plain": [
       "<matplotlib.figure.Figure at 0x21439b876a0>"
      ]
     },
     "metadata": {},
     "output_type": "display_data"
    }
   ],
   "source": [
    "residual_test = y_test - y_pred_test\n",
    "sns.distplot(residual_test)"
   ]
  },
  {
   "cell_type": "code",
   "execution_count": null,
   "metadata": {},
   "outputs": [],
   "source": []
  }
 ],
 "metadata": {
  "kernelspec": {
   "display_name": "Python 3",
   "language": "python",
   "name": "python3"
  },
  "language_info": {
   "codemirror_mode": {
    "name": "ipython",
    "version": 3
   },
   "file_extension": ".py",
   "mimetype": "text/x-python",
   "name": "python",
   "nbconvert_exporter": "python",
   "pygments_lexer": "ipython3",
   "version": "3.6.4"
  }
 },
 "nbformat": 4,
 "nbformat_minor": 2
}
