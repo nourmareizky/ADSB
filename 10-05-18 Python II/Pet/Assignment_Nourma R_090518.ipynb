{
 "cells": [
  {
   "cell_type": "code",
   "execution_count": 1,
   "metadata": {},
   "outputs": [],
   "source": [
    "import pandas as pd\n",
    "import numpy as np\n",
    "%matplotlib inline\n",
    "import matplotlib.pyplot as plt"
   ]
  },
  {
   "cell_type": "code",
   "execution_count": 2,
   "metadata": {},
   "outputs": [],
   "source": [
    "owner = pd.read_csv(\"Owners.csv\")\n",
    "pet = pd.read_csv(\"Pets.csv\")\n",
    "procedure = pd.read_csv(\"ProceduresDetails.csv\")\n",
    "history= pd.read_csv(\"ProceduresHistory-1.csv\")\n"
   ]
  },
  {
   "cell_type": "code",
   "execution_count": 4,
   "metadata": {},
   "outputs": [
    {
     "name": "stdout",
     "output_type": "stream",
     "text": [
      "<class 'pandas.core.frame.DataFrame'>\n",
      "RangeIndex: 2284 entries, 0 to 2283\n",
      "Data columns (total 5 columns):\n",
      "PetID               2284 non-null object\n",
      "Date                2284 non-null datetime64[ns]\n",
      "ProcedureType       2284 non-null object\n",
      "ProcedureSubCode    2284 non-null int64\n",
      "Day                 2284 non-null object\n",
      "dtypes: datetime64[ns](1), int64(1), object(3)\n",
      "memory usage: 89.3+ KB\n"
     ]
    },
    {
     "data": {
      "text/plain": [
       "(89, 8)"
      ]
     },
     "execution_count": 4,
     "metadata": {},
     "output_type": "execute_result"
    }
   ],
   "source": [
    "history['Date'] = pd.to_datetime(history['Date'])\n",
    "history['Day'] = history['Date'].dt.weekday_name\n",
    "history.info()\n",
    "owner.shape"
   ]
  },
  {
   "cell_type": "code",
   "execution_count": 5,
   "metadata": {},
   "outputs": [
    {
     "name": "stdout",
     "output_type": "stream",
     "text": [
      "<class 'pandas.core.frame.DataFrame'>\n",
      "RangeIndex: 100 entries, 0 to 99\n",
      "Data columns (total 6 columns):\n",
      "PetID      100 non-null object\n",
      "Name       100 non-null object\n",
      "Kind       100 non-null object\n",
      "Gender     100 non-null object\n",
      "Age        100 non-null int64\n",
      "OwnerID    100 non-null int64\n",
      "dtypes: int64(2), object(4)\n",
      "memory usage: 4.8+ KB\n"
     ]
    },
    {
     "data": {
      "text/plain": [
       "(100, 6)"
      ]
     },
     "execution_count": 5,
     "metadata": {},
     "output_type": "execute_result"
    }
   ],
   "source": [
    "pet.info()\n",
    "pet.shape"
   ]
  },
  {
   "cell_type": "code",
   "execution_count": 6,
   "metadata": {},
   "outputs": [
    {
     "data": {
      "text/html": [
       "<div>\n",
       "<style scoped>\n",
       "    .dataframe tbody tr th:only-of-type {\n",
       "        vertical-align: middle;\n",
       "    }\n",
       "\n",
       "    .dataframe tbody tr th {\n",
       "        vertical-align: top;\n",
       "    }\n",
       "\n",
       "    .dataframe thead th {\n",
       "        text-align: right;\n",
       "    }\n",
       "</style>\n",
       "<table border=\"1\" class=\"dataframe\">\n",
       "  <thead>\n",
       "    <tr style=\"text-align: right;\">\n",
       "      <th></th>\n",
       "      <th>ProcedureType</th>\n",
       "      <th>ProcedureSubCode</th>\n",
       "      <th>Description</th>\n",
       "      <th>Price</th>\n",
       "    </tr>\n",
       "  </thead>\n",
       "  <tbody>\n",
       "    <tr>\n",
       "      <th>0</th>\n",
       "      <td>OFFICE FEES</td>\n",
       "      <td>1</td>\n",
       "      <td>Office Call</td>\n",
       "      <td>32</td>\n",
       "    </tr>\n",
       "    <tr>\n",
       "      <th>1</th>\n",
       "      <td>OFFICE FEES</td>\n",
       "      <td>2</td>\n",
       "      <td>Emergency</td>\n",
       "      <td>100</td>\n",
       "    </tr>\n",
       "    <tr>\n",
       "      <th>2</th>\n",
       "      <td>OFFICE FEES</td>\n",
       "      <td>3</td>\n",
       "      <td>Reck</td>\n",
       "      <td>24</td>\n",
       "    </tr>\n",
       "    <tr>\n",
       "      <th>3</th>\n",
       "      <td>GROOMING</td>\n",
       "      <td>1</td>\n",
       "      <td>Bath</td>\n",
       "      <td>15</td>\n",
       "    </tr>\n",
       "    <tr>\n",
       "      <th>4</th>\n",
       "      <td>GROOMING</td>\n",
       "      <td>2</td>\n",
       "      <td>Flea Dip</td>\n",
       "      <td>15</td>\n",
       "    </tr>\n",
       "    <tr>\n",
       "      <th>5</th>\n",
       "      <td>GROOMING</td>\n",
       "      <td>3</td>\n",
       "      <td>Flea Spray</td>\n",
       "      <td>10</td>\n",
       "    </tr>\n",
       "    <tr>\n",
       "      <th>6</th>\n",
       "      <td>VACCINATIONS</td>\n",
       "      <td>1</td>\n",
       "      <td>Galaxie (DHLPP)</td>\n",
       "      <td>15</td>\n",
       "    </tr>\n",
       "    <tr>\n",
       "      <th>7</th>\n",
       "      <td>VACCINATIONS</td>\n",
       "      <td>2</td>\n",
       "      <td>Leukemia</td>\n",
       "      <td>20</td>\n",
       "    </tr>\n",
       "    <tr>\n",
       "      <th>8</th>\n",
       "      <td>VACCINATIONS</td>\n",
       "      <td>3</td>\n",
       "      <td>Lyme</td>\n",
       "      <td>15</td>\n",
       "    </tr>\n",
       "    <tr>\n",
       "      <th>9</th>\n",
       "      <td>VACCINATIONS</td>\n",
       "      <td>4</td>\n",
       "      <td>PCR</td>\n",
       "      <td>15</td>\n",
       "    </tr>\n",
       "    <tr>\n",
       "      <th>10</th>\n",
       "      <td>VACCINATIONS</td>\n",
       "      <td>5</td>\n",
       "      <td>Rabies</td>\n",
       "      <td>10</td>\n",
       "    </tr>\n",
       "    <tr>\n",
       "      <th>11</th>\n",
       "      <td>VACCINATIONS</td>\n",
       "      <td>6</td>\n",
       "      <td>Bordetella</td>\n",
       "      <td>10</td>\n",
       "    </tr>\n",
       "    <tr>\n",
       "      <th>12</th>\n",
       "      <td>HOSPITALIZATION</td>\n",
       "      <td>1</td>\n",
       "      <td>All Hospitalization</td>\n",
       "      <td>25</td>\n",
       "    </tr>\n",
       "    <tr>\n",
       "      <th>13</th>\n",
       "      <td>ORTHOPEDIC</td>\n",
       "      <td>1</td>\n",
       "      <td>Amput. per lim thor.</td>\n",
       "      <td>400</td>\n",
       "    </tr>\n",
       "    <tr>\n",
       "      <th>14</th>\n",
       "      <td>ORTHOPEDIC</td>\n",
       "      <td>2</td>\n",
       "      <td>Casting</td>\n",
       "      <td>97</td>\n",
       "    </tr>\n",
       "  </tbody>\n",
       "</table>\n",
       "</div>"
      ],
      "text/plain": [
       "      ProcedureType  ProcedureSubCode           Description  Price\n",
       "0       OFFICE FEES                 1           Office Call     32\n",
       "1       OFFICE FEES                 2             Emergency    100\n",
       "2       OFFICE FEES                 3                  Reck     24\n",
       "3          GROOMING                 1                  Bath     15\n",
       "4          GROOMING                 2              Flea Dip     15\n",
       "5          GROOMING                 3            Flea Spray     10\n",
       "6      VACCINATIONS                 1       Galaxie (DHLPP)     15\n",
       "7      VACCINATIONS                 2              Leukemia     20\n",
       "8      VACCINATIONS                 3                  Lyme     15\n",
       "9      VACCINATIONS                 4                   PCR     15\n",
       "10     VACCINATIONS                 5                Rabies     10\n",
       "11     VACCINATIONS                 6            Bordetella     10\n",
       "12  HOSPITALIZATION                 1   All Hospitalization     25\n",
       "13       ORTHOPEDIC                 1  Amput. per lim thor.    400\n",
       "14       ORTHOPEDIC                 2               Casting     97"
      ]
     },
     "execution_count": 6,
     "metadata": {},
     "output_type": "execute_result"
    }
   ],
   "source": [
    "procedure.head(15)"
   ]
  },
  {
   "cell_type": "code",
   "execution_count": 7,
   "metadata": {},
   "outputs": [
    {
     "data": {
      "text/html": [
       "<div>\n",
       "<style scoped>\n",
       "    .dataframe tbody tr th:only-of-type {\n",
       "        vertical-align: middle;\n",
       "    }\n",
       "\n",
       "    .dataframe tbody tr th {\n",
       "        vertical-align: top;\n",
       "    }\n",
       "\n",
       "    .dataframe thead th {\n",
       "        text-align: right;\n",
       "    }\n",
       "</style>\n",
       "<table border=\"1\" class=\"dataframe\">\n",
       "  <thead>\n",
       "    <tr style=\"text-align: right;\">\n",
       "      <th></th>\n",
       "      <th>PetID</th>\n",
       "      <th>Date</th>\n",
       "      <th>ProcedureType</th>\n",
       "      <th>ProcedureSubCode</th>\n",
       "      <th>Day</th>\n",
       "    </tr>\n",
       "  </thead>\n",
       "  <tbody>\n",
       "    <tr>\n",
       "      <th>0</th>\n",
       "      <td>A8-1181</td>\n",
       "      <td>2016-01-10</td>\n",
       "      <td>VACCINATIONS</td>\n",
       "      <td>5</td>\n",
       "      <td>Sunday</td>\n",
       "    </tr>\n",
       "    <tr>\n",
       "      <th>1</th>\n",
       "      <td>E7-3766</td>\n",
       "      <td>2016-01-11</td>\n",
       "      <td>VACCINATIONS</td>\n",
       "      <td>5</td>\n",
       "      <td>Monday</td>\n",
       "    </tr>\n",
       "    <tr>\n",
       "      <th>2</th>\n",
       "      <td>B8-8740</td>\n",
       "      <td>2016-01-11</td>\n",
       "      <td>VACCINATIONS</td>\n",
       "      <td>5</td>\n",
       "      <td>Monday</td>\n",
       "    </tr>\n",
       "    <tr>\n",
       "      <th>3</th>\n",
       "      <td>D4-9443</td>\n",
       "      <td>2016-01-11</td>\n",
       "      <td>VACCINATIONS</td>\n",
       "      <td>5</td>\n",
       "      <td>Monday</td>\n",
       "    </tr>\n",
       "    <tr>\n",
       "      <th>4</th>\n",
       "      <td>F6-3398</td>\n",
       "      <td>2016-01-12</td>\n",
       "      <td>HOSPITALIZATION</td>\n",
       "      <td>1</td>\n",
       "      <td>Tuesday</td>\n",
       "    </tr>\n",
       "    <tr>\n",
       "      <th>5</th>\n",
       "      <td>E2-6642</td>\n",
       "      <td>2016-01-12</td>\n",
       "      <td>VACCINATIONS</td>\n",
       "      <td>5</td>\n",
       "      <td>Tuesday</td>\n",
       "    </tr>\n",
       "    <tr>\n",
       "      <th>6</th>\n",
       "      <td>A4-1165</td>\n",
       "      <td>2016-01-12</td>\n",
       "      <td>VACCINATIONS</td>\n",
       "      <td>5</td>\n",
       "      <td>Tuesday</td>\n",
       "    </tr>\n",
       "  </tbody>\n",
       "</table>\n",
       "</div>"
      ],
      "text/plain": [
       "     PetID       Date    ProcedureType  ProcedureSubCode      Day\n",
       "0  A8-1181 2016-01-10     VACCINATIONS                 5   Sunday\n",
       "1  E7-3766 2016-01-11     VACCINATIONS                 5   Monday\n",
       "2  B8-8740 2016-01-11     VACCINATIONS                 5   Monday\n",
       "3  D4-9443 2016-01-11     VACCINATIONS                 5   Monday\n",
       "4  F6-3398 2016-01-12  HOSPITALIZATION                 1  Tuesday\n",
       "5  E2-6642 2016-01-12     VACCINATIONS                 5  Tuesday\n",
       "6  A4-1165 2016-01-12     VACCINATIONS                 5  Tuesday"
      ]
     },
     "execution_count": 7,
     "metadata": {},
     "output_type": "execute_result"
    }
   ],
   "source": [
    "history.head(7)"
   ]
  },
  {
   "cell_type": "markdown",
   "metadata": {},
   "source": [
    "### 1.join all"
   ]
  },
  {
   "cell_type": "code",
   "execution_count": 8,
   "metadata": {},
   "outputs": [
    {
     "data": {
      "text/html": [
       "<div>\n",
       "<style scoped>\n",
       "    .dataframe tbody tr th:only-of-type {\n",
       "        vertical-align: middle;\n",
       "    }\n",
       "\n",
       "    .dataframe tbody tr th {\n",
       "        vertical-align: top;\n",
       "    }\n",
       "\n",
       "    .dataframe thead th {\n",
       "        text-align: right;\n",
       "    }\n",
       "</style>\n",
       "<table border=\"1\" class=\"dataframe\">\n",
       "  <thead>\n",
       "    <tr style=\"text-align: right;\">\n",
       "      <th></th>\n",
       "      <th>PetID</th>\n",
       "      <th>Date</th>\n",
       "      <th>ProcedureType</th>\n",
       "      <th>ProcedureSubCode</th>\n",
       "      <th>Day</th>\n",
       "      <th>Name_x</th>\n",
       "      <th>Kind</th>\n",
       "      <th>Gender</th>\n",
       "      <th>Age</th>\n",
       "      <th>OwnerID</th>\n",
       "      <th>Name_y</th>\n",
       "      <th>Surname</th>\n",
       "      <th>StreetAddress</th>\n",
       "      <th>City</th>\n",
       "      <th>State</th>\n",
       "      <th>StateFull</th>\n",
       "      <th>ZipCode</th>\n",
       "      <th>Description</th>\n",
       "      <th>Price</th>\n",
       "    </tr>\n",
       "  </thead>\n",
       "  <tbody>\n",
       "    <tr>\n",
       "      <th>0</th>\n",
       "      <td>T0-3277</td>\n",
       "      <td>2016-01-22</td>\n",
       "      <td>VACCINATIONS</td>\n",
       "      <td>5</td>\n",
       "      <td>Friday</td>\n",
       "      <td>Humbert</td>\n",
       "      <td>Cat</td>\n",
       "      <td>male</td>\n",
       "      <td>12</td>\n",
       "      <td>8133</td>\n",
       "      <td>Stacey</td>\n",
       "      <td>Randolph</td>\n",
       "      <td>1145 D Street</td>\n",
       "      <td>Southfield</td>\n",
       "      <td>MI</td>\n",
       "      <td>Michigan</td>\n",
       "      <td>48075</td>\n",
       "      <td>Rabies</td>\n",
       "      <td>10</td>\n",
       "    </tr>\n",
       "    <tr>\n",
       "      <th>1</th>\n",
       "      <td>G6-6501</td>\n",
       "      <td>2016-01-29</td>\n",
       "      <td>VACCINATIONS</td>\n",
       "      <td>5</td>\n",
       "      <td>Friday</td>\n",
       "      <td>Jake</td>\n",
       "      <td>Cat</td>\n",
       "      <td>male</td>\n",
       "      <td>2</td>\n",
       "      <td>3089</td>\n",
       "      <td>Lee</td>\n",
       "      <td>McKenzie</td>\n",
       "      <td>3295 Pinewood Avenue</td>\n",
       "      <td>Marquette</td>\n",
       "      <td>MI</td>\n",
       "      <td>Michigan</td>\n",
       "      <td>49855</td>\n",
       "      <td>Rabies</td>\n",
       "      <td>10</td>\n",
       "    </tr>\n",
       "    <tr>\n",
       "      <th>2</th>\n",
       "      <td>G6-6501</td>\n",
       "      <td>2016-07-30</td>\n",
       "      <td>VACCINATIONS</td>\n",
       "      <td>5</td>\n",
       "      <td>Saturday</td>\n",
       "      <td>Jake</td>\n",
       "      <td>Cat</td>\n",
       "      <td>male</td>\n",
       "      <td>2</td>\n",
       "      <td>3089</td>\n",
       "      <td>Lee</td>\n",
       "      <td>McKenzie</td>\n",
       "      <td>3295 Pinewood Avenue</td>\n",
       "      <td>Marquette</td>\n",
       "      <td>MI</td>\n",
       "      <td>Michigan</td>\n",
       "      <td>49855</td>\n",
       "      <td>Rabies</td>\n",
       "      <td>10</td>\n",
       "    </tr>\n",
       "    <tr>\n",
       "      <th>3</th>\n",
       "      <td>L4-6292</td>\n",
       "      <td>2016-02-05</td>\n",
       "      <td>VACCINATIONS</td>\n",
       "      <td>5</td>\n",
       "      <td>Friday</td>\n",
       "      <td>Bright</td>\n",
       "      <td>Dog</td>\n",
       "      <td>male</td>\n",
       "      <td>13</td>\n",
       "      <td>3089</td>\n",
       "      <td>Lee</td>\n",
       "      <td>McKenzie</td>\n",
       "      <td>3295 Pinewood Avenue</td>\n",
       "      <td>Marquette</td>\n",
       "      <td>MI</td>\n",
       "      <td>Michigan</td>\n",
       "      <td>49855</td>\n",
       "      <td>Rabies</td>\n",
       "      <td>10</td>\n",
       "    </tr>\n",
       "    <tr>\n",
       "      <th>4</th>\n",
       "      <td>L4-6292</td>\n",
       "      <td>2016-12-16</td>\n",
       "      <td>VACCINATIONS</td>\n",
       "      <td>5</td>\n",
       "      <td>Friday</td>\n",
       "      <td>Bright</td>\n",
       "      <td>Dog</td>\n",
       "      <td>male</td>\n",
       "      <td>13</td>\n",
       "      <td>3089</td>\n",
       "      <td>Lee</td>\n",
       "      <td>McKenzie</td>\n",
       "      <td>3295 Pinewood Avenue</td>\n",
       "      <td>Marquette</td>\n",
       "      <td>MI</td>\n",
       "      <td>Michigan</td>\n",
       "      <td>49855</td>\n",
       "      <td>Rabies</td>\n",
       "      <td>10</td>\n",
       "    </tr>\n",
       "  </tbody>\n",
       "</table>\n",
       "</div>"
      ],
      "text/plain": [
       "     PetID       Date ProcedureType  ProcedureSubCode       Day   Name_x Kind  \\\n",
       "0  T0-3277 2016-01-22  VACCINATIONS                 5    Friday  Humbert  Cat   \n",
       "1  G6-6501 2016-01-29  VACCINATIONS                 5    Friday     Jake  Cat   \n",
       "2  G6-6501 2016-07-30  VACCINATIONS                 5  Saturday     Jake  Cat   \n",
       "3  L4-6292 2016-02-05  VACCINATIONS                 5    Friday   Bright  Dog   \n",
       "4  L4-6292 2016-12-16  VACCINATIONS                 5    Friday   Bright  Dog   \n",
       "\n",
       "  Gender  Age  OwnerID  Name_y   Surname         StreetAddress        City  \\\n",
       "0   male   12     8133  Stacey  Randolph         1145 D Street  Southfield   \n",
       "1   male    2     3089     Lee  McKenzie  3295 Pinewood Avenue   Marquette   \n",
       "2   male    2     3089     Lee  McKenzie  3295 Pinewood Avenue   Marquette   \n",
       "3   male   13     3089     Lee  McKenzie  3295 Pinewood Avenue   Marquette   \n",
       "4   male   13     3089     Lee  McKenzie  3295 Pinewood Avenue   Marquette   \n",
       "\n",
       "  State StateFull  ZipCode Description  Price  \n",
       "0    MI  Michigan    48075      Rabies     10  \n",
       "1    MI  Michigan    49855      Rabies     10  \n",
       "2    MI  Michigan    49855      Rabies     10  \n",
       "3    MI  Michigan    49855      Rabies     10  \n",
       "4    MI  Michigan    49855      Rabies     10  "
      ]
     },
     "execution_count": 8,
     "metadata": {},
     "output_type": "execute_result"
    }
   ],
   "source": [
    "data = pd.merge(history,pet,how=\"inner\",on=\"PetID\")\n",
    "data = pd.merge(data,owner,how=\"inner\",on=\"OwnerID\")\n",
    "data = pd.merge(data,procedure,how=\"inner\",on=[\"ProcedureType\",\"ProcedureSubCode\"])\n",
    "data.shape\n",
    "#data\n",
    "data.head(5)\n",
    "\n"
   ]
  },
  {
   "cell_type": "markdown",
   "metadata": {},
   "source": [
    "### 2. Procedure Type paling banyak"
   ]
  },
  {
   "cell_type": "code",
   "execution_count": 9,
   "metadata": {},
   "outputs": [
    {
     "name": "stdout",
     "output_type": "stream",
     "text": [
      "VACCINATIONS 29\n"
     ]
    }
   ],
   "source": [
    "x = (data.groupby('ProcedureType')['ProcedureType'].count().max())\n",
    "x\n",
    "print(data['ProcedureType'].max(),x)"
   ]
  },
  {
   "cell_type": "markdown",
   "metadata": {},
   "source": [
    "### 3. Nama owner yg ke dokter lebih dari 3 kali"
   ]
  },
  {
   "cell_type": "code",
   "execution_count": 10,
   "metadata": {},
   "outputs": [
    {
     "data": {
      "text/plain": [
       "Name_y  Surname \n",
       "Lee     McKenzie    4\n",
       "Name: PetID, dtype: int64"
      ]
     },
     "execution_count": 10,
     "metadata": {},
     "output_type": "execute_result"
    }
   ],
   "source": [
    "x = data.groupby(['OwnerID'])\n",
    "\n",
    "data.groupby(['OwnerID']).filter(lambda x:len(x) > 3).groupby(['Name_y','Surname'])['PetID'].count()"
   ]
  },
  {
   "cell_type": "markdown",
   "metadata": {},
   "source": [
    "### 4. Siapa yang paling sering ke dokter saat weekdays"
   ]
  },
  {
   "cell_type": "code",
   "execution_count": 11,
   "metadata": {},
   "outputs": [
    {
     "data": {
      "text/plain": [
       "Name_y  Surname \n",
       "Lee     McKenzie    4\n",
       "Name: PetID, dtype: int64"
      ]
     },
     "execution_count": 11,
     "metadata": {},
     "output_type": "execute_result"
    }
   ],
   "source": [
    "notweekend = data[(data.Day != 'Saturday') | (data.Day != 'Sunday')] #memilih data history yang bukan weekend\n",
    "weekday = notweekend.groupby('OwnerID')['OwnerID'].count().max() #menghitung data weekday dan mengelompokkan berdasarkan OwnerID kemudian dihitung jumlahnya\n",
    "weekday\n",
    "#print(data['Name_y'].max(),weekday)\n",
    "#weekend['Name_y'].max()\n",
    "notweekend.groupby(['OwnerID']).filter(lambda x:len(x) == weekday).groupby(['Name_y','Surname'])['PetID'].count()"
   ]
  },
  {
   "cell_type": "markdown",
   "metadata": {},
   "source": [
    "### 5. Berapa total spending Jerry dan Jessica"
   ]
  },
  {
   "cell_type": "code",
   "execution_count": 12,
   "metadata": {},
   "outputs": [
    {
     "data": {
      "text/plain": [
       "425.0"
      ]
     },
     "execution_count": 12,
     "metadata": {},
     "output_type": "execute_result"
    }
   ],
   "source": [
    "# jj = ['Jerry','Jessica']\n",
    "# jerry_jessica = data[data.Name_y.isin(jj)]\n",
    "# jerry_jessica['Price'].sum()\n",
    "\n",
    "data['Price'].where(data['Name_y'] == 'Jerry').sum()+data['Price'].where(data['Name_y'] == 'Jessica').sum()"
   ]
  },
  {
   "cell_type": "markdown",
   "metadata": {},
   "source": [
    "### 6. Nama pet yang paling banyak di vaksin"
   ]
  },
  {
   "cell_type": "code",
   "execution_count": 13,
   "metadata": {},
   "outputs": [
    {
     "data": {
      "text/html": [
       "<div>\n",
       "<style scoped>\n",
       "    .dataframe tbody tr th:only-of-type {\n",
       "        vertical-align: middle;\n",
       "    }\n",
       "\n",
       "    .dataframe tbody tr th {\n",
       "        vertical-align: top;\n",
       "    }\n",
       "\n",
       "    .dataframe thead th {\n",
       "        text-align: right;\n",
       "    }\n",
       "</style>\n",
       "<table border=\"1\" class=\"dataframe\">\n",
       "  <thead>\n",
       "    <tr style=\"text-align: right;\">\n",
       "      <th></th>\n",
       "      <th>Name_x</th>\n",
       "      <th>PetID</th>\n",
       "    </tr>\n",
       "  </thead>\n",
       "  <tbody>\n",
       "    <tr>\n",
       "      <th>2</th>\n",
       "      <td>Biscuit</td>\n",
       "      <td>3</td>\n",
       "    </tr>\n",
       "    <tr>\n",
       "      <th>4</th>\n",
       "      <td>Bonaparte</td>\n",
       "      <td>3</td>\n",
       "    </tr>\n",
       "  </tbody>\n",
       "</table>\n",
       "</div>"
      ],
      "text/plain": [
       "      Name_x  PetID\n",
       "2    Biscuit      3\n",
       "4  Bonaparte      3"
      ]
     },
     "execution_count": 13,
     "metadata": {},
     "output_type": "execute_result"
    }
   ],
   "source": [
    "vaksin = data[data.ProcedureType=='VACCINATIONS'].groupby('Name_x')['PetID'].count().reset_index()\n",
    "max = vaksin['PetID'].max()\n",
    "vaksin.loc[vaksin['PetID'] == max,['Name_x','PetID']]\n",
    "#vaksin = data[data['ProcedureType']=='VACCINATIONS']\n",
    "#data.groupby(['Name_x']).groups"
   ]
  },
  {
   "cell_type": "markdown",
   "metadata": {},
   "source": [
    "### 7. 5 anjing yang selisih umurnya paling jauh dibanding rata-rata umur anjing lain"
   ]
  },
  {
   "cell_type": "code",
   "execution_count": null,
   "metadata": {},
   "outputs": [],
   "source": []
  },
  {
   "cell_type": "code",
   "execution_count": 14,
   "metadata": {
    "collapsed": true
   },
   "outputs": [
    {
     "data": {
      "text/html": [
       "<div>\n",
       "<style scoped>\n",
       "    .dataframe tbody tr th:only-of-type {\n",
       "        vertical-align: middle;\n",
       "    }\n",
       "\n",
       "    .dataframe tbody tr th {\n",
       "        vertical-align: top;\n",
       "    }\n",
       "\n",
       "    .dataframe thead th {\n",
       "        text-align: right;\n",
       "    }\n",
       "</style>\n",
       "<table border=\"1\" class=\"dataframe\">\n",
       "  <thead>\n",
       "    <tr style=\"text-align: right;\">\n",
       "      <th></th>\n",
       "      <th>PetID</th>\n",
       "      <th>Date</th>\n",
       "      <th>ProcedureType</th>\n",
       "      <th>ProcedureSubCode</th>\n",
       "      <th>Day</th>\n",
       "      <th>Name_x</th>\n",
       "      <th>Kind</th>\n",
       "      <th>Gender</th>\n",
       "      <th>Age</th>\n",
       "      <th>OwnerID</th>\n",
       "      <th>Name_y</th>\n",
       "      <th>Surname</th>\n",
       "      <th>StreetAddress</th>\n",
       "      <th>City</th>\n",
       "      <th>State</th>\n",
       "      <th>StateFull</th>\n",
       "      <th>ZipCode</th>\n",
       "      <th>Description</th>\n",
       "      <th>Price</th>\n",
       "      <th>Selisih</th>\n",
       "    </tr>\n",
       "  </thead>\n",
       "  <tbody>\n",
       "    <tr>\n",
       "      <th>32</th>\n",
       "      <td>Q9-1565</td>\n",
       "      <td>2016-05-08</td>\n",
       "      <td>GROOMING</td>\n",
       "      <td>3</td>\n",
       "      <td>Sunday</td>\n",
       "      <td>Scout</td>\n",
       "      <td>Dog</td>\n",
       "      <td>female</td>\n",
       "      <td>14</td>\n",
       "      <td>1766</td>\n",
       "      <td>Doris</td>\n",
       "      <td>Ray</td>\n",
       "      <td>1700 Mahlon Street</td>\n",
       "      <td>Farmington Hills</td>\n",
       "      <td>MI</td>\n",
       "      <td>Michigan</td>\n",
       "      <td>48335</td>\n",
       "      <td>Flea Spray</td>\n",
       "      <td>10</td>\n",
       "      <td>7.121951</td>\n",
       "    </tr>\n",
       "    <tr>\n",
       "      <th>29</th>\n",
       "      <td>P9-3625</td>\n",
       "      <td>2016-01-30</td>\n",
       "      <td>ORTHOPEDIC</td>\n",
       "      <td>7</td>\n",
       "      <td>Saturday</td>\n",
       "      <td>Cuddles</td>\n",
       "      <td>Dog</td>\n",
       "      <td>male</td>\n",
       "      <td>14</td>\n",
       "      <td>7579</td>\n",
       "      <td>Ricardo</td>\n",
       "      <td>Peterson</td>\n",
       "      <td>4963 Mahlon Street</td>\n",
       "      <td>Ann Arbor</td>\n",
       "      <td>MI</td>\n",
       "      <td>Michigan</td>\n",
       "      <td>48104</td>\n",
       "      <td>Pinning-I.M.</td>\n",
       "      <td>325</td>\n",
       "      <td>7.121951</td>\n",
       "    </tr>\n",
       "    <tr>\n",
       "      <th>33</th>\n",
       "      <td>P0-1725</td>\n",
       "      <td>2016-07-06</td>\n",
       "      <td>GROOMING</td>\n",
       "      <td>3</td>\n",
       "      <td>Wednesday</td>\n",
       "      <td>Lily</td>\n",
       "      <td>Dog</td>\n",
       "      <td>female</td>\n",
       "      <td>0</td>\n",
       "      <td>2419</td>\n",
       "      <td>Luisa</td>\n",
       "      <td>Cuellar</td>\n",
       "      <td>1308 Shingleton Road</td>\n",
       "      <td>Kalamazoo</td>\n",
       "      <td>MI</td>\n",
       "      <td>Michigan</td>\n",
       "      <td>49007</td>\n",
       "      <td>Flea Spray</td>\n",
       "      <td>10</td>\n",
       "      <td>6.878049</td>\n",
       "    </tr>\n",
       "    <tr>\n",
       "      <th>3</th>\n",
       "      <td>L4-6292</td>\n",
       "      <td>2016-02-05</td>\n",
       "      <td>VACCINATIONS</td>\n",
       "      <td>5</td>\n",
       "      <td>Friday</td>\n",
       "      <td>Bright</td>\n",
       "      <td>Dog</td>\n",
       "      <td>male</td>\n",
       "      <td>13</td>\n",
       "      <td>3089</td>\n",
       "      <td>Lee</td>\n",
       "      <td>McKenzie</td>\n",
       "      <td>3295 Pinewood Avenue</td>\n",
       "      <td>Marquette</td>\n",
       "      <td>MI</td>\n",
       "      <td>Michigan</td>\n",
       "      <td>49855</td>\n",
       "      <td>Rabies</td>\n",
       "      <td>10</td>\n",
       "      <td>6.121951</td>\n",
       "    </tr>\n",
       "    <tr>\n",
       "      <th>4</th>\n",
       "      <td>L4-6292</td>\n",
       "      <td>2016-12-16</td>\n",
       "      <td>VACCINATIONS</td>\n",
       "      <td>5</td>\n",
       "      <td>Friday</td>\n",
       "      <td>Bright</td>\n",
       "      <td>Dog</td>\n",
       "      <td>male</td>\n",
       "      <td>13</td>\n",
       "      <td>3089</td>\n",
       "      <td>Lee</td>\n",
       "      <td>McKenzie</td>\n",
       "      <td>3295 Pinewood Avenue</td>\n",
       "      <td>Marquette</td>\n",
       "      <td>MI</td>\n",
       "      <td>Michigan</td>\n",
       "      <td>49855</td>\n",
       "      <td>Rabies</td>\n",
       "      <td>10</td>\n",
       "      <td>6.121951</td>\n",
       "    </tr>\n",
       "  </tbody>\n",
       "</table>\n",
       "</div>"
      ],
      "text/plain": [
       "      PetID       Date ProcedureType  ProcedureSubCode        Day   Name_x  \\\n",
       "32  Q9-1565 2016-05-08      GROOMING                 3     Sunday    Scout   \n",
       "29  P9-3625 2016-01-30    ORTHOPEDIC                 7   Saturday  Cuddles   \n",
       "33  P0-1725 2016-07-06      GROOMING                 3  Wednesday     Lily   \n",
       "3   L4-6292 2016-02-05  VACCINATIONS                 5     Friday   Bright   \n",
       "4   L4-6292 2016-12-16  VACCINATIONS                 5     Friday   Bright   \n",
       "\n",
       "   Kind  Gender  Age  OwnerID   Name_y   Surname         StreetAddress  \\\n",
       "32  Dog  female   14     1766    Doris       Ray    1700 Mahlon Street   \n",
       "29  Dog    male   14     7579  Ricardo  Peterson    4963 Mahlon Street   \n",
       "33  Dog  female    0     2419    Luisa   Cuellar  1308 Shingleton Road   \n",
       "3   Dog    male   13     3089      Lee  McKenzie  3295 Pinewood Avenue   \n",
       "4   Dog    male   13     3089      Lee  McKenzie  3295 Pinewood Avenue   \n",
       "\n",
       "                City State StateFull  ZipCode   Description  Price   Selisih  \n",
       "32  Farmington Hills    MI  Michigan    48335    Flea Spray     10  7.121951  \n",
       "29         Ann Arbor    MI  Michigan    48104  Pinning-I.M.    325  7.121951  \n",
       "33         Kalamazoo    MI  Michigan    49007    Flea Spray     10  6.878049  \n",
       "3          Marquette    MI  Michigan    49855        Rabies     10  6.121951  \n",
       "4          Marquette    MI  Michigan    49855        Rabies     10  6.121951  "
      ]
     },
     "execution_count": 14,
     "metadata": {},
     "output_type": "execute_result"
    }
   ],
   "source": [
    "data['Selisih'] = abs(data['Age']- data['Age'].mean())\n",
    "data[data['Kind']=='Dog'].sort_values(by='Selisih',ascending=False).head(5)"
   ]
  },
  {
   "cell_type": "code",
   "execution_count": 26,
   "metadata": {},
   "outputs": [
    {
     "data": {
      "text/html": [
       "<div>\n",
       "<style scoped>\n",
       "    .dataframe tbody tr th:only-of-type {\n",
       "        vertical-align: middle;\n",
       "    }\n",
       "\n",
       "    .dataframe tbody tr th {\n",
       "        vertical-align: top;\n",
       "    }\n",
       "\n",
       "    .dataframe thead th {\n",
       "        text-align: right;\n",
       "    }\n",
       "</style>\n",
       "<table border=\"1\" class=\"dataframe\">\n",
       "  <thead>\n",
       "    <tr style=\"text-align: right;\">\n",
       "      <th></th>\n",
       "      <th>PetID</th>\n",
       "      <th>Name_x</th>\n",
       "      <th>Kind</th>\n",
       "      <th>Age</th>\n",
       "      <th>Selisih</th>\n",
       "    </tr>\n",
       "  </thead>\n",
       "  <tbody>\n",
       "    <tr>\n",
       "      <th>32</th>\n",
       "      <td>Q9-1565</td>\n",
       "      <td>Scout</td>\n",
       "      <td>Dog</td>\n",
       "      <td>14</td>\n",
       "      <td>7.111111</td>\n",
       "    </tr>\n",
       "    <tr>\n",
       "      <th>29</th>\n",
       "      <td>P9-3625</td>\n",
       "      <td>Cuddles</td>\n",
       "      <td>Dog</td>\n",
       "      <td>14</td>\n",
       "      <td>7.111111</td>\n",
       "    </tr>\n",
       "    <tr>\n",
       "      <th>33</th>\n",
       "      <td>P0-1725</td>\n",
       "      <td>Lily</td>\n",
       "      <td>Dog</td>\n",
       "      <td>0</td>\n",
       "      <td>6.888889</td>\n",
       "    </tr>\n",
       "    <tr>\n",
       "      <th>3</th>\n",
       "      <td>L4-6292</td>\n",
       "      <td>Bright</td>\n",
       "      <td>Dog</td>\n",
       "      <td>13</td>\n",
       "      <td>6.111111</td>\n",
       "    </tr>\n",
       "    <tr>\n",
       "      <th>21</th>\n",
       "      <td>P2-7342</td>\n",
       "      <td>Cuddles</td>\n",
       "      <td>Dog</td>\n",
       "      <td>13</td>\n",
       "      <td>6.111111</td>\n",
       "    </tr>\n",
       "  </tbody>\n",
       "</table>\n",
       "</div>"
      ],
      "text/plain": [
       "      PetID   Name_x Kind  Age   Selisih\n",
       "32  Q9-1565    Scout  Dog   14  7.111111\n",
       "29  P9-3625  Cuddles  Dog   14  7.111111\n",
       "33  P0-1725     Lily  Dog    0  6.888889\n",
       "3   L4-6292   Bright  Dog   13  6.111111\n",
       "21  P2-7342  Cuddles  Dog   13  6.111111"
      ]
     },
     "execution_count": 26,
     "metadata": {},
     "output_type": "execute_result"
    }
   ],
   "source": [
    "#drop redudansi data\n",
    "dog =data[data.Kind=='Dog'][['PetID','Name_x','Kind','Age']].drop_duplicates()\n",
    "# dog['Age'].mean()\n",
    "dog['Selisih'] = abs(dog['Age']- dog['Age'].mean())\n",
    "dog.sort_values(by='Selisih',ascending=False).head(5)"
   ]
  },
  {
   "cell_type": "markdown",
   "metadata": {},
   "source": [
    "### 8. Binatang yang sering dibawa ke dokter saat weekend"
   ]
  },
  {
   "cell_type": "code",
   "execution_count": 15,
   "metadata": {},
   "outputs": [
    {
     "data": {
      "text/plain": [
       "Kind\n",
       "Dog    12\n",
       "Name: PetID, dtype: int64"
      ]
     },
     "execution_count": 15,
     "metadata": {},
     "output_type": "execute_result"
    }
   ],
   "source": [
    "weekend = data[(data.Day == 'Saturday') | (data.Day == 'Sunday')]\n",
    "weekend1 = (weekend.groupby('Kind')['Kind'].count().max())\n",
    "weekend.groupby(['Kind']).filter(lambda x:len(x) == weekend1).groupby(['Kind'])['PetID'].count()"
   ]
  },
  {
   "cell_type": "markdown",
   "metadata": {},
   "source": [
    "### 9.Nama pet yang paling banyak di vaksin"
   ]
  },
  {
   "cell_type": "code",
   "execution_count": 16,
   "metadata": {},
   "outputs": [
    {
     "data": {
      "text/html": [
       "<div>\n",
       "<style scoped>\n",
       "    .dataframe tbody tr th:only-of-type {\n",
       "        vertical-align: middle;\n",
       "    }\n",
       "\n",
       "    .dataframe tbody tr th {\n",
       "        vertical-align: top;\n",
       "    }\n",
       "\n",
       "    .dataframe thead th {\n",
       "        text-align: right;\n",
       "    }\n",
       "</style>\n",
       "<table border=\"1\" class=\"dataframe\">\n",
       "  <thead>\n",
       "    <tr style=\"text-align: right;\">\n",
       "      <th></th>\n",
       "      <th>Name_x</th>\n",
       "      <th>PetID</th>\n",
       "    </tr>\n",
       "  </thead>\n",
       "  <tbody>\n",
       "    <tr>\n",
       "      <th>2</th>\n",
       "      <td>Biscuit</td>\n",
       "      <td>3</td>\n",
       "    </tr>\n",
       "    <tr>\n",
       "      <th>4</th>\n",
       "      <td>Bonaparte</td>\n",
       "      <td>3</td>\n",
       "    </tr>\n",
       "  </tbody>\n",
       "</table>\n",
       "</div>"
      ],
      "text/plain": [
       "      Name_x  PetID\n",
       "2    Biscuit      3\n",
       "4  Bonaparte      3"
      ]
     },
     "execution_count": 16,
     "metadata": {},
     "output_type": "execute_result"
    }
   ],
   "source": [
    "vaksin = data[data.ProcedureType=='VACCINATIONS'].groupby('Name_x')['PetID'].count().reset_index()\n",
    "max = vaksin['PetID'].max()\n",
    "vaksin.loc[vaksin['PetID'] == max,['Name_x','PetID']]"
   ]
  },
  {
   "cell_type": "markdown",
   "metadata": {},
   "source": [
    "### 10.Rata-rata  harga paling mahal dari procedure"
   ]
  },
  {
   "cell_type": "code",
   "execution_count": 17,
   "metadata": {},
   "outputs": [
    {
     "data": {
      "text/plain": [
       "ProcedureType\n",
       "ORTHOPEDIC    267.5\n",
       "Name: Price, dtype: float64"
      ]
     },
     "execution_count": 17,
     "metadata": {},
     "output_type": "execute_result"
    }
   ],
   "source": [
    "data_mean = data.groupby('ProcedureType').mean()\n",
    "data_mean\n",
    "data['Price'].groupby([data['ProcedureType']]).mean().sort_values(ascending=False).head(1)"
   ]
  },
  {
   "cell_type": "code",
   "execution_count": null,
   "metadata": {},
   "outputs": [],
   "source": []
  }
 ],
 "metadata": {
  "kernelspec": {
   "display_name": "Python 3",
   "language": "python",
   "name": "python3"
  },
  "language_info": {
   "codemirror_mode": {
    "name": "ipython",
    "version": 3
   },
   "file_extension": ".py",
   "mimetype": "text/x-python",
   "name": "python",
   "nbconvert_exporter": "python",
   "pygments_lexer": "ipython3",
   "version": "3.6.4"
  }
 },
 "nbformat": 4,
 "nbformat_minor": 2
}
