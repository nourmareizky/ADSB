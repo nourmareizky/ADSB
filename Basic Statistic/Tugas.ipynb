{
 "cells": [
  {
   "cell_type": "code",
   "execution_count": 5,
   "metadata": {},
   "outputs": [
    {
     "data": {
      "text/plain": [
       " Creditability Account.Balance Duration.of.Credit Previous.Credit\n",
       " Min.   :0.0   Min.   :1.000   Min.   : 4.00      Min.   :0.000  \n",
       " 1st Qu.:0.0   1st Qu.:1.000   1st Qu.:12.00      1st Qu.:2.000  \n",
       " Median :1.0   Median :2.000   Median :18.00      Median :2.000  \n",
       " Mean   :0.7   Mean   :2.607   Mean   :21.12      Mean   :2.549  \n",
       " 3rd Qu.:1.0   3rd Qu.:4.000   3rd Qu.:24.00      3rd Qu.:4.000  \n",
       " Max.   :1.0   Max.   :4.000   Max.   :72.00      Max.   :4.000  \n",
       "    Purpose       Credit.Amount   Value.Savings.Stocks\n",
       " Min.   : 0.000   Min.   :  250   Min.   :1.000       \n",
       " 1st Qu.: 1.000   1st Qu.: 1374   1st Qu.:1.000       \n",
       " Median : 2.000   Median : 2300   Median :1.000       \n",
       " Mean   : 2.821   Mean   : 3262   Mean   :2.118       \n",
       " 3rd Qu.: 3.000   3rd Qu.: 3968   3rd Qu.:3.000       \n",
       " Max.   :10.000   Max.   :18424   Max.   :5.000       \n",
       " Length.of.current.employment Instalment.per.income Sex.Marital.Status\n",
       " Min.   :1.000                Min.   :1.000         Min.   :1.000     \n",
       " 1st Qu.:3.000                1st Qu.:2.000         1st Qu.:2.000     \n",
       " Median :3.000                Median :3.000         Median :3.000     \n",
       " Mean   :3.388                Mean   :2.982         Mean   :2.696     \n",
       " 3rd Qu.:5.000                3rd Qu.:4.000         3rd Qu.:3.000     \n",
       " Max.   :5.000                Max.   :4.000         Max.   :4.000     \n",
       "   Guarantors    Duration.in.Current.address Most.valuable.asset\n",
       " Min.   :1.000   Min.   :1.00                Min.   :1.000      \n",
       " 1st Qu.:1.000   1st Qu.:2.00                1st Qu.:1.000      \n",
       " Median :1.000   Median :3.00                Median :2.000      \n",
       " Mean   :1.144   Mean   :2.85                Mean   :2.373      \n",
       " 3rd Qu.:1.000   3rd Qu.:4.00                3rd Qu.:3.000      \n",
       " Max.   :3.000   Max.   :4.00                Max.   :4.000      \n",
       "      Age        Concurrent.Credits Type.of.apartment\n",
       " Min.   :19.00   Min.   :1.000      Min.   :1.000    \n",
       " 1st Qu.:27.00   1st Qu.:3.000      1st Qu.:2.000    \n",
       " Median :33.00   Median :3.000      Median :2.000    \n",
       " Mean   :35.31   Mean   :2.672      Mean   :1.927    \n",
       " 3rd Qu.:41.00   3rd Qu.:3.000      3rd Qu.:2.000    \n",
       " Max.   :75.00   Max.   :3.000      Max.   :3.000    \n",
       " No.of.Credits.at.this.Bank   Occupation  No.of.dependents   Telephone    \n",
       " Min.   :1.000              Min.   :1.0   Min.   :1.000    Min.   :1.000  \n",
       " 1st Qu.:1.000              1st Qu.:3.0   1st Qu.:1.000    1st Qu.:1.000  \n",
       " Median :1.000              Median :3.0   Median :1.000    Median :1.000  \n",
       " Mean   :1.404              Mean   :2.9   Mean   :1.151    Mean   :1.408  \n",
       " 3rd Qu.:2.000              3rd Qu.:3.0   3rd Qu.:1.000    3rd Qu.:2.000  \n",
       " Max.   :4.000              Max.   :4.0   Max.   :2.000    Max.   :2.000  \n",
       " Foreign.Worker\n",
       " Min.   :1.00  \n",
       " 1st Qu.:1.00  \n",
       " Median :1.00  \n",
       " Mean   :1.03  \n",
       " 3rd Qu.:1.00  \n",
       " Max.   :2.00  "
      ]
     },
     "metadata": {},
     "output_type": "display_data"
    }
   ],
   "source": [
    "credit <- read.csv(\"creditability.csv\")\n",
    "\n",
    "summary(credit)"
   ]
  },
  {
   "cell_type": "code",
   "execution_count": 73,
   "metadata": {
    "collapsed": true
   },
   "outputs": [
    {
     "data": {
      "text/html": [
       "<table>\n",
       "<thead><tr><th></th><th scope=col>Creditability</th></tr></thead>\n",
       "<tbody>\n",
       "\t<tr><th scope=row>1</th><td>1</td></tr>\n",
       "\t<tr><th scope=row>2</th><td>1</td></tr>\n",
       "\t<tr><th scope=row>3</th><td>1</td></tr>\n",
       "\t<tr><th scope=row>4</th><td>1</td></tr>\n",
       "\t<tr><th scope=row>5</th><td>1</td></tr>\n",
       "\t<tr><th scope=row>6</th><td>1</td></tr>\n",
       "\t<tr><th scope=row>8</th><td>1</td></tr>\n",
       "\t<tr><th scope=row>9</th><td>1</td></tr>\n",
       "\t<tr><th scope=row>10</th><td>1</td></tr>\n",
       "\t<tr><th scope=row>11</th><td>1</td></tr>\n",
       "\t<tr><th scope=row>12</th><td>1</td></tr>\n",
       "\t<tr><th scope=row>13</th><td>1</td></tr>\n",
       "\t<tr><th scope=row>14</th><td>1</td></tr>\n",
       "\t<tr><th scope=row>15</th><td>1</td></tr>\n",
       "\t<tr><th scope=row>16</th><td>1</td></tr>\n",
       "\t<tr><th scope=row>17</th><td>1</td></tr>\n",
       "\t<tr><th scope=row>19</th><td>1</td></tr>\n",
       "\t<tr><th scope=row>20</th><td>1</td></tr>\n",
       "\t<tr><th scope=row>21</th><td>0</td></tr>\n",
       "\t<tr><th scope=row>22</th><td>1</td></tr>\n",
       "\t<tr><th scope=row>23</th><td>1</td></tr>\n",
       "\t<tr><th scope=row>24</th><td>1</td></tr>\n",
       "\t<tr><th scope=row>25</th><td>1</td></tr>\n",
       "\t<tr><th scope=row>26</th><td>1</td></tr>\n",
       "\t<tr><th scope=row>28</th><td>1</td></tr>\n",
       "\t<tr><th scope=row>29</th><td>1</td></tr>\n",
       "\t<tr><th scope=row>33</th><td>1</td></tr>\n",
       "\t<tr><th scope=row>34</th><td>1</td></tr>\n",
       "\t<tr><th scope=row>41</th><td>1</td></tr>\n",
       "\t<tr><th scope=row>42</th><td>0</td></tr>\n",
       "\t<tr><th scope=row>...</th><td>...</td></tr>\n",
       "\t<tr><th scope=row>866</th><td>0</td></tr>\n",
       "\t<tr><th scope=row>868</th><td>0</td></tr>\n",
       "\t<tr><th scope=row>869</th><td>0</td></tr>\n",
       "\t<tr><th scope=row>870</th><td>0</td></tr>\n",
       "\t<tr><th scope=row>871</th><td>0</td></tr>\n",
       "\t<tr><th scope=row>873</th><td>0</td></tr>\n",
       "\t<tr><th scope=row>874</th><td>0</td></tr>\n",
       "\t<tr><th scope=row>875</th><td>0</td></tr>\n",
       "\t<tr><th scope=row>877</th><td>0</td></tr>\n",
       "\t<tr><th scope=row>878</th><td>0</td></tr>\n",
       "\t<tr><th scope=row>879</th><td>0</td></tr>\n",
       "\t<tr><th scope=row>880</th><td>0</td></tr>\n",
       "\t<tr><th scope=row>881</th><td>0</td></tr>\n",
       "\t<tr><th scope=row>882</th><td>0</td></tr>\n",
       "\t<tr><th scope=row>883</th><td>0</td></tr>\n",
       "\t<tr><th scope=row>884</th><td>0</td></tr>\n",
       "\t<tr><th scope=row>885</th><td>0</td></tr>\n",
       "\t<tr><th scope=row>887</th><td>0</td></tr>\n",
       "\t<tr><th scope=row>888</th><td>0</td></tr>\n",
       "\t<tr><th scope=row>889</th><td>0</td></tr>\n",
       "\t<tr><th scope=row>890</th><td>0</td></tr>\n",
       "\t<tr><th scope=row>891</th><td>0</td></tr>\n",
       "\t<tr><th scope=row>892</th><td>0</td></tr>\n",
       "\t<tr><th scope=row>893</th><td>0</td></tr>\n",
       "\t<tr><th scope=row>894</th><td>0</td></tr>\n",
       "\t<tr><th scope=row>895</th><td>0</td></tr>\n",
       "\t<tr><th scope=row>896</th><td>0</td></tr>\n",
       "\t<tr><th scope=row>897</th><td>0</td></tr>\n",
       "\t<tr><th scope=row>899</th><td>0</td></tr>\n",
       "\t<tr><th scope=row>900</th><td>0</td></tr>\n",
       "</tbody>\n",
       "</table>\n"
      ],
      "text/latex": [
       "\\begin{tabular}{r|l}\n",
       "  & Creditability\\\\\n",
       "\\hline\n",
       "\t1 & 1\\\\\n",
       "\t2 & 1\\\\\n",
       "\t3 & 1\\\\\n",
       "\t4 & 1\\\\\n",
       "\t5 & 1\\\\\n",
       "\t6 & 1\\\\\n",
       "\t8 & 1\\\\\n",
       "\t9 & 1\\\\\n",
       "\t10 & 1\\\\\n",
       "\t11 & 1\\\\\n",
       "\t12 & 1\\\\\n",
       "\t13 & 1\\\\\n",
       "\t14 & 1\\\\\n",
       "\t15 & 1\\\\\n",
       "\t16 & 1\\\\\n",
       "\t17 & 1\\\\\n",
       "\t19 & 1\\\\\n",
       "\t20 & 1\\\\\n",
       "\t21 & 0\\\\\n",
       "\t22 & 1\\\\\n",
       "\t23 & 1\\\\\n",
       "\t24 & 1\\\\\n",
       "\t25 & 1\\\\\n",
       "\t26 & 1\\\\\n",
       "\t28 & 1\\\\\n",
       "\t29 & 1\\\\\n",
       "\t33 & 1\\\\\n",
       "\t34 & 1\\\\\n",
       "\t41 & 1\\\\\n",
       "\t42 & 0\\\\\n",
       "\t... & ...\\\\\n",
       "\t866 & 0\\\\\n",
       "\t868 & 0\\\\\n",
       "\t869 & 0\\\\\n",
       "\t870 & 0\\\\\n",
       "\t871 & 0\\\\\n",
       "\t873 & 0\\\\\n",
       "\t874 & 0\\\\\n",
       "\t875 & 0\\\\\n",
       "\t877 & 0\\\\\n",
       "\t878 & 0\\\\\n",
       "\t879 & 0\\\\\n",
       "\t880 & 0\\\\\n",
       "\t881 & 0\\\\\n",
       "\t882 & 0\\\\\n",
       "\t883 & 0\\\\\n",
       "\t884 & 0\\\\\n",
       "\t885 & 0\\\\\n",
       "\t887 & 0\\\\\n",
       "\t888 & 0\\\\\n",
       "\t889 & 0\\\\\n",
       "\t890 & 0\\\\\n",
       "\t891 & 0\\\\\n",
       "\t892 & 0\\\\\n",
       "\t893 & 0\\\\\n",
       "\t894 & 0\\\\\n",
       "\t895 & 0\\\\\n",
       "\t896 & 0\\\\\n",
       "\t897 & 0\\\\\n",
       "\t899 & 0\\\\\n",
       "\t900 & 0\\\\\n",
       "\\end{tabular}\n"
      ],
      "text/markdown": [
       "\n",
       "| <!--/--> | Creditability | \n",
       "|---|---|---|---|---|---|---|---|---|---|---|---|---|---|---|---|---|---|---|---|---|---|---|---|---|---|---|---|---|---|---|---|---|---|---|---|---|---|---|---|---|---|---|---|---|---|---|---|---|---|---|---|---|---|---|---|---|---|---|---|---|\n",
       "| 1 | 1 | \n",
       "| 2 | 1 | \n",
       "| 3 | 1 | \n",
       "| 4 | 1 | \n",
       "| 5 | 1 | \n",
       "| 6 | 1 | \n",
       "| 8 | 1 | \n",
       "| 9 | 1 | \n",
       "| 10 | 1 | \n",
       "| 11 | 1 | \n",
       "| 12 | 1 | \n",
       "| 13 | 1 | \n",
       "| 14 | 1 | \n",
       "| 15 | 1 | \n",
       "| 16 | 1 | \n",
       "| 17 | 1 | \n",
       "| 19 | 1 | \n",
       "| 20 | 1 | \n",
       "| 21 | 0 | \n",
       "| 22 | 1 | \n",
       "| 23 | 1 | \n",
       "| 24 | 1 | \n",
       "| 25 | 1 | \n",
       "| 26 | 1 | \n",
       "| 28 | 1 | \n",
       "| 29 | 1 | \n",
       "| 33 | 1 | \n",
       "| 34 | 1 | \n",
       "| 41 | 1 | \n",
       "| 42 | 0 | \n",
       "| ... | ... | \n",
       "| 866 | 0 | \n",
       "| 868 | 0 | \n",
       "| 869 | 0 | \n",
       "| 870 | 0 | \n",
       "| 871 | 0 | \n",
       "| 873 | 0 | \n",
       "| 874 | 0 | \n",
       "| 875 | 0 | \n",
       "| 877 | 0 | \n",
       "| 878 | 0 | \n",
       "| 879 | 0 | \n",
       "| 880 | 0 | \n",
       "| 881 | 0 | \n",
       "| 882 | 0 | \n",
       "| 883 | 0 | \n",
       "| 884 | 0 | \n",
       "| 885 | 0 | \n",
       "| 887 | 0 | \n",
       "| 888 | 0 | \n",
       "| 889 | 0 | \n",
       "| 890 | 0 | \n",
       "| 891 | 0 | \n",
       "| 892 | 0 | \n",
       "| 893 | 0 | \n",
       "| 894 | 0 | \n",
       "| 895 | 0 | \n",
       "| 896 | 0 | \n",
       "| 897 | 0 | \n",
       "| 899 | 0 | \n",
       "| 900 | 0 | \n",
       "\n",
       "\n"
      ],
      "text/plain": [
       "    Creditability\n",
       "1   1            \n",
       "2   1            \n",
       "3   1            \n",
       "4   1            \n",
       "5   1            \n",
       "6   1            \n",
       "8   1            \n",
       "9   1            \n",
       "10  1            \n",
       "11  1            \n",
       "12  1            \n",
       "13  1            \n",
       "14  1            \n",
       "15  1            \n",
       "16  1            \n",
       "17  1            \n",
       "19  1            \n",
       "20  1            \n",
       "21  0            \n",
       "22  1            \n",
       "23  1            \n",
       "24  1            \n",
       "25  1            \n",
       "26  1            \n",
       "28  1            \n",
       "29  1            \n",
       "33  1            \n",
       "34  1            \n",
       "41  1            \n",
       "42  0            \n",
       "... ...          \n",
       "866 0            \n",
       "868 0            \n",
       "869 0            \n",
       "870 0            \n",
       "871 0            \n",
       "873 0            \n",
       "874 0            \n",
       "875 0            \n",
       "877 0            \n",
       "878 0            \n",
       "879 0            \n",
       "880 0            \n",
       "881 0            \n",
       "882 0            \n",
       "883 0            \n",
       "884 0            \n",
       "885 0            \n",
       "887 0            \n",
       "888 0            \n",
       "889 0            \n",
       "890 0            \n",
       "891 0            \n",
       "892 0            \n",
       "893 0            \n",
       "894 0            \n",
       "895 0            \n",
       "896 0            \n",
       "897 0            \n",
       "899 0            \n",
       "900 0            "
      ]
     },
     "metadata": {},
     "output_type": "display_data"
    }
   ],
   "source": [
    "p1 <- subset(credit, Account.Balance == 4 , select=c(Creditability))\n",
    "p2 <- subset(credit, Account.Balance < 4 , select=c(Creditability))\n",
    "\n",
    "#p1\n",
    "p2"
   ]
  },
  {
   "cell_type": "code",
   "execution_count": 23,
   "metadata": {},
   "outputs": [
    {
     "data": {
      "text/html": [
       "363"
      ],
      "text/latex": [
       "363"
      ],
      "text/markdown": [
       "363"
      ],
      "text/plain": [
       "[1] 363"
      ]
     },
     "metadata": {},
     "output_type": "display_data"
    },
    {
     "data": {
      "text/html": [
       "537"
      ],
      "text/latex": [
       "537"
      ],
      "text/markdown": [
       "537"
      ],
      "text/plain": [
       "[1] 537"
      ]
     },
     "metadata": {},
     "output_type": "display_data"
    },
    {
     "data": {
      "text/html": [
       "363"
      ],
      "text/latex": [
       "363"
      ],
      "text/markdown": [
       "363"
      ],
      "text/plain": [
       "[1] 363"
      ]
     },
     "metadata": {},
     "output_type": "display_data"
    }
   ],
   "source": [
    "length(p1$Creditability)"
   ]
  },
  {
   "cell_type": "code",
   "execution_count": 18,
   "metadata": {},
   "outputs": [],
   "source": [
    "simulasi <- 2000\n",
    "#a<-replicate(2000,mean(sample(x1, length(x1), replace=TRUE)) - mean(sample(x2, length(x2), replace=TRUE)))"
   ]
  },
  {
   "cell_type": "code",
   "execution_count": 69,
   "metadata": {},
   "outputs": [],
   "source": [
    "re_p1 <- replicate(simulasi,sum(sample(p1$Creditability, length(p1$Creditability), replace=TRUE)))\n",
    "#re_p1\n",
    "p1_persen <- re_p1/length(p1$Creditability)*100\n",
    "#p1_persen\n",
    "re_p2 <- replicate(simulasi,sum(sample(p2$Creditability, length(p2$Creditability), replace=TRUE)))\n",
    "#re_p2\n",
    "p2_persen <- re_p2/length(p2$Creditability)*100"
   ]
  },
  {
   "cell_type": "code",
   "execution_count": 57,
   "metadata": {},
   "outputs": [
    {
     "data": {
      "text/plain": [
       "   Min. 1st Qu.  Median    Mean 3rd Qu.    Max. \n",
       "  298.0   315.0   319.0   319.1   323.0   337.0 "
      ]
     },
     "metadata": {},
     "output_type": "display_data"
    }
   ],
   "source": [
    "summary(re_p1)"
   ]
  },
  {
   "cell_type": "code",
   "execution_count": 77,
   "metadata": {},
   "outputs": [
    {
     "data": {
      "text/html": [
       "0.4865"
      ],
      "text/latex": [
       "0.4865"
      ],
      "text/markdown": [
       "0.4865"
      ],
      "text/plain": [
       "[1] 0.4865"
      ]
     },
     "metadata": {},
     "output_type": "display_data"
    }
   ],
   "source": [
    "sel_persen = p1_persen-p2_persen >= 25\n",
    "#sel_persen\n",
    "sum(sel_persen)/2000"
   ]
  },
  {
   "cell_type": "code",
   "execution_count": 62,
   "metadata": {
    "collapsed": true
   },
   "outputs": [
    {
     "data": {
      "text/plain": [
       "\n",
       "\tOne Sample t-test\n",
       "\n",
       "data:  selisih\n",
       "t = 57.827, df = 999, p-value < 2.2e-16\n",
       "alternative hypothesis: true mean is greater than 25\n",
       "95 percent confidence interval:\n",
       " 29.84203      Inf\n",
       "sample estimates:\n",
       "mean of x \n",
       " 29.98393 \n"
      ]
     },
     "metadata": {},
     "output_type": "display_data"
    }
   ],
   "source": [
    "selisih = p1_persen - p2_persen\n",
    "t.test(selisih, mu = 25,  alternative=\"greater\", conf.level=0.95)"
   ]
  },
  {
   "cell_type": "code",
   "execution_count": null,
   "metadata": {},
   "outputs": [],
   "source": []
  }
 ],
 "metadata": {
  "kernelspec": {
   "display_name": "R",
   "language": "R",
   "name": "ir"
  },
  "language_info": {
   "codemirror_mode": "r",
   "file_extension": ".r",
   "mimetype": "text/x-r-source",
   "name": "R",
   "pygments_lexer": "r",
   "version": "3.4.3"
  }
 },
 "nbformat": 4,
 "nbformat_minor": 2
}
